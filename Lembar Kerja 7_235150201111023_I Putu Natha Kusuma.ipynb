{
 "cells": [
  {
   "cell_type": "markdown",
   "id": "e08e20a2-0e54-4d76-9487-545f678c3755",
   "metadata": {},
   "source": [
    "Nama: I Putu Natha Kusuma\n",
    "\n",
    "NIM: 235150201111023\n",
    "\n",
    "Kelas: Teknik Informatika B"
   ]
  },
  {
   "cell_type": "markdown",
   "id": "61883dcb-a9f7-4075-b206-ea725248c584",
   "metadata": {},
   "source": [
    "$y(x) = x+9$\n",
    "\n",
    "$y(2) = 2 + 9 = 11$"
   ]
  },
  {
   "cell_type": "code",
   "execution_count": 1,
   "id": "e1ec0670-ba17-4ec2-917e-8321daa0666d",
   "metadata": {
    "tags": []
   },
   "outputs": [],
   "source": [
    "def y(x):\n",
    "    return x+9"
   ]
  },
  {
   "cell_type": "code",
   "execution_count": 2,
   "id": "8c544ac6-4acf-4a27-a8ab-048acc5a65b6",
   "metadata": {
    "tags": []
   },
   "outputs": [
    {
     "data": {
      "text/plain": [
       "11"
      ]
     },
     "execution_count": 2,
     "metadata": {},
     "output_type": "execute_result"
    }
   ],
   "source": [
    "y(2)"
   ]
  },
  {
   "cell_type": "code",
   "execution_count": 3,
   "id": "82255c58-7502-4603-aeca-efe5adee0dc8",
   "metadata": {
    "tags": []
   },
   "outputs": [],
   "source": [
    "def fungsi1():\n",
    "    print(\"halo dunia\")"
   ]
  },
  {
   "cell_type": "code",
   "execution_count": 4,
   "id": "8dc97868-9919-4f5b-96f5-1253deed6aee",
   "metadata": {
    "tags": []
   },
   "outputs": [
    {
     "name": "stdout",
     "output_type": "stream",
     "text": [
      "halo dunia\n"
     ]
    }
   ],
   "source": [
    "fungsi1()"
   ]
  },
  {
   "cell_type": "code",
   "execution_count": 5,
   "id": "4d132838-ea0c-467d-a845-111fd001ac14",
   "metadata": {
    "tags": []
   },
   "outputs": [],
   "source": [
    "def fungsi2(nama):\n",
    "    print(f\"Selamat pagi {nama}\")"
   ]
  },
  {
   "cell_type": "code",
   "execution_count": 6,
   "id": "fc7a6f5b-46db-4813-819f-2c604e153128",
   "metadata": {
    "tags": []
   },
   "outputs": [
    {
     "name": "stdout",
     "output_type": "stream",
     "text": [
      "Selamat pagi Natha\n"
     ]
    }
   ],
   "source": [
    "fungsi2(\"Natha\")"
   ]
  },
  {
   "cell_type": "code",
   "execution_count": 7,
   "id": "91c60a2b-1a66-467b-9177-b7215d946408",
   "metadata": {
    "tags": []
   },
   "outputs": [],
   "source": [
    "def fungsi3(nama_depan, nama_belakang):\n",
    "    print(f\"Selamat pagi {nama_depan} {nama_belakang}\")"
   ]
  },
  {
   "cell_type": "code",
   "execution_count": 8,
   "id": "5ba1a5b4-f444-4084-a0e3-10d02f90af85",
   "metadata": {
    "tags": []
   },
   "outputs": [
    {
     "name": "stdout",
     "output_type": "stream",
     "text": [
      "Selamat pagi Natha Kusuma\n"
     ]
    }
   ],
   "source": [
    "fungsi3(\"Natha\", \"Kusuma\")"
   ]
  },
  {
   "cell_type": "code",
   "execution_count": 9,
   "id": "49390516-2113-449f-bc36-7c69404075ba",
   "metadata": {},
   "outputs": [],
   "source": [
    "def fungsi4(*nama):\n",
    "    print(f\"Mahasiswa terbaik {nama[1]}\")"
   ]
  },
  {
   "cell_type": "code",
   "execution_count": 10,
   "id": "6218546f-21bf-4edf-934d-ff1edc7b8766",
   "metadata": {
    "tags": []
   },
   "outputs": [
    {
     "name": "stdout",
     "output_type": "stream",
     "text": [
      "Mahasiswa terbaik Budi\n"
     ]
    }
   ],
   "source": [
    "fungsi4(\"Ali\", \"Budi\", \"Caca\", \"Didi\", \"Eko\", \"Fani\")"
   ]
  },
  {
   "cell_type": "code",
   "execution_count": 11,
   "id": "eb4c892f-6589-45d2-a1fe-06eff5c7e1e1",
   "metadata": {
    "tags": []
   },
   "outputs": [
    {
     "name": "stdout",
     "output_type": "stream",
     "text": [
      "Mahasiswa terbaik Budi\n"
     ]
    }
   ],
   "source": [
    "fungsi4(\"Ali\", \"Budi\", \"Caca\", \"Didi\", \"Eko\")"
   ]
  },
  {
   "cell_type": "code",
   "execution_count": 12,
   "id": "05ab45b9-9e91-409e-a87c-ff829f8562fd",
   "metadata": {
    "tags": []
   },
   "outputs": [
    {
     "ename": "IndexError",
     "evalue": "tuple index out of range",
     "output_type": "error",
     "traceback": [
      "\u001b[1;31m---------------------------------------------------------------------------\u001b[0m",
      "\u001b[1;31mIndexError\u001b[0m                                Traceback (most recent call last)",
      "Cell \u001b[1;32mIn[12], line 1\u001b[0m\n\u001b[1;32m----> 1\u001b[0m fungsi4(\u001b[38;5;124m\"\u001b[39m\u001b[38;5;124mAli\u001b[39m\u001b[38;5;124m\"\u001b[39m)\n",
      "Cell \u001b[1;32mIn[9], line 2\u001b[0m, in \u001b[0;36mfungsi4\u001b[1;34m(*nama)\u001b[0m\n\u001b[0;32m      1\u001b[0m \u001b[38;5;28;01mdef\u001b[39;00m \u001b[38;5;21mfungsi4\u001b[39m(\u001b[38;5;241m*\u001b[39mnama):\n\u001b[1;32m----> 2\u001b[0m     \u001b[38;5;28mprint\u001b[39m(\u001b[38;5;124mf\u001b[39m\u001b[38;5;124m\"\u001b[39m\u001b[38;5;124mMahasiswa terbaik \u001b[39m\u001b[38;5;132;01m{\u001b[39;00mnama[\u001b[38;5;241m1\u001b[39m]\u001b[38;5;132;01m}\u001b[39;00m\u001b[38;5;124m\"\u001b[39m)\n",
      "\u001b[1;31mIndexError\u001b[0m: tuple index out of range"
     ]
    }
   ],
   "source": [
    "fungsi4(\"Ali\")"
   ]
  },
  {
   "cell_type": "markdown",
   "id": "85172ac4-366e-4ca9-a7b7-fb43ca5b0fc1",
   "metadata": {},
   "source": [
    "> Error karena index yang dipanggil adalah index 1, tetapi hanya ada sampai index 0"
   ]
  },
  {
   "cell_type": "code",
   "execution_count": 13,
   "id": "03bba824-2895-4e67-a9fd-323267a8a096",
   "metadata": {
    "tags": []
   },
   "outputs": [],
   "source": [
    "def fungsi5(mahasiswa1, mahasiswa2, mahasiswa3):\n",
    "    print(f\"mahasiswa terbaik : {mahasiswa2}\")"
   ]
  },
  {
   "cell_type": "code",
   "execution_count": 14,
   "id": "a997f180-3c24-41d1-8cae-710624426ea7",
   "metadata": {
    "tags": []
   },
   "outputs": [
    {
     "name": "stdout",
     "output_type": "stream",
     "text": [
      "mahasiswa terbaik : Budi\n"
     ]
    }
   ],
   "source": [
    "fungsi5(\"Ali\", \"Budi\", \"Caca\")"
   ]
  },
  {
   "cell_type": "code",
   "execution_count": 15,
   "id": "551783e4-4af6-4d34-92f9-3a14886b87f7",
   "metadata": {
    "tags": []
   },
   "outputs": [],
   "source": [
    "def fungsi6(mahasiswa1, mahasiswa3, mahasiswa2):\n",
    "    print(f\"mahasiswa terbaik : {mahasiswa2}\")"
   ]
  },
  {
   "cell_type": "code",
   "execution_count": 16,
   "id": "0efb5d44-e324-4406-8b96-dbfdb63bdfbd",
   "metadata": {
    "tags": []
   },
   "outputs": [
    {
     "name": "stdout",
     "output_type": "stream",
     "text": [
      "mahasiswa terbaik : Caca\n"
     ]
    }
   ],
   "source": [
    "fungsi6(\"Ali\", \"Budi\", \"Caca\")"
   ]
  },
  {
   "cell_type": "code",
   "execution_count": 17,
   "id": "25c7942b-22e7-4842-b3ef-12f5de5234e5",
   "metadata": {
    "tags": []
   },
   "outputs": [],
   "source": [
    "def fungsi7(mahasiswa1=\"Zizi\", mahasiswa2=\"Yoga\", mahasiswa3=\"Xavi\"):\n",
    "    print(f\"mahasiswa terbaik : {mahasiswa2}\")"
   ]
  },
  {
   "cell_type": "code",
   "execution_count": 18,
   "id": "803b280e-05a5-4710-820b-d450d2209a8a",
   "metadata": {
    "tags": []
   },
   "outputs": [
    {
     "name": "stdout",
     "output_type": "stream",
     "text": [
      "mahasiswa terbaik : Budi\n"
     ]
    }
   ],
   "source": [
    "fungsi7(\"Ali\", \"Budi\", \"Caca\")"
   ]
  },
  {
   "cell_type": "code",
   "execution_count": 19,
   "id": "a3b1e680-c985-4fa2-af92-968c89e780a5",
   "metadata": {
    "tags": []
   },
   "outputs": [
    {
     "name": "stdout",
     "output_type": "stream",
     "text": [
      "mahasiswa terbaik : Yoga\n"
     ]
    }
   ],
   "source": [
    "fungsi7()"
   ]
  },
  {
   "cell_type": "markdown",
   "id": "c8a3cf5e-a908-4d46-bcdf-a35f9bfc70dc",
   "metadata": {},
   "source": [
    "Buatlah fungsi kuadrat pada python\n",
    "\n",
    "```kuadrat(a) = a*a```"
   ]
  },
  {
   "cell_type": "code",
   "execution_count": 20,
   "id": "9b65bd4a-7ae8-4a41-ad6e-35b555a2a5dc",
   "metadata": {
    "tags": []
   },
   "outputs": [],
   "source": [
    "def kuadrat(a):\n",
    "    return a*a"
   ]
  },
  {
   "cell_type": "code",
   "execution_count": 21,
   "id": "54d9c2b1-86af-4a95-8486-b813fc235d90",
   "metadata": {
    "tags": []
   },
   "outputs": [
    {
     "data": {
      "text/plain": [
       "36"
      ]
     },
     "execution_count": 21,
     "metadata": {},
     "output_type": "execute_result"
    }
   ],
   "source": [
    "kuadrat(6)"
   ]
  },
  {
   "cell_type": "code",
   "execution_count": 22,
   "id": "cadc9e13-6190-4a36-8201-850058a0c917",
   "metadata": {
    "tags": []
   },
   "outputs": [
    {
     "name": "stdout",
     "output_type": "stream",
     "text": [
      "Help on built-in function print in module builtins:\n",
      "\n",
      "print(*args, sep=' ', end='\\n', file=None, flush=False)\n",
      "    Prints the values to a stream, or to sys.stdout by default.\n",
      "    \n",
      "    sep\n",
      "      string inserted between values, default a space.\n",
      "    end\n",
      "      string appended after the last value, default a newline.\n",
      "    file\n",
      "      a file-like object (stream); defaults to the current sys.stdout.\n",
      "    flush\n",
      "      whether to forcibly flush the stream.\n",
      "\n"
     ]
    }
   ],
   "source": [
    "help(print)"
   ]
  },
  {
   "cell_type": "code",
   "execution_count": 23,
   "id": "ee64e308-5825-4cd6-8f85-c515680c82e5",
   "metadata": {
    "tags": []
   },
   "outputs": [],
   "source": [
    "def fungsi5(mahasiswa1, mahasiswa2, mahasiswa3):\n",
    "    # fungsi5 digunakan untuk memilih mahasiswa terbaik\n",
    "    print(f\"mahasiswa terbaik : {mahasiswa2}\")"
   ]
  },
  {
   "cell_type": "code",
   "execution_count": 24,
   "id": "8c3ff141-0798-4b6f-878b-13f91226e096",
   "metadata": {
    "tags": []
   },
   "outputs": [
    {
     "name": "stdout",
     "output_type": "stream",
     "text": [
      "Help on function fungsi5 in module __main__:\n",
      "\n",
      "fungsi5(mahasiswa1, mahasiswa2, mahasiswa3)\n",
      "\n"
     ]
    }
   ],
   "source": [
    "help(fungsi5)"
   ]
  },
  {
   "cell_type": "code",
   "execution_count": 25,
   "id": "4c52205c-9cdc-4825-b308-274231a30ef4",
   "metadata": {
    "tags": []
   },
   "outputs": [],
   "source": [
    "def fungsi5(mahasiswa1, mahasiswa2, mahasiswa3):\n",
    "    '''\n",
    "    fungsi5 digunakan untuk memilih mahasiswa terbaik\n",
    "    '''\n",
    "    print(f\"mahasiswa terbaik : {mahasiswa2}\")"
   ]
  },
  {
   "cell_type": "code",
   "execution_count": 26,
   "id": "2c0d044b-95e7-4d04-9390-624a0bdc5a54",
   "metadata": {
    "tags": []
   },
   "outputs": [
    {
     "name": "stdout",
     "output_type": "stream",
     "text": [
      "Help on function fungsi5 in module __main__:\n",
      "\n",
      "fungsi5(mahasiswa1, mahasiswa2, mahasiswa3)\n",
      "    fungsi5 digunakan untuk memilih mahasiswa terbaik\n",
      "\n"
     ]
    }
   ],
   "source": [
    "help(fungsi5)"
   ]
  },
  {
   "cell_type": "code",
   "execution_count": 27,
   "id": "11228ef9-adfd-4001-9299-0c49aada089e",
   "metadata": {
    "tags": []
   },
   "outputs": [],
   "source": [
    "def kuadrat(a):\n",
    "    '''\n",
    "    ini fungsi untuk melipat gandakan nilai a\n",
    "    '''\n",
    "    return a*a"
   ]
  },
  {
   "cell_type": "code",
   "execution_count": 28,
   "id": "98c4aa47-acba-4ba7-a9f6-547bf4cb4764",
   "metadata": {
    "tags": []
   },
   "outputs": [
    {
     "name": "stdout",
     "output_type": "stream",
     "text": [
      "Help on function kuadrat in module __main__:\n",
      "\n",
      "kuadrat(a)\n",
      "    ini fungsi untuk melipat gandakan nilai a\n",
      "\n"
     ]
    }
   ],
   "source": [
    "help(kuadrat)"
   ]
  }
 ],
 "metadata": {
  "kernelspec": {
   "display_name": "Python 3 (ipykernel)",
   "language": "python",
   "name": "python3"
  },
  "language_info": {
   "codemirror_mode": {
    "name": "ipython",
    "version": 3
   },
   "file_extension": ".py",
   "mimetype": "text/x-python",
   "name": "python",
   "nbconvert_exporter": "python",
   "pygments_lexer": "ipython3",
   "version": "3.11.5"
  }
 },
 "nbformat": 4,
 "nbformat_minor": 5
}
