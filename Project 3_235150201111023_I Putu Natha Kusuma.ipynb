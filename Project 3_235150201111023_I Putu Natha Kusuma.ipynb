{
  "nbformat": 4,
  "nbformat_minor": 0,
  "metadata": {
    "colab": {
      "provenance": []
    },
    "kernelspec": {
      "name": "python3",
      "display_name": "Python 3"
    },
    "language_info": {
      "name": "python"
    }
  },
  "cells": [
    {
      "cell_type": "markdown",
      "source": [
        "# **Soal 1**\n",
        "\n",
        "Sebuah dadu dilempar sekali, berapakan peluang munculnya mata dadu 1 atau mata dadu 5?\n",
        "\n",
        "$A \\rightarrow$ kejadian munculnya mata dadu 1 atau mata dadu 5\n",
        "\n",
        "$$p(A) = \\frac{n(A)}{n(S)}$$\n",
        "\n",
        "$$n(A) = 2$$\n",
        "\n",
        "$$n(S) = 6$$\n",
        "\n",
        "$$p(A) = \\frac{2}{6} = \\frac{1}{3}$$\n"
      ],
      "metadata": {
        "id": "yXJ1J9FeX-Jf"
      }
    },
    {
      "cell_type": "code",
      "execution_count": null,
      "metadata": {
        "colab": {
          "base_uri": "https://localhost:8080/",
          "height": 51
        },
        "id": "Mfyf8Sh7hmQF",
        "outputId": "d7d90c3e-2a9f-4ef7-b4cd-cea507300be6"
      },
      "outputs": [
        {
          "output_type": "execute_result",
          "data": {
            "text/plain": [
              "1/3"
            ],
            "text/latex": "$\\displaystyle \\frac{1}{3}$"
          },
          "metadata": {},
          "execution_count": 1
        }
      ],
      "source": [
        "from sympy.stats import P, Die\n",
        "from sympy import Eq\n",
        "\n",
        "X = Die('X', 6)\n",
        "P(Eq(X, 1)) + P(Eq(X, 2))"
      ]
    },
    {
      "cell_type": "markdown",
      "source": [
        "# **Soal 2**\n",
        "\n",
        "Dalam sebuah populasi pembaca majalah IT ditemukan persentasi pembaca majalah CHIP, PC PLUS dan INFO KOMPUTER serta kombinasinya sbb:\n",
        "\n",
        "CHIP= 9,8%\n",
        "\n",
        "PC PLUS= 22,9%\n",
        "\n",
        "INFO KOM= 12,1%\n",
        "\n",
        "CHIP dan PC PLUS= 5,1%\n",
        "\n",
        "PC PLUS dan INFO KOM= 3,7%\n",
        "\n",
        "CHIP dan INFO KOM= 6,0%\n",
        "\n",
        "CHIP dan PC PLUS dan INFO KOM= 2,4%\n",
        "\n",
        "\\\\\n",
        "\n",
        "**Pertanyaan:**"
      ],
      "metadata": {
        "id": "MC57Glcqb5Cm"
      }
    },
    {
      "cell_type": "markdown",
      "source": [
        "a. Berapa persen dari populasi yang membaca paling sedikit satu dari tiga majalah tersebut?\n",
        "\n",
        "$C \\rightarrow$ pembaca majalah CHIP\n",
        "\n",
        "$P \\rightarrow$ pembaca majalah PC PLUS\n",
        "\n",
        "$I \\rightarrow$ pembaca majalah INFO KOM\n",
        "\n",
        "\n",
        "$$p(C) = 9.8\\%$$\n",
        "\n",
        "$$p(P) = 22.9\\%$$\n",
        "\n",
        "$$p(I) = 12.1\\%$$\n",
        "\n",
        "$$p(C \\cap P) = 5.1\\%$$\n",
        "\n",
        "$$p(P \\cap I) = 3.7\\%$$\n",
        "\n",
        "$$p(C \\cap I) = 6.0\\%$$\n",
        "\n",
        "$$p(C \\cap P \\cap I) = 2.4\\%$$\n",
        "\n",
        "$$p(C \\cup P \\cup I) = p(C) + p(P) + p(I) - p(C \\cap P) - p(P \\cap I) - p(C \\cap I) + p(C \\cap P \\cap I)$$\n",
        "\n",
        "$$p(C \\cup P \\cup I) = 9.8\\% + 22.9\\% + 12.1\\% - 5.1\\% - 3.7\\% - 6.0\\% + 2.4\\%$$\n",
        "\n",
        "$$p(C \\cup P \\cup I) = 32.4\\%$$"
      ],
      "metadata": {
        "id": "j8z_pbk1coIC"
      }
    },
    {
      "cell_type": "code",
      "source": [
        "C = 0.098\n",
        "P = 0.229\n",
        "I = 0.121\n",
        "C_n_P = 0.051\n",
        "P_n_I = 0.037\n",
        "C_n_I = 0.06\n",
        "C_n_P_n_I = 0.024\n",
        "\n",
        "C_u_P_u_I = C + P + I - C_n_P - P_n_I - C_n_I + C_n_P_n_I\n",
        "\n",
        "print(str(C_u_P_u_I * 100) + \"%\")"
      ],
      "metadata": {
        "id": "U07kOHM8c1Oz",
        "colab": {
          "base_uri": "https://localhost:8080/"
        },
        "outputId": "bc467113-9c6d-4fd6-a27d-164a87e6983f"
      },
      "execution_count": null,
      "outputs": [
        {
          "output_type": "stream",
          "name": "stdout",
          "text": [
            "32.400000000000006%\n"
          ]
        }
      ]
    },
    {
      "cell_type": "markdown",
      "source": [
        "b. Berapakah probabilitas seorang yang dipilih secara acak (random) dari populasi tersebut adalah pembaca majalah CHIP atau PC PLUS\n",
        "\n",
        "$$p(C) = 9.8\\%$$\n",
        "\n",
        "$$p(P) = 22.9\\%$$\n",
        "\n",
        "$$p(C \\cap P) = 5.1\\%$$\n",
        "\n",
        "$$p(C \\cup P) = p(C) + p(P) - p(C \\cap P)$$\n",
        "\n",
        "$$p(C \\cup P) = 9.8\\% + 22.9\\% - 5.1\\%$$\n",
        "\n",
        "$$p(C \\cup P) = 27.6\\%$$"
      ],
      "metadata": {
        "id": "aL4bIRahc1i6"
      }
    },
    {
      "cell_type": "code",
      "source": [
        "C_u_P = C + P - C_n_P\n",
        "\n",
        "print(str(C_u_P*100)+\"%\")"
      ],
      "metadata": {
        "id": "LNa5CeKSc6SX",
        "colab": {
          "base_uri": "https://localhost:8080/"
        },
        "outputId": "1f0a494e-1fe8-40b2-f694-8753a27aa420"
      },
      "execution_count": null,
      "outputs": [
        {
          "output_type": "stream",
          "name": "stdout",
          "text": [
            "27.6%\n"
          ]
        }
      ]
    },
    {
      "cell_type": "markdown",
      "source": [
        "# **Soal 3**\n",
        "\n",
        "Dari hasil percobaan pelemparan dua buah dadu hanya 6 hasil yang menunjukkan munculnya nilai yang sama ($X=Y$) yaitu:\n",
        "\n",
        "$A \\rightarrow$ kejadian munculnya nilai yang sama ($X=Y$)\n",
        "\n",
        "$$A = \\{ (1,1) , (2,2) , (3,3) , (4,4) , (5,5) , (6,6) \\}$$"
      ],
      "metadata": {
        "id": "0ulzuF8idjwl"
      }
    },
    {
      "cell_type": "markdown",
      "source": [
        "Kemungkinan munculnya nilai yang sama adalah\n",
        "\n",
        "$$p(A) = \\frac{n(A)}{n(S)}$$\n",
        "\n",
        "$$n(A) = 6$$\n",
        "\n",
        "$$n(S) = 6^2 = 36$$\n",
        "\n",
        "$$p(A) = \\frac{6}{36} = \\frac{1}{6}$$"
      ],
      "metadata": {
        "id": "YoNiX3hUd2cn"
      }
    },
    {
      "cell_type": "code",
      "source": [
        "from sympy.stats import P, Die\n",
        "from sympy import Eq\n",
        "\n",
        "X = Die('X', 6)\n",
        "Y = Die('Y', 6)\n",
        "\n",
        "p_A = P(Eq(X,Y))\n",
        "p_A"
      ],
      "metadata": {
        "id": "NV_gtcpkd7IG",
        "colab": {
          "base_uri": "https://localhost:8080/",
          "height": 51
        },
        "outputId": "bfb9c706-a5e4-40de-b49d-5c3789a9013c"
      },
      "execution_count": null,
      "outputs": [
        {
          "output_type": "execute_result",
          "data": {
            "text/plain": [
              "1/6"
            ],
            "text/latex": "$\\displaystyle \\frac{1}{6}$"
          },
          "metadata": {},
          "execution_count": 4
        }
      ]
    },
    {
      "cell_type": "markdown",
      "source": [
        "Kemungkinan munculnya nilai yang tidak sama adalah\n",
        "\n",
        "$\\bar{A} \\rightarrow$ kejadian munculnya nilai yang tidak sama ($X \\neq Y$)\n",
        "\n",
        "$$p(\\bar{A}) = 1 - p(A)$$\n",
        "\n",
        "$$p(\\bar{A}) = 1 - \\frac{1}{6}$$\n",
        "\n",
        "$$p(\\bar{A}) = \\frac{5}{6}$$"
      ],
      "metadata": {
        "id": "VRaeWJMgd4to"
      }
    },
    {
      "cell_type": "code",
      "source": [
        "1 - p_A"
      ],
      "metadata": {
        "id": "AibzKJD_d7oD",
        "colab": {
          "base_uri": "https://localhost:8080/",
          "height": 51
        },
        "outputId": "b4f7e81e-713d-475b-effb-4662250a9b71"
      },
      "execution_count": null,
      "outputs": [
        {
          "output_type": "execute_result",
          "data": {
            "text/plain": [
              "5/6"
            ],
            "text/latex": "$\\displaystyle \\frac{5}{6}$"
          },
          "metadata": {},
          "execution_count": 5
        }
      ]
    },
    {
      "cell_type": "markdown",
      "source": [
        "Seluruh kemungkinan hasil pelemparan dua buah dadu adalah\n",
        "\n",
        "$$S = \\{(1,1), (1,2), (1,3), (1,4), (1,5), (1,6), (2,1), (2,2), (2,3), (2,4), (2,5), (2,6), (3,1), (3,2), (3,3), (3,4), (3,5), (3,6), (4,1), (4,2), (4,3), (4,4), (4,5), (4,6), (5,1), (5,2), (5,3), (5,4), (5,5), (5,6), (6,1), (6,2), (6,3), (6,4), (6,5), (6,6)\\}$$\n",
        "\n",
        "$A \\rightarrow$ seluruh kemungkinan hasil pelemparan dua buah dadu\n",
        "\n",
        "$$p(A) = \\frac{36}{36} = 1$$\n"
      ],
      "metadata": {
        "id": "etxjJW-nd6jT"
      }
    },
    {
      "cell_type": "code",
      "source": [
        "from sympy.stats import P, Die\n",
        "from sympy import Eq, Ne\n",
        "\n",
        "X = Die('X', 6)\n",
        "Y = Die('Y', 6)\n",
        "\n",
        "print(\"{\", end=\"\")\n",
        "for i in range(1, 7):\n",
        "    for j in range(1, 7):\n",
        "        print(f\"({i},{j})\", end=\"\")\n",
        "        if i != 6 or j != 6:\n",
        "            print(\", \", end=\"\")\n",
        "print(\"}\", end=\"\")\n",
        "\n",
        "p_A = P(Eq(X,Y)) + P(Ne(X,Y))\n",
        "p_A"
      ],
      "metadata": {
        "id": "h1db5r4ud8GP",
        "colab": {
          "base_uri": "https://localhost:8080/",
          "height": 75
        },
        "outputId": "66542e93-c9d1-48cc-ade6-344692122775"
      },
      "execution_count": null,
      "outputs": [
        {
          "output_type": "stream",
          "name": "stdout",
          "text": [
            "{(1,1), (1,2), (1,3), (1,4), (1,5), (1,6), (2,1), (2,2), (2,3), (2,4), (2,5), (2,6), (3,1), (3,2), (3,3), (3,4), (3,5), (3,6), (4,1), (4,2), (4,3), (4,4), (4,5), (4,6), (5,1), (5,2), (5,3), (5,4), (5,5), (5,6), (6,1), (6,2), (6,3), (6,4), (6,5), (6,6)}"
          ]
        },
        {
          "output_type": "execute_result",
          "data": {
            "text/plain": [
              "1"
            ],
            "text/latex": "$\\displaystyle 1$"
          },
          "metadata": {},
          "execution_count": 6
        }
      ]
    },
    {
      "cell_type": "markdown",
      "source": [
        "# **Soal 4**\n",
        "\n",
        "Dari hasil percobaan pelemparan dua buah dadu: merah dan putih, Berapakah kemungkinan munculnya nilai x ≤ 3 pada dadu merah dan nilai y ≥ 5 pada dadu putih?\n",
        "\n",
        "$M \\rightarrow$ kejadian munculnya nilai dadu $X \\leq 3$\n",
        "\n",
        "$P \\rightarrow$ kejadian munculnya nilai dadu $Y \\geq 5$\n",
        "\n",
        "$$n(M) = 3$$\n",
        "\n",
        "$$n(P) = 2$$\n",
        "\n",
        "$$p(M) = \\frac{3}{6} = \\frac{1}{2}$$\n",
        "\n",
        "$$p(P) = \\frac{2}{6} = \\frac{1}{3}$$\n",
        "\n",
        "Karena kejadian $M$ dan $P$ saling lepas, maka:\n",
        "\n",
        "$$p(M \\cap P) = p(M) \\times p(P)$$\n",
        "\n",
        "$$p(M \\cap P) = \\frac{1}{2} \\times \\frac{1}{3}$$\n",
        "\n",
        "$$p(M \\cap P) = \\frac{1}{6}$$\n"
      ],
      "metadata": {
        "id": "hSrIADFqeWv-"
      }
    },
    {
      "cell_type": "code",
      "source": [
        "from sympy.stats import P, Die\n",
        "\n",
        "X = Die('X')\n",
        "Y = Die('Y')\n",
        "\n",
        "M = P(X<=3)\n",
        "P = P(Y>=5)\n",
        "M_n_P = M * P\n",
        "M_n_P"
      ],
      "metadata": {
        "id": "rFULOobeeiyb",
        "colab": {
          "base_uri": "https://localhost:8080/",
          "height": 51
        },
        "outputId": "d83ba20d-39a2-4428-d574-cad1559fb9b7"
      },
      "execution_count": null,
      "outputs": [
        {
          "output_type": "execute_result",
          "data": {
            "text/plain": [
              "1/6"
            ],
            "text/latex": "$\\displaystyle \\frac{1}{6}$"
          },
          "metadata": {},
          "execution_count": 7
        }
      ]
    },
    {
      "cell_type": "markdown",
      "source": [
        "# **Soal 5**\n",
        "\n",
        "Dari hasil percobaan pelemparan dua buah dadu: merah ($X$) dan putih ($Y$), Bila $X+Y <4$ , berapakah probabilitas kejadian $X=1$? $\\rightarrow p(A | B )$\n",
        "\n",
        "$A \\rightarrow$ kejadian dadu $X=1$\n",
        "\n",
        "$B \\rightarrow$ kejadian dadu $X+Y<4$\n",
        "\n",
        "$B = \\{(1,1),(1,2),(2,1)\\}$\n",
        "\n",
        "$A \\cap B = \\{(1,1),(1,2)\\}$\n",
        "\n",
        "$$p(B) = \\frac{3}{36}$$\n",
        "\n",
        "$$p(A \\cap B) = \\frac{2}{36}$$\n",
        "\n",
        "$$p(A | B) = \\frac{p(A \\cap B)}{p(B)}$$\n",
        "\n",
        "$$p(A | B) = \\frac{\\frac{2}{36}}{\\frac{3}{36}}$$\n",
        "\n",
        "$$p(A | B) = \\frac{2}{3}$$"
      ],
      "metadata": {
        "id": "OQ_yBr_mfVgP"
      }
    },
    {
      "cell_type": "code",
      "source": [
        "from sympy.stats import P, Die\n",
        "from sympy import Eq\n",
        "\n",
        "X = Die('X', 6)\n",
        "Y = Die('Y', 6)\n",
        "\n",
        "A = Eq(X, 1)\n",
        "B = X+Y<4\n",
        "\n",
        "p_A_n_B = P(A & B)\n",
        "p_B = P(B)\n",
        "\n",
        "p_A_IF_B = p_A_n_B / p_B\n",
        "p_A_IF_B"
      ],
      "metadata": {
        "id": "bH1PBuF5f-gN",
        "colab": {
          "base_uri": "https://localhost:8080/",
          "height": 51
        },
        "outputId": "98a8d63d-66b5-449a-8f60-296fd54bb833"
      },
      "execution_count": null,
      "outputs": [
        {
          "output_type": "execute_result",
          "data": {
            "text/plain": [
              "2/3"
            ],
            "text/latex": "$\\displaystyle \\frac{2}{3}$"
          },
          "metadata": {},
          "execution_count": 8
        }
      ]
    },
    {
      "cell_type": "markdown",
      "source": [
        "# **Soal 6**\n",
        "\n",
        "<style type=\"text/css\">\n",
        ".tg  {border-collapse:collapse;border-spacing:0;}\n",
        ".tg td{border-color:black;border-style:solid;border-width:1px;font-family:Arial, sans-serif;font-size:14px;\n",
        "  overflow:hidden;padding:10px 5px;word-break:normal;}\n",
        ".tg th{border-color:black;border-style:solid;border-width:1px;font-family:Arial, sans-serif;font-size:14px;\n",
        "  font-weight:normal;overflow:hidden;padding:10px 5px;word-break:normal;}\n",
        ".tg .tg-c3ow{border-color:inherit;text-align:center;vertical-align:top}\n",
        ".tg .tg-0pky{border-color:inherit;text-align:left;vertical-align:top}\n",
        "</style>\n",
        "<table class=\"tg\">\n",
        "<thead>\n",
        "  <tr>\n",
        "    <th class=\"tg-0pky\" rowspan=\"2\">Jenis Rambut</th>\n",
        "    <th class=\"tg-c3ow\" colspan=\"2\">Warna Rambut</th>\n",
        "  </tr>\n",
        "  <tr>\n",
        "    <th class=\"tg-c3ow\">Hitam</th>\n",
        "    <th class=\"tg-c3ow\">Pirang</th>\n",
        "  </tr>\n",
        "</thead>\n",
        "<tbody>\n",
        "  <tr>\n",
        "    <td class=\"tg-0pky\">Lurus</td>\n",
        "    <td class=\"tg-0pky\">2</td>\n",
        "    <td class=\"tg-0pky\">0</td>\n",
        "  </tr>\n",
        "  <tr>\n",
        "    <td class=\"tg-0pky\">Ikal</td>\n",
        "    <td class=\"tg-0pky\">2</td>\n",
        "    <td class=\"tg-0pky\">4</td>\n",
        "  </tr>\n",
        "  <tr>\n",
        "    <td class=\"tg-0pky\">Keriting</td>\n",
        "    <td class=\"tg-0pky\">2</td>\n",
        "    <td class=\"tg-0pky\">2</td>\n",
        "  </tr>\n",
        "</tbody>\n",
        "</table>\n",
        "\n",
        "Berapa peluang terpilihnya anak berambut lurus dengan syarat warna rambut anak tersebut hitam?\n",
        "\n",
        "$A \\rightarrow$ anak berambut lurus\n",
        "\n",
        "$B \\rightarrow$ anak berambut hitam\n",
        "\n",
        "$$n(S) = 12$$\n",
        "\n",
        "$$n(B) = 6$$\n",
        "\n",
        "$$n(A \\cap B) = 2$$\n",
        "\n",
        "$$p(B) = \\frac{6}{36}$$\n",
        "\n",
        "$$p(A \\cap B) = \\frac{2}{36}$$\n",
        "\n",
        "$$p(A|B) = \\frac{p(A \\cap B)}{p(B)}$$\n",
        "\n",
        "$$p(A|B) = \\frac{\\frac{2}{36}}{\\frac{6}{36}}$$\n",
        "\n",
        "$$p(A|B) = \\frac{1}{3}$$\n"
      ],
      "metadata": {
        "id": "jiU7xZ_yf71I"
      }
    },
    {
      "cell_type": "code",
      "source": [
        "n_S = 12\n",
        "n_B = 6\n",
        "n_A_n_B = 2\n",
        "\n",
        "p_B = n_B / n_S\n",
        "p_A_n_B = n_A_n_B / n_S\n",
        "\n",
        "p_A_IF_B = p_A_n_B / p_B\n",
        "\n",
        "p_A_IF_B"
      ],
      "metadata": {
        "id": "EmSrirjZiFIW",
        "colab": {
          "base_uri": "https://localhost:8080/"
        },
        "outputId": "f34c1bef-a2d3-4504-e81a-0773210ada8d"
      },
      "execution_count": null,
      "outputs": [
        {
          "output_type": "execute_result",
          "data": {
            "text/plain": [
              "0.3333333333333333"
            ]
          },
          "metadata": {},
          "execution_count": 9
        }
      ]
    },
    {
      "cell_type": "markdown",
      "source": [
        "# **Soal 7**\n",
        "\n",
        "Seorang pembeli memeriksa barang yg baru saja dibelinya. Dari 100 barang yang diterima terdapat 10 barang yg rusak. Apabila diambil satu barang secara acak dari seluruh barang sebanyak dua kali dengan pengembalian, berapa probabilitas bahwa kedua barang yg diambil tersebut rusak?\n",
        "\n",
        "$A \\rightarrow$ kejadian terambil satu barang rusak pada pengambilan ke-1\n",
        "\n",
        "$B \\rightarrow$ kejadian terambil satu barang rusak pada pengambilan ke-2\n",
        "\n",
        "$$p(A) = p(B) = \\frac{10}{100} = \\frac{1}{10}$$\n",
        "\n",
        "$$p(A \\cap B) = p(A) \\times p(B)$$\n",
        "\n",
        "$$p(A \\cap B) = \\frac{1}{10} \\times \\frac{1}{10}$$\n",
        "\n",
        "$$p(A \\cap B) = \\frac{1}{100}$$"
      ],
      "metadata": {
        "id": "YL6xdzRx5-P2"
      }
    },
    {
      "cell_type": "code",
      "source": [
        "from sympy.stats import P, Die\n",
        "\n",
        "A = Die('A', 100)\n",
        "B = Die('B', 100)\n",
        "\n",
        "p_A = P(A <= 10)\n",
        "p_B = P(B <= 10)\n",
        "\n",
        "p_A_n_B = p_A * p_B\n",
        "p_A_n_B"
      ],
      "metadata": {
        "id": "wwTMmY3n6ImO",
        "colab": {
          "base_uri": "https://localhost:8080/",
          "height": 51
        },
        "outputId": "e43bbc9d-fb02-4510-87d3-289601648ce4"
      },
      "execution_count": null,
      "outputs": [
        {
          "output_type": "execute_result",
          "data": {
            "text/plain": [
              "1/100"
            ],
            "text/latex": "$\\displaystyle \\frac{1}{100}$"
          },
          "metadata": {},
          "execution_count": 10
        }
      ]
    }
  ]
}