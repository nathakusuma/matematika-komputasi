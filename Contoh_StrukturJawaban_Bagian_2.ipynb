{
 "nbformat": 4,
 "nbformat_minor": 0,
 "metadata": {
  "colab": {
   "provenance": []
  },
  "kernelspec": {
   "name": "python3",
   "display_name": "Python 3"
  },
  "language_info": {
   "name": "python"
  }
 },
 "cells": [
  {
   "cell_type": "markdown",
   "source": [
    "# **Soal Nomor 1**\n"
   ],
   "metadata": {
    "id": "hNyfMtf4m9IW"
   }
  },
  {
   "cell_type": "markdown",
   "source": [
    "# Tuliskan kembali soal 1A"
   ],
   "metadata": {
    "id": "XcCkclodoFse"
   }
  },
  {
   "cell_type": "code",
   "source": [],
   "metadata": {
    "id": "MnfwERYL1ISW"
   },
   "execution_count": null,
   "outputs": []
  },
  {
   "cell_type": "markdown",
   "source": [
    "Jawaban 1A"
   ],
   "metadata": {
    "id": "h__Qshr7nUgV"
   }
  },
  {
   "cell_type": "code",
   "execution_count": null,
   "metadata": {
    "id": "Vdj7HLWsm5CR"
   },
   "outputs": [],
   "source": [
    "#tuliskan kode penyelesaian pada bagian ini untuk soal nomor 1a"
   ]
  },
  {
   "cell_type": "markdown",
   "source": [
    "# Tuliskan kembali soal 1B"
   ],
   "metadata": {
    "id": "W-Bsk9BIoKK1"
   }
  },
  {
   "cell_type": "markdown",
   "source": [
    "Jawaban 1B"
   ],
   "metadata": {
    "id": "w35FrqjKnPzK"
   }
  },
  {
   "cell_type": "code",
   "source": [
    "#tuliskan kode penyelesaian pada bagian ini untuk soal nomor 1b"
   ],
   "metadata": {
    "id": "BG__Es2nnnxO"
   },
   "execution_count": null,
   "outputs": []
  },
  {
   "cell_type": "markdown",
   "source": [
    "# Tuliskan kembali soal 1C"
   ],
   "metadata": {
    "id": "QmXdeWOtoN2o"
   }
  },
  {
   "cell_type": "markdown",
   "source": [
    "Jawaban 1C"
   ],
   "metadata": {
    "id": "6bbNy8PxnsuW"
   }
  },
  {
   "cell_type": "code",
   "source": [
    "#tuliskan kode penyelesaian pada bagian ini untuk soal nomor 1c"
   ],
   "metadata": {
    "id": "TOH1cc4mn0Ym"
   },
   "execution_count": null,
   "outputs": []
  },
  {
   "cell_type": "markdown",
   "source": [
    "# Tuliskan kembali soal 1D"
   ],
   "metadata": {
    "id": "p95bYqfH0e-6"
   }
  },
  {
   "cell_type": "markdown",
   "source": [
    "Letakkan Gambar hasil screen capture ChatGPT pada bagian ini"
   ],
   "metadata": {
    "id": "YsBMGeTvnfq2"
   }
  },
  {
   "cell_type": "markdown",
   "source": [
    "Uraikan jawaban Anda untuk nomor 1D pada bagian ini"
   ],
   "metadata": {
    "id": "kq7e8wd10kyT"
   }
  },
  {
   "cell_type": "markdown",
   "source": [
    "# Tuliskan kembali soal 1E"
   ],
   "metadata": {
    "id": "4dHkVsdM00YQ"
   }
  },
  {
   "cell_type": "markdown",
   "source": [
    "Uraikan jawaban Anda untuk nomor 1E pada bagian ini"
   ],
   "metadata": {
    "id": "mLmf1D2l0wX_"
   }
  },
  {
   "cell_type": "markdown",
   "source": [
    "Letakkan Gambar hasil screen capture Bard pada bagian ini"
   ],
   "metadata": {
    "id": "79jP9PAGnxg-"
   }
  }
 ]
}
