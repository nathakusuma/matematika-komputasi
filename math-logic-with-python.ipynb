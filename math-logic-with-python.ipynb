{
 "cells": [
  {
   "cell_type": "markdown",
   "source": [
    "# Math Logic with Python\n",
    "**Pemateri** : **Natha**\n"
   ],
   "metadata": {
    "collapsed": false
   },
   "id": "78a32ae18058f324"
  },
  {
   "cell_type": "markdown",
   "source": [
    "# Print Output"
   ],
   "metadata": {
    "collapsed": false
   },
   "id": "febc1213572b6f89"
  },
  {
   "cell_type": "code",
   "execution_count": 67,
   "id": "initial_id",
   "metadata": {
    "collapsed": true,
    "ExecuteTime": {
     "end_time": "2023-12-01T16:39:31.829812300Z",
     "start_time": "2023-12-01T16:39:31.002918600Z"
    }
   },
   "outputs": [
    {
     "name": "stdout",
     "output_type": "stream",
     "text": [
      "Hello world!\n"
     ]
    }
   ],
   "source": [
    "print(\"Hello world!\")"
   ]
  },
  {
   "cell_type": "code",
   "execution_count": 68,
   "outputs": [
    {
     "data": {
      "text/plain": "'Hello world!'"
     },
     "execution_count": 68,
     "metadata": {},
     "output_type": "execute_result"
    }
   ],
   "source": [
    "\"Hello world!\""
   ],
   "metadata": {
    "collapsed": false,
    "ExecuteTime": {
     "end_time": "2023-12-01T16:39:32.420203900Z",
     "start_time": "2023-12-01T16:39:31.012492500Z"
    }
   },
   "id": "6ff9e2cd14cc9a02"
  },
  {
   "cell_type": "markdown",
   "source": [
    "# Variabel"
   ],
   "metadata": {
    "collapsed": false
   },
   "id": "6c37d95472c3dc84"
  },
  {
   "cell_type": "code",
   "execution_count": 69,
   "outputs": [
    {
     "name": "stdout",
     "output_type": "stream",
     "text": [
      "Halo Budi\n"
     ]
    }
   ],
   "source": [
    "x = \"Budi\"\n",
    "print(\"Halo \"+x)"
   ],
   "metadata": {
    "collapsed": false,
    "ExecuteTime": {
     "end_time": "2023-12-01T16:39:32.420203900Z",
     "start_time": "2023-12-01T16:39:31.022494Z"
    }
   },
   "id": "cf241bb17fe27245"
  },
  {
   "cell_type": "code",
   "execution_count": 70,
   "outputs": [
    {
     "data": {
      "text/plain": "'Halo Budi'"
     },
     "execution_count": 70,
     "metadata": {},
     "output_type": "execute_result"
    }
   ],
   "source": [
    "x = \"Budi\"\n",
    "\"Halo \"+x"
   ],
   "metadata": {
    "collapsed": false,
    "ExecuteTime": {
     "end_time": "2023-12-01T16:39:32.489661100Z",
     "start_time": "2023-12-01T16:39:31.029685400Z"
    }
   },
   "id": "4a765290ca6ddfe0"
  },
  {
   "cell_type": "markdown",
   "source": [
    "# Sympy"
   ],
   "metadata": {
    "collapsed": false
   },
   "id": "494ec38d32a48e36"
  },
  {
   "cell_type": "code",
   "execution_count": 71,
   "outputs": [],
   "source": [
    "from sympy import *"
   ],
   "metadata": {
    "collapsed": false,
    "ExecuteTime": {
     "end_time": "2023-12-01T16:39:32.489661100Z",
     "start_time": "2023-12-01T16:39:31.043786900Z"
    }
   },
   "id": "169012aad9f5a6c1"
  },
  {
   "cell_type": "markdown",
   "source": [
    "## Boolean"
   ],
   "metadata": {
    "collapsed": false
   },
   "id": "cb7171d642e8eafb"
  },
  {
   "cell_type": "code",
   "execution_count": 72,
   "outputs": [
    {
     "data": {
      "text/plain": "True",
      "text/latex": "$\\displaystyle \\text{True}$"
     },
     "execution_count": 72,
     "metadata": {},
     "output_type": "execute_result"
    }
   ],
   "source": [
    "true"
   ],
   "metadata": {
    "collapsed": false,
    "ExecuteTime": {
     "end_time": "2023-12-01T16:39:32.536962800Z",
     "start_time": "2023-12-01T16:39:31.057211400Z"
    }
   },
   "id": "4b53d671723d8fcf"
  },
  {
   "cell_type": "code",
   "execution_count": 73,
   "outputs": [
    {
     "data": {
      "text/plain": "False",
      "text/latex": "$\\displaystyle \\text{False}$"
     },
     "execution_count": 73,
     "metadata": {},
     "output_type": "execute_result"
    }
   ],
   "source": [
    "false"
   ],
   "metadata": {
    "collapsed": false,
    "ExecuteTime": {
     "end_time": "2023-12-01T16:39:32.590482700Z",
     "start_time": "2023-12-01T16:39:31.069388700Z"
    }
   },
   "id": "2d96d6304c52c40a"
  },
  {
   "cell_type": "markdown",
   "source": [],
   "metadata": {
    "collapsed": false
   },
   "id": "5c3f7e10275eaa1a"
  },
  {
   "cell_type": "code",
   "execution_count": 74,
   "outputs": [
    {
     "data": {
      "text/plain": "False",
      "text/latex": "$\\displaystyle \\text{False}$"
     },
     "execution_count": 74,
     "metadata": {},
     "output_type": "execute_result"
    }
   ],
   "source": [
    "Not(true)"
   ],
   "metadata": {
    "collapsed": false,
    "ExecuteTime": {
     "end_time": "2023-12-01T16:39:32.590482700Z",
     "start_time": "2023-12-01T16:39:31.077878800Z"
    }
   },
   "id": "3ff96e1aaf7e9823"
  },
  {
   "cell_type": "code",
   "execution_count": 75,
   "outputs": [
    {
     "data": {
      "text/plain": "True",
      "text/latex": "$\\displaystyle \\text{True}$"
     },
     "execution_count": 75,
     "metadata": {},
     "output_type": "execute_result"
    }
   ],
   "source": [
    "Not(false)"
   ],
   "metadata": {
    "collapsed": false,
    "ExecuteTime": {
     "end_time": "2023-12-01T16:39:32.643301900Z",
     "start_time": "2023-12-01T16:39:31.087201900Z"
    }
   },
   "id": "a7d401f3c60bac4"
  },
  {
   "cell_type": "code",
   "execution_count": 76,
   "outputs": [
    {
     "data": {
      "text/plain": "False",
      "text/latex": "$\\displaystyle \\text{False}$"
     },
     "execution_count": 76,
     "metadata": {},
     "output_type": "execute_result"
    }
   ],
   "source": [
    "And(true, false)"
   ],
   "metadata": {
    "collapsed": false,
    "ExecuteTime": {
     "end_time": "2023-12-01T16:39:32.643301900Z",
     "start_time": "2023-12-01T16:39:31.092721700Z"
    }
   },
   "id": "c68274c42e5913be"
  },
  {
   "cell_type": "code",
   "execution_count": 77,
   "outputs": [
    {
     "data": {
      "text/plain": "True",
      "text/latex": "$\\displaystyle \\text{True}$"
     },
     "execution_count": 77,
     "metadata": {},
     "output_type": "execute_result"
    }
   ],
   "source": [
    "Or(true, false)"
   ],
   "metadata": {
    "collapsed": false,
    "ExecuteTime": {
     "end_time": "2023-12-01T16:39:32.675113700Z",
     "start_time": "2023-12-01T16:39:31.101620700Z"
    }
   },
   "id": "954c43a3075c1d7b"
  },
  {
   "cell_type": "markdown",
   "source": [
    "## Symbol"
   ],
   "metadata": {
    "collapsed": false
   },
   "id": "80324f3c064586e6"
  },
  {
   "cell_type": "code",
   "execution_count": 78,
   "outputs": [
    {
     "data": {
      "text/plain": "x",
      "text/latex": "$\\displaystyle x$"
     },
     "execution_count": 78,
     "metadata": {},
     "output_type": "execute_result"
    }
   ],
   "source": [
    "x = Symbol('x')\n",
    "x"
   ],
   "metadata": {
    "collapsed": false,
    "ExecuteTime": {
     "end_time": "2023-12-01T16:39:32.676111Z",
     "start_time": "2023-12-01T16:39:31.111554600Z"
    }
   },
   "id": "730a6b184fe22a95"
  },
  {
   "cell_type": "code",
   "execution_count": 79,
   "outputs": [
    {
     "data": {
      "text/plain": "y",
      "text/latex": "$\\displaystyle y$"
     },
     "execution_count": 79,
     "metadata": {},
     "output_type": "execute_result"
    }
   ],
   "source": [
    "y = Symbol('y')\n",
    "y"
   ],
   "metadata": {
    "collapsed": false,
    "ExecuteTime": {
     "end_time": "2023-12-01T16:39:32.684164200Z",
     "start_time": "2023-12-01T16:39:31.121469900Z"
    }
   },
   "id": "2f98d1b89e974cb8"
  },
  {
   "cell_type": "code",
   "execution_count": 80,
   "outputs": [
    {
     "data": {
      "text/plain": "x**2 + 3*y",
      "text/latex": "$\\displaystyle x^{2} + 3 y$"
     },
     "execution_count": 80,
     "metadata": {},
     "output_type": "execute_result"
    }
   ],
   "source": [
    "x**2+3*y"
   ],
   "metadata": {
    "collapsed": false,
    "ExecuteTime": {
     "end_time": "2023-12-01T16:39:32.684164200Z",
     "start_time": "2023-12-01T16:39:31.133934600Z"
    }
   },
   "id": "48ee69c3571e7a8c"
  },
  {
   "cell_type": "code",
   "execution_count": 81,
   "outputs": [
    {
     "data": {
      "text/plain": "13",
      "text/latex": "$\\displaystyle 13$"
     },
     "execution_count": 81,
     "metadata": {},
     "output_type": "execute_result"
    }
   ],
   "source": [
    "(x**2+3*y).subs({x:2,y:3})"
   ],
   "metadata": {
    "collapsed": false,
    "ExecuteTime": {
     "end_time": "2023-12-01T16:39:32.702705600Z",
     "start_time": "2023-12-01T16:39:31.141333400Z"
    }
   },
   "id": "28540fe95dcf9438"
  },
  {
   "cell_type": "markdown",
   "source": [
    "$$x^2+3y$$\n",
    "$$(2)^2+3(3)$$\n",
    "$$4+9$$\n",
    "$$13$$"
   ],
   "metadata": {
    "collapsed": false
   },
   "id": "8370f60ab8912814"
  },
  {
   "cell_type": "code",
   "execution_count": 82,
   "outputs": [
    {
     "data": {
      "text/plain": "x**2 + 3*y",
      "text/latex": "$\\displaystyle x^{2} + 3 y$"
     },
     "execution_count": 82,
     "metadata": {},
     "output_type": "execute_result"
    }
   ],
   "source": [
    "expr = x**2+3*y\n",
    "expr"
   ],
   "metadata": {
    "collapsed": false,
    "ExecuteTime": {
     "end_time": "2023-12-01T16:39:32.736103100Z",
     "start_time": "2023-12-01T16:39:31.155560100Z"
    }
   },
   "id": "fe7f3622e35f85be"
  },
  {
   "cell_type": "code",
   "execution_count": 83,
   "outputs": [
    {
     "data": {
      "text/plain": "13",
      "text/latex": "$\\displaystyle 13$"
     },
     "execution_count": 83,
     "metadata": {},
     "output_type": "execute_result"
    }
   ],
   "source": [
    "expr.subs({x:2,y:3})"
   ],
   "metadata": {
    "collapsed": false,
    "ExecuteTime": {
     "end_time": "2023-12-01T16:39:32.742130400Z",
     "start_time": "2023-12-01T16:39:31.174959300Z"
    }
   },
   "id": "f05c636594c402ae"
  },
  {
   "cell_type": "markdown",
   "source": [
    "## Operasi Boolean Sederhana"
   ],
   "metadata": {
    "collapsed": false
   },
   "id": "a4312653997ab4d3"
  },
  {
   "cell_type": "code",
   "execution_count": 84,
   "outputs": [],
   "source": [
    "P = Symbol('P')\n",
    "Q = Symbol('Q')"
   ],
   "metadata": {
    "collapsed": false,
    "ExecuteTime": {
     "end_time": "2023-12-01T16:39:32.812135800Z",
     "start_time": "2023-12-01T16:39:31.187210500Z"
    }
   },
   "id": "563f3b759e8b4ba4"
  },
  {
   "cell_type": "markdown",
   "source": [
    "### Not"
   ],
   "metadata": {
    "collapsed": false
   },
   "id": "1012c78390cdd199"
  },
  {
   "cell_type": "code",
   "execution_count": 85,
   "outputs": [
    {
     "data": {
      "text/plain": "~P",
      "text/latex": "$\\displaystyle \\neg P$"
     },
     "execution_count": 85,
     "metadata": {},
     "output_type": "execute_result"
    }
   ],
   "source": [
    "expr = Not(P)\n",
    "expr"
   ],
   "metadata": {
    "collapsed": false,
    "ExecuteTime": {
     "end_time": "2023-12-01T16:39:32.866650300Z",
     "start_time": "2023-12-01T16:39:31.239934800Z"
    }
   },
   "id": "4cc0351abd76856"
  },
  {
   "cell_type": "markdown",
   "source": [
    "**Tabel Kebenaran *NOT***\n",
    "\n",
    "| P | output |\n",
    "|---| ------ |\n",
    "| T | F      |\n",
    "| F | T      |"
   ],
   "metadata": {
    "collapsed": false
   },
   "id": "5eec233b1376b54d"
  },
  {
   "cell_type": "code",
   "execution_count": 86,
   "outputs": [
    {
     "data": {
      "text/plain": "False",
      "text/latex": "$\\displaystyle \\text{False}$"
     },
     "execution_count": 86,
     "metadata": {},
     "output_type": "execute_result"
    }
   ],
   "source": [
    "expr.subs({P:true})"
   ],
   "metadata": {
    "collapsed": false,
    "ExecuteTime": {
     "end_time": "2023-12-01T16:39:32.883593Z",
     "start_time": "2023-12-01T16:39:31.257536Z"
    }
   },
   "id": "8603e6fac63f876f"
  },
  {
   "cell_type": "code",
   "execution_count": 87,
   "outputs": [
    {
     "data": {
      "text/plain": "True",
      "text/latex": "$\\displaystyle \\text{True}$"
     },
     "execution_count": 87,
     "metadata": {},
     "output_type": "execute_result"
    }
   ],
   "source": [
    "expr.subs({P:false})"
   ],
   "metadata": {
    "collapsed": false,
    "ExecuteTime": {
     "end_time": "2023-12-01T16:39:32.931528500Z",
     "start_time": "2023-12-01T16:39:31.273711400Z"
    }
   },
   "id": "2362c49eb7cf9a6d"
  },
  {
   "cell_type": "markdown",
   "source": [
    "### And"
   ],
   "metadata": {
    "collapsed": false
   },
   "id": "f3e02079f56dbe18"
  },
  {
   "cell_type": "code",
   "execution_count": 88,
   "outputs": [
    {
     "data": {
      "text/plain": "P & Q",
      "text/latex": "$\\displaystyle P \\wedge Q$"
     },
     "execution_count": 88,
     "metadata": {},
     "output_type": "execute_result"
    }
   ],
   "source": [
    "expr = And(P, Q)\n",
    "expr"
   ],
   "metadata": {
    "collapsed": false,
    "ExecuteTime": {
     "end_time": "2023-12-01T16:39:33.014820600Z",
     "start_time": "2023-12-01T16:39:31.287240Z"
    }
   },
   "id": "caa03f8190b25951"
  },
  {
   "cell_type": "markdown",
   "source": [
    "**Tabel Kebenaran *AND***\n",
    "\n",
    "| P | Q | output |\n",
    "|---|---| ------ |\n",
    "| F | F | F      |\n",
    "| F | T | F      |\n",
    "| T | F | F      |\n",
    "| T | T | T      |"
   ],
   "metadata": {
    "collapsed": false
   },
   "id": "7188022ce7df499d"
  },
  {
   "cell_type": "code",
   "execution_count": 89,
   "outputs": [
    {
     "data": {
      "text/plain": "False",
      "text/latex": "$\\displaystyle \\text{False}$"
     },
     "execution_count": 89,
     "metadata": {},
     "output_type": "execute_result"
    }
   ],
   "source": [
    "expr.subs({P:false, Q:false})"
   ],
   "metadata": {
    "collapsed": false,
    "ExecuteTime": {
     "end_time": "2023-12-01T16:39:33.078394500Z",
     "start_time": "2023-12-01T16:39:31.348564600Z"
    }
   },
   "id": "dee78f0803a5e1b9"
  },
  {
   "cell_type": "code",
   "execution_count": 90,
   "outputs": [
    {
     "data": {
      "text/plain": "False",
      "text/latex": "$\\displaystyle \\text{False}$"
     },
     "execution_count": 90,
     "metadata": {},
     "output_type": "execute_result"
    }
   ],
   "source": [
    "expr.subs({P:false, Q:true})"
   ],
   "metadata": {
    "collapsed": false,
    "ExecuteTime": {
     "end_time": "2023-12-01T16:39:33.079313100Z",
     "start_time": "2023-12-01T16:39:31.510398500Z"
    }
   },
   "id": "fd72eca38bfe0332"
  },
  {
   "cell_type": "code",
   "execution_count": 91,
   "outputs": [
    {
     "data": {
      "text/plain": "False",
      "text/latex": "$\\displaystyle \\text{False}$"
     },
     "execution_count": 91,
     "metadata": {},
     "output_type": "execute_result"
    }
   ],
   "source": [
    "expr.subs({P:true, Q:false})"
   ],
   "metadata": {
    "collapsed": false,
    "ExecuteTime": {
     "end_time": "2023-12-01T16:39:33.079313100Z",
     "start_time": "2023-12-01T16:39:31.511401400Z"
    }
   },
   "id": "10831fc9cfdbeb9e"
  },
  {
   "cell_type": "code",
   "execution_count": 92,
   "outputs": [
    {
     "data": {
      "text/plain": "True",
      "text/latex": "$\\displaystyle \\text{True}$"
     },
     "execution_count": 92,
     "metadata": {},
     "output_type": "execute_result"
    }
   ],
   "source": [
    "expr.subs({P:true, Q:true})"
   ],
   "metadata": {
    "collapsed": false,
    "ExecuteTime": {
     "end_time": "2023-12-01T16:39:33.079313100Z",
     "start_time": "2023-12-01T16:39:31.511401400Z"
    }
   },
   "id": "c7cbdaec712bec5"
  },
  {
   "cell_type": "markdown",
   "source": [
    "### OR"
   ],
   "metadata": {
    "collapsed": false
   },
   "id": "cf9b59922fc7c74a"
  },
  {
   "cell_type": "code",
   "execution_count": 93,
   "outputs": [
    {
     "data": {
      "text/plain": "P | Q",
      "text/latex": "$\\displaystyle P \\vee Q$"
     },
     "execution_count": 93,
     "metadata": {},
     "output_type": "execute_result"
    }
   ],
   "source": [
    "expr = Or(P, Q)\n",
    "expr"
   ],
   "metadata": {
    "collapsed": false,
    "ExecuteTime": {
     "end_time": "2023-12-01T16:39:33.079313100Z",
     "start_time": "2023-12-01T16:39:31.511401400Z"
    }
   },
   "id": "df0e559d8e138de3"
  },
  {
   "cell_type": "markdown",
   "source": [
    "**Tabel Kebenaran *OR***\n",
    "\n",
    "| P | Q | output |\n",
    "|---|---| ------ |\n",
    "| F | F | F      |\n",
    "| F | T | T      |\n",
    "| T | F | T      |\n",
    "| T | T | T      |"
   ],
   "metadata": {
    "collapsed": false
   },
   "id": "40b4453a589f38ee"
  },
  {
   "cell_type": "code",
   "execution_count": 94,
   "outputs": [
    {
     "data": {
      "text/plain": "False",
      "text/latex": "$\\displaystyle \\text{False}$"
     },
     "execution_count": 94,
     "metadata": {},
     "output_type": "execute_result"
    }
   ],
   "source": [
    "expr.subs({P:false, Q:false})"
   ],
   "metadata": {
    "collapsed": false,
    "ExecuteTime": {
     "end_time": "2023-12-01T16:39:33.079313100Z",
     "start_time": "2023-12-01T16:39:31.511401400Z"
    }
   },
   "id": "74e614c8dc655abf"
  },
  {
   "cell_type": "code",
   "execution_count": 95,
   "outputs": [
    {
     "data": {
      "text/plain": "True",
      "text/latex": "$\\displaystyle \\text{True}$"
     },
     "execution_count": 95,
     "metadata": {},
     "output_type": "execute_result"
    }
   ],
   "source": [
    "expr.subs({P:false, Q:true})"
   ],
   "metadata": {
    "collapsed": false,
    "ExecuteTime": {
     "end_time": "2023-12-01T16:39:33.079313100Z",
     "start_time": "2023-12-01T16:39:31.512800400Z"
    }
   },
   "id": "43d6dcc355a6364b"
  },
  {
   "cell_type": "code",
   "execution_count": 96,
   "outputs": [
    {
     "data": {
      "text/plain": "True",
      "text/latex": "$\\displaystyle \\text{True}$"
     },
     "execution_count": 96,
     "metadata": {},
     "output_type": "execute_result"
    }
   ],
   "source": [
    "expr.subs({P:true, Q:false})"
   ],
   "metadata": {
    "collapsed": false,
    "ExecuteTime": {
     "end_time": "2023-12-01T16:39:33.079313100Z",
     "start_time": "2023-12-01T16:39:31.512800400Z"
    }
   },
   "id": "6532737a56d00b27"
  },
  {
   "cell_type": "code",
   "execution_count": 97,
   "outputs": [
    {
     "data": {
      "text/plain": "True",
      "text/latex": "$\\displaystyle \\text{True}$"
     },
     "execution_count": 97,
     "metadata": {},
     "output_type": "execute_result"
    }
   ],
   "source": [
    "expr.subs({P:true, Q:true})"
   ],
   "metadata": {
    "collapsed": false,
    "ExecuteTime": {
     "end_time": "2023-12-01T16:39:33.079313100Z",
     "start_time": "2023-12-01T16:39:31.512800400Z"
    }
   },
   "id": "8510c2911f03cab0"
  },
  {
   "cell_type": "markdown",
   "source": [
    "### NAND (NOT AND)"
   ],
   "metadata": {
    "collapsed": false
   },
   "id": "8225f7b5f3dfbe0"
  },
  {
   "cell_type": "code",
   "execution_count": 98,
   "outputs": [
    {
     "data": {
      "text/plain": "~(P & Q)",
      "text/latex": "$\\displaystyle \\neg \\left(P \\wedge Q\\right)$"
     },
     "execution_count": 98,
     "metadata": {},
     "output_type": "execute_result"
    }
   ],
   "source": [
    "expr = Nand(P, Q)\n",
    "expr"
   ],
   "metadata": {
    "collapsed": false,
    "ExecuteTime": {
     "end_time": "2023-12-01T16:39:33.089355600Z",
     "start_time": "2023-12-01T16:39:31.512800400Z"
    }
   },
   "id": "bc27ef4247ac766d"
  },
  {
   "cell_type": "markdown",
   "source": [
    "**Tabel Kebenaran *NAND***\n",
    "\n",
    "| P | Q | output |\n",
    "|---|---|--------|\n",
    "| F | F | T      |\n",
    "| F | T | T      |\n",
    "| T | F | T      |\n",
    "| T | T | F      |"
   ],
   "metadata": {
    "collapsed": false
   },
   "id": "536723dcbc0581f9"
  },
  {
   "cell_type": "code",
   "execution_count": 99,
   "outputs": [
    {
     "data": {
      "text/plain": "True",
      "text/latex": "$\\displaystyle \\text{True}$"
     },
     "execution_count": 99,
     "metadata": {},
     "output_type": "execute_result"
    }
   ],
   "source": [
    "expr.subs({P:false, Q:false})"
   ],
   "metadata": {
    "collapsed": false,
    "ExecuteTime": {
     "end_time": "2023-12-01T16:39:33.089355600Z",
     "start_time": "2023-12-01T16:39:31.512800400Z"
    }
   },
   "id": "fe8cbe393745126e"
  },
  {
   "cell_type": "code",
   "execution_count": 100,
   "outputs": [
    {
     "data": {
      "text/plain": "True",
      "text/latex": "$\\displaystyle \\text{True}$"
     },
     "execution_count": 100,
     "metadata": {},
     "output_type": "execute_result"
    }
   ],
   "source": [
    "expr.subs({P:false, Q:true})"
   ],
   "metadata": {
    "collapsed": false,
    "ExecuteTime": {
     "end_time": "2023-12-01T16:39:33.089355600Z",
     "start_time": "2023-12-01T16:39:31.513785300Z"
    }
   },
   "id": "6680f1b2c3144246"
  },
  {
   "cell_type": "code",
   "execution_count": 101,
   "outputs": [
    {
     "data": {
      "text/plain": "True",
      "text/latex": "$\\displaystyle \\text{True}$"
     },
     "execution_count": 101,
     "metadata": {},
     "output_type": "execute_result"
    }
   ],
   "source": [
    "expr.subs({P:true, Q:false})"
   ],
   "metadata": {
    "collapsed": false,
    "ExecuteTime": {
     "end_time": "2023-12-01T16:39:33.089355600Z",
     "start_time": "2023-12-01T16:39:31.513785300Z"
    }
   },
   "id": "e7349fa5bdc7f905"
  },
  {
   "cell_type": "code",
   "execution_count": 102,
   "outputs": [
    {
     "data": {
      "text/plain": "False",
      "text/latex": "$\\displaystyle \\text{False}$"
     },
     "execution_count": 102,
     "metadata": {},
     "output_type": "execute_result"
    }
   ],
   "source": [
    "expr.subs({P:true, Q:true})"
   ],
   "metadata": {
    "collapsed": false,
    "ExecuteTime": {
     "end_time": "2023-12-01T16:39:33.090310400Z",
     "start_time": "2023-12-01T16:39:31.514290200Z"
    }
   },
   "id": "2ae439802c7215ce"
  },
  {
   "cell_type": "markdown",
   "source": [
    "### NOR (NOT OR)"
   ],
   "metadata": {
    "collapsed": false
   },
   "id": "518a863262e3513d"
  },
  {
   "cell_type": "code",
   "execution_count": 103,
   "outputs": [
    {
     "data": {
      "text/plain": "~(P | Q)",
      "text/latex": "$\\displaystyle \\neg \\left(P \\vee Q\\right)$"
     },
     "execution_count": 103,
     "metadata": {},
     "output_type": "execute_result"
    }
   ],
   "source": [
    "expr = Nor(P, Q)\n",
    "expr"
   ],
   "metadata": {
    "collapsed": false,
    "ExecuteTime": {
     "end_time": "2023-12-01T16:39:33.090310400Z",
     "start_time": "2023-12-01T16:39:31.514290200Z"
    }
   },
   "id": "7c8fecea48d66dcc"
  },
  {
   "cell_type": "markdown",
   "source": [
    "**Tabel Kebenaran *NOR***\n",
    "\n",
    "| P | Q | output |\n",
    "|---|---| ------ |\n",
    "| F | F | T      |\n",
    "| F | T | F      |\n",
    "| T | F | F      |\n",
    "| T | T | F      |"
   ],
   "metadata": {
    "collapsed": false
   },
   "id": "a12b29b8c82374ad"
  },
  {
   "cell_type": "code",
   "execution_count": 104,
   "outputs": [
    {
     "data": {
      "text/plain": "True",
      "text/latex": "$\\displaystyle \\text{True}$"
     },
     "execution_count": 104,
     "metadata": {},
     "output_type": "execute_result"
    }
   ],
   "source": [
    "expr.subs({P:false, Q:false})"
   ],
   "metadata": {
    "collapsed": false,
    "ExecuteTime": {
     "end_time": "2023-12-01T16:39:33.090310400Z",
     "start_time": "2023-12-01T16:39:31.514290200Z"
    }
   },
   "id": "e759c6c20ff50658"
  },
  {
   "cell_type": "code",
   "execution_count": 105,
   "outputs": [
    {
     "data": {
      "text/plain": "False",
      "text/latex": "$\\displaystyle \\text{False}$"
     },
     "execution_count": 105,
     "metadata": {},
     "output_type": "execute_result"
    }
   ],
   "source": [
    "expr.subs({P:false, Q:true})"
   ],
   "metadata": {
    "collapsed": false,
    "ExecuteTime": {
     "end_time": "2023-12-01T16:39:33.090310400Z",
     "start_time": "2023-12-01T16:39:31.514290200Z"
    }
   },
   "id": "1120e840b230e78e"
  },
  {
   "cell_type": "code",
   "execution_count": 106,
   "outputs": [
    {
     "data": {
      "text/plain": "False",
      "text/latex": "$\\displaystyle \\text{False}$"
     },
     "execution_count": 106,
     "metadata": {},
     "output_type": "execute_result"
    }
   ],
   "source": [
    "expr.subs({P:true, Q:false})"
   ],
   "metadata": {
    "collapsed": false,
    "ExecuteTime": {
     "end_time": "2023-12-01T16:39:33.090310400Z",
     "start_time": "2023-12-01T16:39:31.514290200Z"
    }
   },
   "id": "c8ac23e69f6e4fb7"
  },
  {
   "cell_type": "code",
   "execution_count": 107,
   "outputs": [
    {
     "data": {
      "text/plain": "False",
      "text/latex": "$\\displaystyle \\text{False}$"
     },
     "execution_count": 107,
     "metadata": {},
     "output_type": "execute_result"
    }
   ],
   "source": [
    "expr.subs({P:true, Q:true})"
   ],
   "metadata": {
    "collapsed": false,
    "ExecuteTime": {
     "end_time": "2023-12-01T16:39:33.105694300Z",
     "start_time": "2023-12-01T16:39:31.519183700Z"
    }
   },
   "id": "6814e035dbdcd98a"
  },
  {
   "cell_type": "markdown",
   "source": [
    "### XOR (Exclusive OR)"
   ],
   "metadata": {
    "collapsed": false
   },
   "id": "64b75e70ab65ef15"
  },
  {
   "cell_type": "code",
   "execution_count": 108,
   "outputs": [
    {
     "data": {
      "text/plain": "P ^ Q",
      "text/latex": "$\\displaystyle P \\veebar Q$"
     },
     "execution_count": 108,
     "metadata": {},
     "output_type": "execute_result"
    }
   ],
   "source": [
    "expr = Xor(P, Q)\n",
    "expr"
   ],
   "metadata": {
    "collapsed": false,
    "ExecuteTime": {
     "end_time": "2023-12-01T16:39:33.115661200Z",
     "start_time": "2023-12-01T16:39:31.532348800Z"
    }
   },
   "id": "688c7ecfb5f1ecf8"
  },
  {
   "cell_type": "markdown",
   "source": [
    "**Tabel Kebenaran *XOR***\n",
    "\n",
    "| P | Q | XOr |\n",
    "|---|---| --- |\n",
    "| F | F | F   |\n",
    "| F | T | T   |\n",
    "| T | F | T   |\n",
    "| T | T | F   |"
   ],
   "metadata": {
    "collapsed": false
   },
   "id": "a56c5e148225098f"
  },
  {
   "cell_type": "code",
   "execution_count": 109,
   "outputs": [
    {
     "data": {
      "text/plain": "False",
      "text/latex": "$\\displaystyle \\text{False}$"
     },
     "execution_count": 109,
     "metadata": {},
     "output_type": "execute_result"
    }
   ],
   "source": [
    "expr.subs({P:false, Q:false})"
   ],
   "metadata": {
    "collapsed": false,
    "ExecuteTime": {
     "end_time": "2023-12-01T16:39:33.185485200Z",
     "start_time": "2023-12-01T16:39:31.545204900Z"
    }
   },
   "id": "abd0bf649a8b884b"
  },
  {
   "cell_type": "code",
   "execution_count": 110,
   "outputs": [
    {
     "data": {
      "text/plain": "True",
      "text/latex": "$\\displaystyle \\text{True}$"
     },
     "execution_count": 110,
     "metadata": {},
     "output_type": "execute_result"
    }
   ],
   "source": [
    "expr.subs({P:false, Q:true})"
   ],
   "metadata": {
    "collapsed": false,
    "ExecuteTime": {
     "end_time": "2023-12-01T16:39:33.186482400Z",
     "start_time": "2023-12-01T16:39:31.557091500Z"
    }
   },
   "id": "d6a724df63b20cec"
  },
  {
   "cell_type": "code",
   "execution_count": 111,
   "outputs": [
    {
     "data": {
      "text/plain": "True",
      "text/latex": "$\\displaystyle \\text{True}$"
     },
     "execution_count": 111,
     "metadata": {},
     "output_type": "execute_result"
    }
   ],
   "source": [
    "expr.subs({P:true, Q:false})"
   ],
   "metadata": {
    "collapsed": false,
    "ExecuteTime": {
     "end_time": "2023-12-01T16:39:33.206415900Z",
     "start_time": "2023-12-01T16:39:31.569392900Z"
    }
   },
   "id": "339d69014b4d2741"
  },
  {
   "cell_type": "code",
   "execution_count": 112,
   "outputs": [
    {
     "data": {
      "text/plain": "False",
      "text/latex": "$\\displaystyle \\text{False}$"
     },
     "execution_count": 112,
     "metadata": {},
     "output_type": "execute_result"
    }
   ],
   "source": [
    "expr.subs({P:true, Q:true})"
   ],
   "metadata": {
    "collapsed": false,
    "ExecuteTime": {
     "end_time": "2023-12-01T16:39:33.266725900Z",
     "start_time": "2023-12-01T16:39:31.585211600Z"
    }
   },
   "id": "a3da61f083fdbcae"
  },
  {
   "cell_type": "markdown",
   "source": [
    "### XNOR (Exclusive NOT OR)"
   ],
   "metadata": {
    "collapsed": false
   },
   "id": "8d6aa8bdc3619985"
  },
  {
   "cell_type": "code",
   "execution_count": 113,
   "outputs": [
    {
     "data": {
      "text/plain": "~(P ^ Q)",
      "text/latex": "$\\displaystyle \\neg \\left(P \\veebar Q\\right)$"
     },
     "execution_count": 113,
     "metadata": {},
     "output_type": "execute_result"
    }
   ],
   "source": [
    "from sympy.logic.boolalg import *\n",
    "expr = Xnor(P, Q)\n",
    "expr"
   ],
   "metadata": {
    "collapsed": false,
    "ExecuteTime": {
     "end_time": "2023-12-01T16:39:33.266725900Z",
     "start_time": "2023-12-01T16:39:31.610477Z"
    }
   },
   "id": "c58be6856f8d553b"
  },
  {
   "cell_type": "markdown",
   "source": [
    "**Tabel Kebenaran *XNOR***\n",
    "\n",
    "| P | Q | XNor |\n",
    "|---|---|------|\n",
    "| F | F | T    |\n",
    "| F | T | F    |\n",
    "| T | F | F    |\n",
    "| T | T | T    |"
   ],
   "metadata": {
    "collapsed": false
   },
   "id": "b0840aadbeb5c72f"
  },
  {
   "cell_type": "code",
   "execution_count": 114,
   "outputs": [
    {
     "data": {
      "text/plain": "True",
      "text/latex": "$\\displaystyle \\text{True}$"
     },
     "execution_count": 114,
     "metadata": {},
     "output_type": "execute_result"
    }
   ],
   "source": [
    "expr.subs({P:false, Q:false})"
   ],
   "metadata": {
    "collapsed": false,
    "ExecuteTime": {
     "end_time": "2023-12-01T16:39:33.267723Z",
     "start_time": "2023-12-01T16:39:31.622359700Z"
    }
   },
   "id": "48367ec9b65ec44d"
  },
  {
   "cell_type": "code",
   "execution_count": 115,
   "outputs": [
    {
     "data": {
      "text/plain": "False",
      "text/latex": "$\\displaystyle \\text{False}$"
     },
     "execution_count": 115,
     "metadata": {},
     "output_type": "execute_result"
    }
   ],
   "source": [
    "expr.subs({P:false, Q:true})"
   ],
   "metadata": {
    "collapsed": false,
    "ExecuteTime": {
     "end_time": "2023-12-01T16:39:33.309585300Z",
     "start_time": "2023-12-01T16:39:31.635239700Z"
    }
   },
   "id": "1e87074048967c3"
  },
  {
   "cell_type": "code",
   "execution_count": 116,
   "outputs": [
    {
     "data": {
      "text/plain": "False",
      "text/latex": "$\\displaystyle \\text{False}$"
     },
     "execution_count": 116,
     "metadata": {},
     "output_type": "execute_result"
    }
   ],
   "source": [
    "expr.subs({P:true, Q:false})"
   ],
   "metadata": {
    "collapsed": false,
    "ExecuteTime": {
     "end_time": "2023-12-01T16:39:33.310579200Z",
     "start_time": "2023-12-01T16:39:31.649413500Z"
    }
   },
   "id": "5b7e6e4b019f0a62"
  },
  {
   "cell_type": "code",
   "execution_count": 117,
   "outputs": [
    {
     "data": {
      "text/plain": "True",
      "text/latex": "$\\displaystyle \\text{True}$"
     },
     "execution_count": 117,
     "metadata": {},
     "output_type": "execute_result"
    }
   ],
   "source": [
    "expr.subs({P:true, Q:true})"
   ],
   "metadata": {
    "collapsed": false,
    "ExecuteTime": {
     "end_time": "2023-12-01T16:39:33.343518200Z",
     "start_time": "2023-12-01T16:39:31.669427100Z"
    }
   },
   "id": "43a0ccee0326a40c"
  },
  {
   "cell_type": "markdown",
   "source": [
    "### Implies"
   ],
   "metadata": {
    "collapsed": false
   },
   "id": "965f4636c108225a"
  },
  {
   "cell_type": "code",
   "execution_count": 118,
   "outputs": [
    {
     "data": {
      "text/plain": "Implies(P, Q)",
      "text/latex": "$\\displaystyle P \\Rightarrow Q$"
     },
     "execution_count": 118,
     "metadata": {},
     "output_type": "execute_result"
    }
   ],
   "source": [
    "expr = Implies(P, Q)\n",
    "expr"
   ],
   "metadata": {
    "collapsed": false,
    "ExecuteTime": {
     "end_time": "2023-12-01T16:39:33.344680100Z",
     "start_time": "2023-12-01T16:39:31.681504900Z"
    }
   },
   "id": "b6d569a3de200a02"
  },
  {
   "cell_type": "markdown",
   "source": [
    "| P | Q | P implies Q |\n",
    "|---|---|-------------|\n",
    "| F | F | T           |\n",
    "| F | T | T           |\n",
    "| T | F | F           |\n",
    "| T | T | T           |"
   ],
   "metadata": {
    "collapsed": false
   },
   "id": "ed8e487d86d78e5d"
  },
  {
   "cell_type": "code",
   "execution_count": 119,
   "outputs": [
    {
     "data": {
      "text/plain": "True",
      "text/latex": "$\\displaystyle \\text{True}$"
     },
     "execution_count": 119,
     "metadata": {},
     "output_type": "execute_result"
    }
   ],
   "source": [
    "expr.subs({P:false, Q:false})"
   ],
   "metadata": {
    "collapsed": false,
    "ExecuteTime": {
     "end_time": "2023-12-01T16:39:33.344680100Z",
     "start_time": "2023-12-01T16:39:31.692557Z"
    }
   },
   "id": "db0c7554cd1dcae8"
  },
  {
   "cell_type": "code",
   "execution_count": 120,
   "outputs": [
    {
     "data": {
      "text/plain": "True",
      "text/latex": "$\\displaystyle \\text{True}$"
     },
     "execution_count": 120,
     "metadata": {},
     "output_type": "execute_result"
    }
   ],
   "source": [
    "expr.subs({P:false, Q:true})"
   ],
   "metadata": {
    "collapsed": false,
    "ExecuteTime": {
     "end_time": "2023-12-01T16:39:33.344680100Z",
     "start_time": "2023-12-01T16:39:31.704375100Z"
    }
   },
   "id": "a42c0c41785a36d3"
  },
  {
   "cell_type": "code",
   "execution_count": 121,
   "outputs": [
    {
     "data": {
      "text/plain": "False",
      "text/latex": "$\\displaystyle \\text{False}$"
     },
     "execution_count": 121,
     "metadata": {},
     "output_type": "execute_result"
    }
   ],
   "source": [
    "expr.subs({P:true, Q:false})"
   ],
   "metadata": {
    "collapsed": false,
    "ExecuteTime": {
     "end_time": "2023-12-01T16:39:33.382601600Z",
     "start_time": "2023-12-01T16:39:31.712455600Z"
    }
   },
   "id": "4b5a9394c441ef64"
  },
  {
   "cell_type": "code",
   "execution_count": 122,
   "outputs": [
    {
     "data": {
      "text/plain": "True",
      "text/latex": "$\\displaystyle \\text{True}$"
     },
     "execution_count": 122,
     "metadata": {},
     "output_type": "execute_result"
    }
   ],
   "source": [
    "expr.subs({P:true, Q:true})"
   ],
   "metadata": {
    "collapsed": false,
    "ExecuteTime": {
     "end_time": "2023-12-01T16:39:33.382601600Z",
     "start_time": "2023-12-01T16:39:31.721356600Z"
    }
   },
   "id": "342fe2486c3a334a"
  },
  {
   "cell_type": "markdown",
   "source": [
    "## Contoh Soal"
   ],
   "metadata": {
    "collapsed": false
   },
   "id": "b044733205bf94d1"
  },
  {
   "cell_type": "markdown",
   "source": [
    "### Soal 1"
   ],
   "metadata": {
    "collapsed": false
   },
   "id": "f5c031371f831862"
  },
  {
   "cell_type": "markdown",
   "source": [
    "Tentukan hasil akhir dari operasi di bawah ini\n",
    "\n",
    "**(P ⊕ Q) => (R ^ ~P)**\n",
    "\n",
    "Jika\n",
    "**P = true, Q = false, R = true**"
   ],
   "metadata": {
    "collapsed": false
   },
   "id": "3103d6681dcceddc"
  },
  {
   "cell_type": "code",
   "execution_count": 123,
   "outputs": [],
   "source": [
    "P = Symbol('P')\n",
    "Q = Symbol('Q')\n",
    "R = Symbol('R')"
   ],
   "metadata": {
    "collapsed": false,
    "ExecuteTime": {
     "end_time": "2023-12-01T16:39:33.383598400Z",
     "start_time": "2023-12-01T16:39:31.732252700Z"
    }
   },
   "id": "37ec73bfd16e274a"
  },
  {
   "cell_type": "code",
   "execution_count": 123,
   "outputs": [],
   "source": [],
   "metadata": {
    "collapsed": false,
    "ExecuteTime": {
     "end_time": "2023-12-01T16:39:33.417846500Z",
     "start_time": "2023-12-01T16:39:31.736471300Z"
    }
   },
   "id": "fe1ea884dd10cc22"
  },
  {
   "cell_type": "code",
   "execution_count": 123,
   "outputs": [],
   "source": [],
   "metadata": {
    "collapsed": false,
    "ExecuteTime": {
     "end_time": "2023-12-01T16:39:33.419160700Z",
     "start_time": "2023-12-01T16:39:31.741383Z"
    }
   },
   "id": "28a16fc942ff47d6"
  },
  {
   "cell_type": "markdown",
   "source": [
    "### Soal 2"
   ],
   "metadata": {
    "collapsed": false
   },
   "id": "f27b3c8706abb084"
  },
  {
   "cell_type": "markdown",
   "source": [
    "Tentukan hasil akhir dari operasi di bawah ini\n",
    "\n",
    "**(~Q \\^ ~R) v (R ⊕ ~P)**\n",
    "\n",
    "Jika\n",
    "**P = false, Q = true, R = true**"
   ],
   "metadata": {
    "collapsed": false
   },
   "id": "bfdd73e0df07a92f"
  },
  {
   "cell_type": "code",
   "execution_count": 123,
   "outputs": [],
   "source": [],
   "metadata": {
    "collapsed": false,
    "ExecuteTime": {
     "end_time": "2023-12-01T16:39:33.419160700Z",
     "start_time": "2023-12-01T16:39:31.745134400Z"
    }
   },
   "id": "d78f7c6428ac63d9"
  },
  {
   "cell_type": "code",
   "execution_count": 123,
   "outputs": [],
   "source": [],
   "metadata": {
    "collapsed": false,
    "ExecuteTime": {
     "end_time": "2023-12-01T16:39:33.419160700Z",
     "start_time": "2023-12-01T16:39:31.748412Z"
    }
   },
   "id": "40988611dd2a4e7f"
  },
  {
   "cell_type": "markdown",
   "source": [
    "### Soal 3"
   ],
   "metadata": {
    "collapsed": false
   },
   "id": "d827cb9663a34dc1"
  },
  {
   "cell_type": "markdown",
   "source": [
    "Tentukan hasil akhir dari operasi di bawah ini\n",
    "\n",
    "**(~P \\^ ~Q) <=> ~(Q v ~R)**\n",
    "\n",
    "Jika\n",
    "**P = true, Q = false, R = false**"
   ],
   "metadata": {
    "collapsed": false
   },
   "id": "4ba451fa24d7cf6a"
  },
  {
   "cell_type": "code",
   "execution_count": 123,
   "outputs": [],
   "source": [],
   "metadata": {
    "collapsed": false,
    "ExecuteTime": {
     "end_time": "2023-12-01T16:39:33.475803900Z",
     "start_time": "2023-12-01T16:39:31.752735800Z"
    }
   },
   "id": "70274ab4ecc58632"
  },
  {
   "cell_type": "code",
   "execution_count": 123,
   "outputs": [],
   "source": [],
   "metadata": {
    "collapsed": false,
    "ExecuteTime": {
     "end_time": "2023-12-01T16:39:33.499230Z",
     "start_time": "2023-12-01T16:39:31.756824Z"
    }
   },
   "id": "a7597e3d9993d9d6"
  },
  {
   "cell_type": "markdown",
   "source": [
    "### Soal 4"
   ],
   "metadata": {
    "collapsed": false
   },
   "id": "e9faa0f2bee865b3"
  },
  {
   "cell_type": "markdown",
   "source": [
    "Tentukan hasil akhir dari operasi di bawah ini\n",
    "\n",
    "**((P ⊕ Q) \\^ R) \\^ P**\n",
    "\n",
    "Jika\n",
    "**P = true, Q = true, R = true**"
   ],
   "metadata": {
    "collapsed": false
   },
   "id": "85c74b69c75a115a"
  },
  {
   "cell_type": "code",
   "execution_count": 123,
   "outputs": [],
   "source": [],
   "metadata": {
    "collapsed": false,
    "ExecuteTime": {
     "end_time": "2023-12-01T16:39:33.499230Z",
     "start_time": "2023-12-01T16:39:31.762434600Z"
    }
   },
   "id": "6fb98c29ae9809b7"
  },
  {
   "cell_type": "code",
   "execution_count": 123,
   "outputs": [],
   "source": [],
   "metadata": {
    "collapsed": false,
    "ExecuteTime": {
     "end_time": "2023-12-01T16:39:33.500332900Z",
     "start_time": "2023-12-01T16:39:31.766640800Z"
    }
   },
   "id": "69ac96d5600b6853"
  },
  {
   "cell_type": "markdown",
   "source": [
    "### Soal 5"
   ],
   "metadata": {
    "collapsed": false
   },
   "id": "56e57179a13dc3d0"
  },
  {
   "cell_type": "markdown",
   "source": [
    "Tentukan hasil akhir dari operasi di bawah ini\n",
    "\n",
    "**(Q => R) \\^ (~R \\^ ~Q) v P**\n",
    "\n",
    "Jika\n",
    "**P = true, Q = true, R = false**"
   ],
   "metadata": {
    "collapsed": false
   },
   "id": "fba412263ad6abce"
  },
  {
   "cell_type": "code",
   "execution_count": 123,
   "outputs": [],
   "source": [],
   "metadata": {
    "collapsed": false,
    "ExecuteTime": {
     "end_time": "2023-12-01T16:39:33.502361500Z",
     "start_time": "2023-12-01T16:39:31.770458900Z"
    }
   },
   "id": "d384de5ce90cfe22"
  },
  {
   "cell_type": "code",
   "execution_count": 123,
   "outputs": [],
   "source": [],
   "metadata": {
    "collapsed": false,
    "ExecuteTime": {
     "end_time": "2023-12-01T16:39:33.504392500Z",
     "start_time": "2023-12-01T16:39:31.775056800Z"
    }
   },
   "id": "3fa4a84c81301eed"
  },
  {
   "cell_type": "code",
   "execution_count": 123,
   "outputs": [],
   "source": [],
   "metadata": {
    "collapsed": false,
    "ExecuteTime": {
     "end_time": "2023-12-01T16:39:33.504392500Z",
     "start_time": "2023-12-01T16:39:31.779174Z"
    }
   },
   "id": "f63f89b1b707c32b"
  }
 ],
 "metadata": {
  "kernelspec": {
   "display_name": "Python 3",
   "language": "python",
   "name": "python3"
  },
  "language_info": {
   "codemirror_mode": {
    "name": "ipython",
    "version": 2
   },
   "file_extension": ".py",
   "mimetype": "text/x-python",
   "name": "python",
   "nbconvert_exporter": "python",
   "pygments_lexer": "ipython2",
   "version": "2.7.6"
  }
 },
 "nbformat": 4,
 "nbformat_minor": 5
}
