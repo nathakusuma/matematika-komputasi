{
  "nbformat": 4,
  "nbformat_minor": 0,
  "metadata": {
    "colab": {
      "provenance": []
    },
    "kernelspec": {
      "name": "python3",
      "display_name": "Python 3"
    },
    "language_info": {
      "name": "python"
    }
  },
  "cells": [
    {
      "cell_type": "code",
      "execution_count": null,
      "metadata": {
        "colab": {
          "base_uri": "https://localhost:8080/"
        },
        "id": "xuPogXjJdHw1",
        "outputId": "d51ad5bc-2e3c-4da2-c36d-b93f66b2250c"
      },
      "outputs": [
        {
          "output_type": "execute_result",
          "data": {
            "text/plain": [
              "int"
            ]
          },
          "metadata": {},
          "execution_count": 1
        }
      ],
      "source": [
        "type(1)"
      ]
    },
    {
      "cell_type": "code",
      "source": [
        "type(1.23)"
      ],
      "metadata": {
        "colab": {
          "base_uri": "https://localhost:8080/"
        },
        "id": "aj5LVe52eu_N",
        "outputId": "3a3e991c-e9b7-4282-9b42-2ab27f7c9b87"
      },
      "execution_count": null,
      "outputs": [
        {
          "output_type": "execute_result",
          "data": {
            "text/plain": [
              "float"
            ]
          },
          "metadata": {},
          "execution_count": 2
        }
      ]
    },
    {
      "cell_type": "code",
      "source": [
        "type(3/4)"
      ],
      "metadata": {
        "colab": {
          "base_uri": "https://localhost:8080/"
        },
        "id": "a1YaDPIBez4g",
        "outputId": "74a6bca3-6a7d-4dfb-b31a-9ce1e5a2b6b1"
      },
      "execution_count": null,
      "outputs": [
        {
          "output_type": "execute_result",
          "data": {
            "text/plain": [
              "float"
            ]
          },
          "metadata": {},
          "execution_count": 3
        }
      ]
    },
    {
      "cell_type": "code",
      "source": [
        "type(3+4j)"
      ],
      "metadata": {
        "colab": {
          "base_uri": "https://localhost:8080/"
        },
        "id": "0GCCIz5Oe8VN",
        "outputId": "e1302b9b-89a5-4028-8530-d6835a8fe8ba"
      },
      "execution_count": null,
      "outputs": [
        {
          "output_type": "execute_result",
          "data": {
            "text/plain": [
              "complex"
            ]
          },
          "metadata": {},
          "execution_count": 4
        }
      ]
    },
    {
      "cell_type": "code",
      "source": [
        "type(\"Hello world\")"
      ],
      "metadata": {
        "colab": {
          "base_uri": "https://localhost:8080/"
        },
        "id": "IslHWt-9fDv9",
        "outputId": "18fe5a10-9a2c-44e0-fd65-06ab23a88a4e"
      },
      "execution_count": null,
      "outputs": [
        {
          "output_type": "execute_result",
          "data": {
            "text/plain": [
              "str"
            ]
          },
          "metadata": {},
          "execution_count": 5
        }
      ]
    },
    {
      "cell_type": "code",
      "source": [
        "print(type([\"apple\", \"banana\", \"cherry\"]))\n",
        "print(type(list((\"apple\", \"banana\", \"cherry\"))))"
      ],
      "metadata": {
        "colab": {
          "base_uri": "https://localhost:8080/"
        },
        "id": "caz5BpGPfcks",
        "outputId": "43a12f72-3eae-490b-d1fc-efcb5e728bfa"
      },
      "execution_count": null,
      "outputs": [
        {
          "output_type": "execute_result",
          "data": {
            "text/plain": [
              "list"
            ]
          },
          "metadata": {},
          "execution_count": 27
        }
      ]
    },
    {
      "cell_type": "code",
      "source": [
        "type((\"apple\", \"banana\", \"cherry\"))\n",
        "type(tuple((\"apple\", \"banana\", \"cherry\")))"
      ],
      "metadata": {
        "colab": {
          "base_uri": "https://localhost:8080/"
        },
        "id": "acd5aqQdfjjO",
        "outputId": "47664796-495c-4c25-809b-c4c98cb5e4ce"
      },
      "execution_count": null,
      "outputs": [
        {
          "output_type": "execute_result",
          "data": {
            "text/plain": [
              "tuple"
            ]
          },
          "metadata": {},
          "execution_count": 7
        }
      ]
    },
    {
      "cell_type": "code",
      "source": [
        "type(range(6))"
      ],
      "metadata": {
        "colab": {
          "base_uri": "https://localhost:8080/"
        },
        "id": "-POsHxsNfpCE",
        "outputId": "64adc936-232f-4c89-efc8-df81db1c5294"
      },
      "execution_count": null,
      "outputs": [
        {
          "output_type": "execute_result",
          "data": {
            "text/plain": [
              "range"
            ]
          },
          "metadata": {},
          "execution_count": 8
        }
      ]
    },
    {
      "cell_type": "code",
      "source": [
        "type({\"name\":\"John\",\"age\":36})\n",
        "type(dict((\"apple\", \"banana\", \"cherry\")))"
      ],
      "metadata": {
        "colab": {
          "base_uri": "https://localhost:8080/"
        },
        "id": "So7QXmT_fs0Q",
        "outputId": "9e84a436-842e-4b43-acaf-07487f65118a"
      },
      "execution_count": null,
      "outputs": [
        {
          "output_type": "execute_result",
          "data": {
            "text/plain": [
              "dict"
            ]
          },
          "metadata": {},
          "execution_count": 9
        }
      ]
    },
    {
      "cell_type": "code",
      "source": [
        "type({\"apple\", \"banana\", \"cherry\"})\n",
        "type(set((\"apple\", \"banana\", \"cherry\")))"
      ],
      "metadata": {
        "colab": {
          "base_uri": "https://localhost:8080/"
        },
        "id": "ZKox2ZQUf8cJ",
        "outputId": "db841ff2-6a62-4b9d-dd8b-8e6d222d350f"
      },
      "execution_count": null,
      "outputs": [
        {
          "output_type": "execute_result",
          "data": {
            "text/plain": [
              "set"
            ]
          },
          "metadata": {},
          "execution_count": 28
        }
      ]
    },
    {
      "cell_type": "code",
      "source": [
        "type(frozenset({\"apple\", \"banana\", \"cherry\"}))"
      ],
      "metadata": {
        "colab": {
          "base_uri": "https://localhost:8080/"
        },
        "id": "OqdBfhAvgAUs",
        "outputId": "a90e5e1d-3a56-4d3a-da1e-534362f7a664"
      },
      "execution_count": null,
      "outputs": [
        {
          "output_type": "execute_result",
          "data": {
            "text/plain": [
              "frozenset"
            ]
          },
          "metadata": {},
          "execution_count": 12
        }
      ]
    },
    {
      "cell_type": "code",
      "source": [
        "type(True)"
      ],
      "metadata": {
        "colab": {
          "base_uri": "https://localhost:8080/"
        },
        "id": "U0OvpuC9gFVf",
        "outputId": "6317d1fe-748c-433e-8e15-e0274f3e6d85"
      },
      "execution_count": null,
      "outputs": [
        {
          "output_type": "execute_result",
          "data": {
            "text/plain": [
              "bool"
            ]
          },
          "metadata": {},
          "execution_count": 13
        }
      ]
    },
    {
      "cell_type": "code",
      "source": [
        "bin_num = 0b10\n",
        "print(bin_num)\n",
        "type(bin_num)"
      ],
      "metadata": {
        "colab": {
          "base_uri": "https://localhost:8080/"
        },
        "id": "WpcATjSHla6_",
        "outputId": "b1c65997-53a3-4922-be58-6e665b99a70e"
      },
      "execution_count": null,
      "outputs": [
        {
          "output_type": "stream",
          "name": "stdout",
          "text": [
            "2\n"
          ]
        },
        {
          "output_type": "execute_result",
          "data": {
            "text/plain": [
              "int"
            ]
          },
          "metadata": {},
          "execution_count": 17
        }
      ]
    },
    {
      "cell_type": "code",
      "source": [
        "oct_num = 0o10\n",
        "print(oct_num)\n",
        "type(oct_num)"
      ],
      "metadata": {
        "colab": {
          "base_uri": "https://localhost:8080/"
        },
        "id": "WXJ2_9S_ljh7",
        "outputId": "e17feaa2-773f-42a2-d41f-17622618fa1d"
      },
      "execution_count": null,
      "outputs": [
        {
          "output_type": "stream",
          "name": "stdout",
          "text": [
            "8\n"
          ]
        },
        {
          "output_type": "execute_result",
          "data": {
            "text/plain": [
              "int"
            ]
          },
          "metadata": {},
          "execution_count": 18
        }
      ]
    },
    {
      "cell_type": "code",
      "source": [
        "hex_num = 0x10\n",
        "print(hex_num)\n",
        "type(hex_num)"
      ],
      "metadata": {
        "colab": {
          "base_uri": "https://localhost:8080/"
        },
        "id": "ffWjOTZqlp6D",
        "outputId": "e7b3986f-0287-4ef3-a2c4-3bd14f4eb1c7"
      },
      "execution_count": null,
      "outputs": [
        {
          "output_type": "stream",
          "name": "stdout",
          "text": [
            "16\n"
          ]
        },
        {
          "output_type": "execute_result",
          "data": {
            "text/plain": [
              "int"
            ]
          },
          "metadata": {},
          "execution_count": 19
        }
      ]
    },
    {
      "cell_type": "code",
      "source": [
        "bin_num1 = 0b111_1111_11111_11\n",
        "print(bin_num1)\n",
        "# boleh dipisah menggunakan underscore"
      ],
      "metadata": {
        "colab": {
          "base_uri": "https://localhost:8080/"
        },
        "id": "JBIoe1r0nETD",
        "outputId": "c6154ba2-e23f-4607-acbd-83e6f5111801"
      },
      "execution_count": null,
      "outputs": [
        {
          "output_type": "stream",
          "name": "stdout",
          "text": [
            "16383\n"
          ]
        }
      ]
    },
    {
      "cell_type": "code",
      "source": [
        "print(int('10'))\n",
        "print(int('10', 2))\n",
        "print(int('10', 8))\n",
        "print(int('10', 16))"
      ],
      "metadata": {
        "colab": {
          "base_uri": "https://localhost:8080/"
        },
        "id": "46btM0CVopsh",
        "outputId": "a58a4ffc-5047-41e5-a63c-1368ff86361c"
      },
      "execution_count": null,
      "outputs": [
        {
          "output_type": "stream",
          "name": "stdout",
          "text": [
            "10\n",
            "2\n",
            "8\n",
            "16\n"
          ]
        }
      ]
    },
    {
      "cell_type": "code",
      "source": [
        "i = 255\n",
        "print(format(i, 'b'))\n",
        "print(format(i, '#b'))\n",
        "print(format(i, 'o'))\n",
        "print(format(i, '#o'))\n",
        "print(format(i, 'x'))\n",
        "print(format(i, '#x'))\n",
        "print(format(i, 'd'))\n",
        "print('\\n')\n",
        "print(format(i, '08b'))\n",
        "print(format(i, '08o'))\n",
        "print(format(i, '08x'))\n",
        "print(format(i, '#08b'))\n",
        "print(format(i, '#08o'))\n",
        "print(format(i, '#08x'))\n",
        "print('\\n')\n",
        "print(type(format(i, 'b')))\n",
        "print(type(format(i, '#b')))"
      ],
      "metadata": {
        "colab": {
          "base_uri": "https://localhost:8080/"
        },
        "id": "9AN4n5TCnNmI",
        "outputId": "c8a39780-3d66-4a69-8c22-3a97ca5cae60"
      },
      "execution_count": null,
      "outputs": [
        {
          "output_type": "stream",
          "name": "stdout",
          "text": [
            "11111111\n",
            "0b11111111\n",
            "377\n",
            "0o377\n",
            "ff\n",
            "0xff\n",
            "255\n",
            "\n",
            "\n",
            "11111111\n",
            "00000377\n",
            "000000ff\n",
            "0b11111111\n",
            "0o000377\n",
            "0x0000ff\n",
            "\n",
            "\n",
            "<class 'str'>\n",
            "<class 'str'>\n"
          ]
        }
      ]
    },
    {
      "cell_type": "code",
      "source": [
        "# pertemuan 2\n",
        "# permainan konversi bilangan biner/oktal/desimal/heksadesimal\n",
        "# menggunakan materi pertemuan 2 yaitu list, tuple, dictionary, dan format\n",
        "\n",
        "import random\n",
        "\n",
        "print(\"NUMBER CONVERSION GAME\")\n",
        "print(\"(You can use underscores between the digits to make it more readable for you, especially binary digits)\\n\")\n",
        "hint = \"Level choices: Newbie, Easy, Medium, Hard, Expert\"\n",
        "print(hint)\n",
        "LEVELS = {\"newbie\":(1,9), \"easy\":(10,99), \"medium\":(100,999), \"hard\":(1000,9999), \"expert\":(10000,99999)}\n",
        "NUMBER_BASES = {'b':\"Binary\", 'o':\"Octal\", 'd':\"Decimal\", 'x':\"Hexadecimal\"}\n",
        "\n",
        "def input_level():\n",
        "  level = input(\"Level: \").lower()\n",
        "  if(level not in LEVELS.keys()):\n",
        "    print(hint)\n",
        "    return input_level()\n",
        "  return level\n",
        "\n",
        "level = input_level()\n",
        "level_data = LEVELS[level]\n",
        "\n",
        "QUESTION_AMOUNT = 5\n",
        "score = 0\n",
        "for i in range(QUESTION_AMOUNT):\n",
        "  question_base = random.choice(list(NUMBER_BASES.keys()))\n",
        "  answer_base = random.choice([i for i in list(NUMBER_BASES.keys()) if i != question_base])\n",
        "  print(\"\\nQuestion \"+str(i+1)+\"/\"+str(QUESTION_AMOUNT))\n",
        "  print(NUMBER_BASES[question_base]+\" => \"+NUMBER_BASES[answer_base])\n",
        "  question_random = random.randint(level_data[0], level_data[1])\n",
        "  true_answer = format(question_random, answer_base)\n",
        "  answer = input(format(question_random, question_base)+\" => \").lower().replace('_','')\n",
        "  if(answer == true_answer):\n",
        "    score += 1\n",
        "    print(\"Correct answer!\")\n",
        "  else:\n",
        "    print(\"Oops, the correct answer is\",true_answer)\n",
        "\n",
        "print(\"\\nCongratulations, you have finished the \"+level+\" level with \"+str(score*(100/QUESTION_AMOUNT))+\"% score.\")"
      ],
      "metadata": {
        "colab": {
          "base_uri": "https://localhost:8080/"
        },
        "id": "i2s3o0HAzbdn",
        "outputId": "6168f207-c373-48cc-f745-86911da4ea7c"
      },
      "execution_count": null,
      "outputs": [
        {
          "output_type": "stream",
          "name": "stdout",
          "text": [
            "NUMBER CONVERSION GAME\n",
            "(You can use underscores between the digits to make it more readable for you, especially binary digits)\n",
            "\n",
            "Level choices: Newbie, Easy, Medium, Hard, Expert\n",
            "Level: expert\n",
            "\n",
            "Question 1/5\n",
            "Octal => Binary\n",
            "246135 => 101_001_100_010_111_01\n",
            "Correct answer!\n",
            "\n",
            "Question 2/5\n",
            "Binary => Hexadecimal\n",
            "10011111110101 => 27F5\n",
            "Correct answer!\n",
            "\n",
            "Question 3/5\n",
            "Octal => Decimal\n",
            "110536 => 123fff\n",
            "Oops, the correct answer is 37214\n",
            "\n",
            "Question 4/5\n",
            "Octal => Binary\n",
            "241346 => 10100001011100110\n",
            "Correct answer!\n",
            "\n",
            "Question 5/5\n",
            "Decimal => Octal\n",
            "33989 => )(!*@$&*&#!\n",
            "Oops, the correct answer is 102305\n",
            "\n",
            "Congratulations, you have finished the expert level with 60.0% score.\n"
          ]
        }
      ]
    }
  ]
}