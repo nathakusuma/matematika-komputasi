{
 "cells": [
  {
   "cell_type": "markdown",
   "source": [
    "# Math Logic with Python\n",
    "**Pemateri** : **Natha**\n"
   ],
   "metadata": {
    "collapsed": false
   },
   "id": "78a32ae18058f324"
  },
  {
   "cell_type": "markdown",
   "source": [
    "# Print Output"
   ],
   "metadata": {
    "collapsed": false
   },
   "id": "febc1213572b6f89"
  },
  {
   "cell_type": "code",
   "execution_count": 2,
   "id": "initial_id",
   "metadata": {
    "collapsed": true,
    "ExecuteTime": {
     "end_time": "2023-12-01T09:47:09.554358800Z",
     "start_time": "2023-12-01T09:47:08.873125400Z"
    }
   },
   "outputs": [
    {
     "name": "stdout",
     "output_type": "stream",
     "text": [
      "Hello world!\n"
     ]
    }
   ],
   "source": [
    "print(\"Hello world!\")"
   ]
  },
  {
   "cell_type": "code",
   "execution_count": 5,
   "outputs": [
    {
     "data": {
      "text/plain": "'Hello world!'"
     },
     "execution_count": 5,
     "metadata": {},
     "output_type": "execute_result"
    }
   ],
   "source": [
    "\"Hello world!\""
   ],
   "metadata": {
    "collapsed": false,
    "ExecuteTime": {
     "end_time": "2023-12-01T09:47:12.535307500Z",
     "start_time": "2023-12-01T09:47:11.011637600Z"
    }
   },
   "id": "6ff9e2cd14cc9a02"
  },
  {
   "cell_type": "markdown",
   "source": [
    "# Variabel"
   ],
   "metadata": {
    "collapsed": false
   },
   "id": "6c37d95472c3dc84"
  },
  {
   "cell_type": "code",
   "execution_count": 3,
   "outputs": [
    {
     "name": "stdout",
     "output_type": "stream",
     "text": [
      "Halo Budi\n"
     ]
    }
   ],
   "source": [
    "x = \"Budi\"\n",
    "print(\"Halo \"+x)"
   ],
   "metadata": {
    "collapsed": false,
    "ExecuteTime": {
     "start_time": "2023-12-01T09:47:08.878385400Z"
    }
   },
   "id": "cf241bb17fe27245"
  },
  {
   "cell_type": "code",
   "execution_count": 6,
   "outputs": [
    {
     "data": {
      "text/plain": "'Halo Budi'"
     },
     "execution_count": 6,
     "metadata": {},
     "output_type": "execute_result"
    }
   ],
   "source": [
    "x = \"Budi\"\n",
    "\"Halo \"+x"
   ],
   "metadata": {
    "collapsed": false,
    "ExecuteTime": {
     "end_time": "2023-12-01T09:47:12.536222400Z",
     "start_time": "2023-12-01T09:47:11.020590Z"
    }
   },
   "id": "4a765290ca6ddfe0"
  },
  {
   "cell_type": "markdown",
   "source": [
    "# Sympy"
   ],
   "metadata": {
    "collapsed": false
   },
   "id": "494ec38d32a48e36"
  },
  {
   "cell_type": "code",
   "execution_count": 22,
   "outputs": [],
   "source": [
    "from sympy import *"
   ],
   "metadata": {
    "collapsed": false,
    "ExecuteTime": {
     "end_time": "2023-12-01T09:47:17.319768300Z",
     "start_time": "2023-12-01T09:47:16.027106200Z"
    }
   },
   "id": "169012aad9f5a6c1"
  },
  {
   "cell_type": "markdown",
   "source": [
    "## Boolean"
   ],
   "metadata": {
    "collapsed": false
   },
   "id": "cb7171d642e8eafb"
  },
  {
   "cell_type": "code",
   "execution_count": 23,
   "outputs": [
    {
     "data": {
      "text/plain": "True",
      "text/latex": "$\\displaystyle \\text{True}$"
     },
     "execution_count": 23,
     "metadata": {},
     "output_type": "execute_result"
    }
   ],
   "source": [
    "true"
   ],
   "metadata": {
    "collapsed": false,
    "ExecuteTime": {
     "end_time": "2023-12-01T09:47:17.328172400Z",
     "start_time": "2023-12-01T09:47:17.322264300Z"
    }
   },
   "id": "4b53d671723d8fcf"
  },
  {
   "cell_type": "code",
   "execution_count": 24,
   "outputs": [
    {
     "data": {
      "text/plain": "False",
      "text/latex": "$\\displaystyle \\text{False}$"
     },
     "execution_count": 24,
     "metadata": {},
     "output_type": "execute_result"
    }
   ],
   "source": [
    "false"
   ],
   "metadata": {
    "collapsed": false,
    "ExecuteTime": {
     "end_time": "2023-12-01T09:47:17.343122600Z",
     "start_time": "2023-12-01T09:47:17.326178100Z"
    }
   },
   "id": "2d96d6304c52c40a"
  },
  {
   "cell_type": "markdown",
   "source": [],
   "metadata": {
    "collapsed": false
   },
   "id": "5c3f7e10275eaa1a"
  },
  {
   "cell_type": "code",
   "execution_count": 27,
   "outputs": [
    {
     "data": {
      "text/plain": "False",
      "text/latex": "$\\displaystyle \\text{False}$"
     },
     "execution_count": 27,
     "metadata": {},
     "output_type": "execute_result"
    }
   ],
   "source": [
    "Not(true)"
   ],
   "metadata": {
    "collapsed": false,
    "ExecuteTime": {
     "end_time": "2023-12-01T09:47:17.450405800Z",
     "start_time": "2023-12-01T09:47:17.350553700Z"
    }
   },
   "id": "3ff96e1aaf7e9823"
  },
  {
   "cell_type": "code",
   "execution_count": 28,
   "outputs": [
    {
     "data": {
      "text/plain": "True",
      "text/latex": "$\\displaystyle \\text{True}$"
     },
     "execution_count": 28,
     "metadata": {},
     "output_type": "execute_result"
    }
   ],
   "source": [
    "Not(false)"
   ],
   "metadata": {
    "collapsed": false,
    "ExecuteTime": {
     "end_time": "2023-12-01T09:47:17.453814100Z",
     "start_time": "2023-12-01T09:47:17.358202900Z"
    }
   },
   "id": "a7d401f3c60bac4"
  },
  {
   "cell_type": "code",
   "execution_count": 31,
   "outputs": [
    {
     "data": {
      "text/plain": "False",
      "text/latex": "$\\displaystyle \\text{False}$"
     },
     "execution_count": 31,
     "metadata": {},
     "output_type": "execute_result"
    }
   ],
   "source": [
    "And(true, false)"
   ],
   "metadata": {
    "collapsed": false,
    "ExecuteTime": {
     "end_time": "2023-12-01T09:47:17.480294300Z",
     "start_time": "2023-12-01T09:47:17.380149100Z"
    }
   },
   "id": "c68274c42e5913be"
  },
  {
   "cell_type": "code",
   "execution_count": 32,
   "outputs": [
    {
     "data": {
      "text/plain": "True",
      "text/latex": "$\\displaystyle \\text{True}$"
     },
     "execution_count": 32,
     "metadata": {},
     "output_type": "execute_result"
    }
   ],
   "source": [
    "Or(true, false)"
   ],
   "metadata": {
    "collapsed": false,
    "ExecuteTime": {
     "end_time": "2023-12-01T09:47:17.480294300Z",
     "start_time": "2023-12-01T09:47:17.387567800Z"
    }
   },
   "id": "954c43a3075c1d7b"
  },
  {
   "cell_type": "markdown",
   "source": [
    "## Symbol"
   ],
   "metadata": {
    "collapsed": false
   },
   "id": "80324f3c064586e6"
  },
  {
   "cell_type": "code",
   "execution_count": 33,
   "outputs": [
    {
     "data": {
      "text/plain": "x",
      "text/latex": "$\\displaystyle x$"
     },
     "execution_count": 33,
     "metadata": {},
     "output_type": "execute_result"
    }
   ],
   "source": [
    "x = Symbol('x')\n",
    "x"
   ],
   "metadata": {
    "collapsed": false,
    "ExecuteTime": {
     "end_time": "2023-12-01T09:47:17.482927200Z",
     "start_time": "2023-12-01T09:47:17.395121600Z"
    }
   },
   "id": "730a6b184fe22a95"
  },
  {
   "cell_type": "code",
   "execution_count": 34,
   "outputs": [
    {
     "data": {
      "text/plain": "y",
      "text/latex": "$\\displaystyle y$"
     },
     "execution_count": 34,
     "metadata": {},
     "output_type": "execute_result"
    }
   ],
   "source": [
    "y = Symbol('y')\n",
    "y"
   ],
   "metadata": {
    "collapsed": false,
    "ExecuteTime": {
     "end_time": "2023-12-01T09:47:17.491412900Z",
     "start_time": "2023-12-01T09:47:17.399970Z"
    }
   },
   "id": "2f98d1b89e974cb8"
  },
  {
   "cell_type": "code",
   "execution_count": 35,
   "outputs": [
    {
     "data": {
      "text/plain": "x**2 + 3*y",
      "text/latex": "$\\displaystyle x^{2} + 3 y$"
     },
     "execution_count": 35,
     "metadata": {},
     "output_type": "execute_result"
    }
   ],
   "source": [
    "x**2+3*y"
   ],
   "metadata": {
    "collapsed": false,
    "ExecuteTime": {
     "end_time": "2023-12-01T09:47:17.735203400Z",
     "start_time": "2023-12-01T09:47:17.408462200Z"
    }
   },
   "id": "48ee69c3571e7a8c"
  },
  {
   "cell_type": "code",
   "execution_count": 36,
   "outputs": [
    {
     "data": {
      "text/plain": "13",
      "text/latex": "$\\displaystyle 13$"
     },
     "execution_count": 36,
     "metadata": {},
     "output_type": "execute_result"
    }
   ],
   "source": [
    "(x**2+3*y).subs({x:2,y:3})"
   ],
   "metadata": {
    "collapsed": false,
    "ExecuteTime": {
     "end_time": "2023-12-01T09:47:17.741557300Z",
     "start_time": "2023-12-01T09:47:17.734137800Z"
    }
   },
   "id": "28540fe95dcf9438"
  },
  {
   "cell_type": "markdown",
   "source": [
    "$$x^2+3y$$\n",
    "$$(2)^2+3(3)$$\n",
    "$$4+9$$\n",
    "$$13$$"
   ],
   "metadata": {
    "collapsed": false
   },
   "id": "8370f60ab8912814"
  },
  {
   "cell_type": "code",
   "execution_count": 37,
   "outputs": [
    {
     "data": {
      "text/plain": "x**2 + 3*y",
      "text/latex": "$\\displaystyle x^{2} + 3 y$"
     },
     "execution_count": 37,
     "metadata": {},
     "output_type": "execute_result"
    }
   ],
   "source": [
    "expr = x**2+3*y\n",
    "expr"
   ],
   "metadata": {
    "collapsed": false,
    "ExecuteTime": {
     "end_time": "2023-12-01T09:47:17.754354300Z",
     "start_time": "2023-12-01T09:47:17.741557300Z"
    }
   },
   "id": "fe7f3622e35f85be"
  },
  {
   "cell_type": "code",
   "execution_count": 38,
   "outputs": [
    {
     "data": {
      "text/plain": "13",
      "text/latex": "$\\displaystyle 13$"
     },
     "execution_count": 38,
     "metadata": {},
     "output_type": "execute_result"
    }
   ],
   "source": [
    "expr.subs({x:2,y:3})"
   ],
   "metadata": {
    "collapsed": false,
    "ExecuteTime": {
     "end_time": "2023-12-01T09:47:17.754860700Z",
     "start_time": "2023-12-01T09:47:17.747184100Z"
    }
   },
   "id": "f05c636594c402ae"
  },
  {
   "cell_type": "markdown",
   "source": [
    "## Operasi Boolean Sederhana"
   ],
   "metadata": {
    "collapsed": false
   },
   "id": "a4312653997ab4d3"
  },
  {
   "cell_type": "code",
   "execution_count": 119,
   "outputs": [],
   "source": [
    "P = Symbol('P')\n",
    "Q = Symbol('Q')"
   ],
   "metadata": {
    "collapsed": false,
    "ExecuteTime": {
     "end_time": "2023-12-01T16:27:43.586339100Z",
     "start_time": "2023-12-01T16:27:43.531666100Z"
    }
   },
   "id": "563f3b759e8b4ba4"
  },
  {
   "cell_type": "markdown",
   "source": [
    "### Not"
   ],
   "metadata": {
    "collapsed": false
   },
   "id": "1012c78390cdd199"
  },
  {
   "cell_type": "code",
   "execution_count": 120,
   "outputs": [
    {
     "data": {
      "text/plain": "~P",
      "text/latex": "$\\displaystyle \\neg P$"
     },
     "execution_count": 120,
     "metadata": {},
     "output_type": "execute_result"
    }
   ],
   "source": [
    "expr = Not(P)\n",
    "expr"
   ],
   "metadata": {
    "collapsed": false,
    "ExecuteTime": {
     "end_time": "2023-12-01T16:27:45.766013800Z",
     "start_time": "2023-12-01T16:27:45.740774600Z"
    }
   },
   "id": "4cc0351abd76856"
  },
  {
   "cell_type": "markdown",
   "source": [
    "**Tabel Kebenaran *NOT***\n",
    "\n",
    "| P | output |\n",
    "|---| ------ |\n",
    "| T | F      |\n",
    "| F | T      |"
   ],
   "metadata": {
    "collapsed": false
   },
   "id": "5eec233b1376b54d"
  },
  {
   "cell_type": "code",
   "execution_count": 121,
   "outputs": [
    {
     "data": {
      "text/plain": "False",
      "text/latex": "$\\displaystyle \\text{False}$"
     },
     "execution_count": 121,
     "metadata": {},
     "output_type": "execute_result"
    }
   ],
   "source": [
    "expr.subs({P:true})"
   ],
   "metadata": {
    "collapsed": false,
    "ExecuteTime": {
     "end_time": "2023-12-01T16:27:52.621678100Z",
     "start_time": "2023-12-01T16:27:52.589040300Z"
    }
   },
   "id": "8603e6fac63f876f"
  },
  {
   "cell_type": "code",
   "execution_count": 122,
   "outputs": [
    {
     "data": {
      "text/plain": "True",
      "text/latex": "$\\displaystyle \\text{True}$"
     },
     "execution_count": 122,
     "metadata": {},
     "output_type": "execute_result"
    }
   ],
   "source": [
    "expr.subs({P:false})"
   ],
   "metadata": {
    "collapsed": false,
    "ExecuteTime": {
     "end_time": "2023-12-01T16:28:26.110227600Z",
     "start_time": "2023-12-01T16:28:25.994716Z"
    }
   },
   "id": "2362c49eb7cf9a6d"
  },
  {
   "cell_type": "markdown",
   "source": [
    "### And"
   ],
   "metadata": {
    "collapsed": false
   },
   "id": "f3e02079f56dbe18"
  },
  {
   "cell_type": "code",
   "execution_count": 123,
   "outputs": [
    {
     "data": {
      "text/plain": "P & Q",
      "text/latex": "$\\displaystyle P \\wedge Q$"
     },
     "execution_count": 123,
     "metadata": {},
     "output_type": "execute_result"
    }
   ],
   "source": [
    "expr = And(P, Q)\n",
    "expr"
   ],
   "metadata": {
    "collapsed": false,
    "ExecuteTime": {
     "end_time": "2023-12-01T16:28:32.549643700Z",
     "start_time": "2023-12-01T16:28:32.520550100Z"
    }
   },
   "id": "caa03f8190b25951"
  },
  {
   "cell_type": "markdown",
   "source": [
    "**Tabel Kebenaran *AND***\n",
    "\n",
    "| P | Q | output |\n",
    "|---|---| ------ |\n",
    "| F | F | F      |\n",
    "| F | T | F      |\n",
    "| T | F | F      |\n",
    "| T | T | T      |"
   ],
   "metadata": {
    "collapsed": false
   },
   "id": "7188022ce7df499d"
  },
  {
   "cell_type": "code",
   "execution_count": 124,
   "outputs": [
    {
     "data": {
      "text/plain": "False",
      "text/latex": "$\\displaystyle \\text{False}$"
     },
     "execution_count": 124,
     "metadata": {},
     "output_type": "execute_result"
    }
   ],
   "source": [
    "expr.subs({P:false, Q:false})"
   ],
   "metadata": {
    "collapsed": false,
    "ExecuteTime": {
     "end_time": "2023-12-01T16:29:41.913323700Z",
     "start_time": "2023-12-01T16:29:41.884508Z"
    }
   },
   "id": "dee78f0803a5e1b9"
  },
  {
   "cell_type": "code",
   "execution_count": 125,
   "outputs": [
    {
     "data": {
      "text/plain": "False",
      "text/latex": "$\\displaystyle \\text{False}$"
     },
     "execution_count": 125,
     "metadata": {},
     "output_type": "execute_result"
    }
   ],
   "source": [
    "expr.subs({P:false, Q:true})"
   ],
   "metadata": {
    "collapsed": false,
    "ExecuteTime": {
     "end_time": "2023-12-01T16:29:42.276793700Z",
     "start_time": "2023-12-01T16:29:42.188263500Z"
    }
   },
   "id": "fd72eca38bfe0332"
  },
  {
   "cell_type": "code",
   "execution_count": 126,
   "outputs": [
    {
     "data": {
      "text/plain": "False",
      "text/latex": "$\\displaystyle \\text{False}$"
     },
     "execution_count": 126,
     "metadata": {},
     "output_type": "execute_result"
    }
   ],
   "source": [
    "expr.subs({P:true, Q:false})"
   ],
   "metadata": {
    "collapsed": false,
    "ExecuteTime": {
     "end_time": "2023-12-01T16:29:42.679668Z",
     "start_time": "2023-12-01T16:29:42.541024800Z"
    }
   },
   "id": "10831fc9cfdbeb9e"
  },
  {
   "cell_type": "code",
   "execution_count": 127,
   "outputs": [
    {
     "data": {
      "text/plain": "True",
      "text/latex": "$\\displaystyle \\text{True}$"
     },
     "execution_count": 127,
     "metadata": {},
     "output_type": "execute_result"
    }
   ],
   "source": [
    "expr.subs({P:true, Q:true})"
   ],
   "metadata": {
    "collapsed": false,
    "ExecuteTime": {
     "end_time": "2023-12-01T16:29:43.244452500Z",
     "start_time": "2023-12-01T16:29:43.181336400Z"
    }
   },
   "id": "c7cbdaec712bec5"
  },
  {
   "cell_type": "markdown",
   "source": [
    "### OR"
   ],
   "metadata": {
    "collapsed": false
   },
   "id": "cf9b59922fc7c74a"
  },
  {
   "cell_type": "code",
   "execution_count": 128,
   "outputs": [
    {
     "data": {
      "text/plain": "P | Q",
      "text/latex": "$\\displaystyle P \\vee Q$"
     },
     "execution_count": 128,
     "metadata": {},
     "output_type": "execute_result"
    }
   ],
   "source": [
    "expr = Or(P, Q)\n",
    "expr"
   ],
   "metadata": {
    "collapsed": false,
    "ExecuteTime": {
     "end_time": "2023-12-01T16:29:44.827735Z",
     "start_time": "2023-12-01T16:29:44.779499500Z"
    }
   },
   "id": "df0e559d8e138de3"
  },
  {
   "cell_type": "markdown",
   "source": [
    "**Tabel Kebenaran *OR***\n",
    "\n",
    "| P | Q | output |\n",
    "|---|---| ------ |\n",
    "| F | F | F      |\n",
    "| F | T | T      |\n",
    "| T | F | T      |\n",
    "| T | T | T      |"
   ],
   "metadata": {
    "collapsed": false
   },
   "id": "40b4453a589f38ee"
  },
  {
   "cell_type": "code",
   "execution_count": 129,
   "outputs": [
    {
     "data": {
      "text/plain": "False",
      "text/latex": "$\\displaystyle \\text{False}$"
     },
     "execution_count": 129,
     "metadata": {},
     "output_type": "execute_result"
    }
   ],
   "source": [
    "expr.subs({P:false, Q:false})"
   ],
   "metadata": {
    "collapsed": false,
    "ExecuteTime": {
     "end_time": "2023-12-01T16:29:49.293044800Z",
     "start_time": "2023-12-01T16:29:49.262861600Z"
    }
   },
   "id": "74e614c8dc655abf"
  },
  {
   "cell_type": "code",
   "execution_count": 130,
   "outputs": [
    {
     "data": {
      "text/plain": "True",
      "text/latex": "$\\displaystyle \\text{True}$"
     },
     "execution_count": 130,
     "metadata": {},
     "output_type": "execute_result"
    }
   ],
   "source": [
    "expr.subs({P:false, Q:true})"
   ],
   "metadata": {
    "collapsed": false,
    "ExecuteTime": {
     "end_time": "2023-12-01T16:29:49.853009400Z",
     "start_time": "2023-12-01T16:29:49.829392200Z"
    }
   },
   "id": "43d6dcc355a6364b"
  },
  {
   "cell_type": "code",
   "execution_count": 131,
   "outputs": [
    {
     "data": {
      "text/plain": "True",
      "text/latex": "$\\displaystyle \\text{True}$"
     },
     "execution_count": 131,
     "metadata": {},
     "output_type": "execute_result"
    }
   ],
   "source": [
    "expr.subs({P:true, Q:false})"
   ],
   "metadata": {
    "collapsed": false,
    "ExecuteTime": {
     "end_time": "2023-12-01T16:29:51.091236300Z",
     "start_time": "2023-12-01T16:29:51.057277Z"
    }
   },
   "id": "6532737a56d00b27"
  },
  {
   "cell_type": "code",
   "execution_count": 132,
   "outputs": [
    {
     "data": {
      "text/plain": "True",
      "text/latex": "$\\displaystyle \\text{True}$"
     },
     "execution_count": 132,
     "metadata": {},
     "output_type": "execute_result"
    }
   ],
   "source": [
    "expr.subs({P:true, Q:true})"
   ],
   "metadata": {
    "collapsed": false,
    "ExecuteTime": {
     "end_time": "2023-12-01T16:29:52.221297800Z",
     "start_time": "2023-12-01T16:29:52.167107500Z"
    }
   },
   "id": "8510c2911f03cab0"
  },
  {
   "cell_type": "markdown",
   "source": [
    "### NAND (NOT AND)"
   ],
   "metadata": {
    "collapsed": false
   },
   "id": "8225f7b5f3dfbe0"
  },
  {
   "cell_type": "code",
   "execution_count": 133,
   "outputs": [
    {
     "data": {
      "text/plain": "~(P & Q)",
      "text/latex": "$\\displaystyle \\neg \\left(P \\wedge Q\\right)$"
     },
     "execution_count": 133,
     "metadata": {},
     "output_type": "execute_result"
    }
   ],
   "source": [
    "expr = Nand(P, Q)\n",
    "expr"
   ],
   "metadata": {
    "collapsed": false,
    "ExecuteTime": {
     "end_time": "2023-12-01T16:29:54.992480200Z",
     "start_time": "2023-12-01T16:29:54.961460300Z"
    }
   },
   "id": "bc27ef4247ac766d"
  },
  {
   "cell_type": "markdown",
   "source": [
    "**Tabel Kebenaran *NAND***\n",
    "\n",
    "| P | Q | output |\n",
    "|---|---|--------|\n",
    "| F | F | T      |\n",
    "| F | T | T      |\n",
    "| T | F | T      |\n",
    "| T | T | F      |"
   ],
   "metadata": {
    "collapsed": false
   },
   "id": "536723dcbc0581f9"
  },
  {
   "cell_type": "code",
   "execution_count": 134,
   "outputs": [
    {
     "data": {
      "text/plain": "True",
      "text/latex": "$\\displaystyle \\text{True}$"
     },
     "execution_count": 134,
     "metadata": {},
     "output_type": "execute_result"
    }
   ],
   "source": [
    "expr.subs({P:false, Q:false})"
   ],
   "metadata": {
    "collapsed": false,
    "ExecuteTime": {
     "end_time": "2023-12-01T16:30:03.017524500Z",
     "start_time": "2023-12-01T16:30:02.991420400Z"
    }
   },
   "id": "fe8cbe393745126e"
  },
  {
   "cell_type": "code",
   "execution_count": 135,
   "outputs": [
    {
     "data": {
      "text/plain": "True",
      "text/latex": "$\\displaystyle \\text{True}$"
     },
     "execution_count": 135,
     "metadata": {},
     "output_type": "execute_result"
    }
   ],
   "source": [
    "expr.subs({P:false, Q:true})"
   ],
   "metadata": {
    "collapsed": false,
    "ExecuteTime": {
     "end_time": "2023-12-01T16:30:03.940313900Z",
     "start_time": "2023-12-01T16:30:03.904166200Z"
    }
   },
   "id": "6680f1b2c3144246"
  },
  {
   "cell_type": "code",
   "execution_count": 136,
   "outputs": [
    {
     "data": {
      "text/plain": "True",
      "text/latex": "$\\displaystyle \\text{True}$"
     },
     "execution_count": 136,
     "metadata": {},
     "output_type": "execute_result"
    }
   ],
   "source": [
    "expr.subs({P:true, Q:false})"
   ],
   "metadata": {
    "collapsed": false,
    "ExecuteTime": {
     "end_time": "2023-12-01T16:30:05.106361700Z",
     "start_time": "2023-12-01T16:30:05.074777400Z"
    }
   },
   "id": "e7349fa5bdc7f905"
  },
  {
   "cell_type": "code",
   "execution_count": 137,
   "outputs": [
    {
     "data": {
      "text/plain": "False",
      "text/latex": "$\\displaystyle \\text{False}$"
     },
     "execution_count": 137,
     "metadata": {},
     "output_type": "execute_result"
    }
   ],
   "source": [
    "expr.subs({P:true, Q:true})"
   ],
   "metadata": {
    "collapsed": false,
    "ExecuteTime": {
     "end_time": "2023-12-01T16:30:06.232670500Z",
     "start_time": "2023-12-01T16:30:06.170279700Z"
    }
   },
   "id": "2ae439802c7215ce"
  },
  {
   "cell_type": "markdown",
   "source": [
    "### NOR (NOT OR)"
   ],
   "metadata": {
    "collapsed": false
   },
   "id": "518a863262e3513d"
  },
  {
   "cell_type": "code",
   "execution_count": 138,
   "outputs": [
    {
     "data": {
      "text/plain": "~(P | Q)",
      "text/latex": "$\\displaystyle \\neg \\left(P \\vee Q\\right)$"
     },
     "execution_count": 138,
     "metadata": {},
     "output_type": "execute_result"
    }
   ],
   "source": [
    "expr = Nor(P, Q)\n",
    "expr"
   ],
   "metadata": {
    "collapsed": false,
    "ExecuteTime": {
     "end_time": "2023-12-01T16:30:13.507601600Z",
     "start_time": "2023-12-01T16:30:13.477361500Z"
    }
   },
   "id": "7c8fecea48d66dcc"
  },
  {
   "cell_type": "markdown",
   "source": [
    "**Tabel Kebenaran *NOR***\n",
    "\n",
    "| P | Q | output |\n",
    "|---|---| ------ |\n",
    "| F | F | T      |\n",
    "| F | T | F      |\n",
    "| T | F | F      |\n",
    "| T | T | F      |"
   ],
   "metadata": {
    "collapsed": false
   },
   "id": "a12b29b8c82374ad"
  },
  {
   "cell_type": "code",
   "execution_count": 139,
   "outputs": [
    {
     "data": {
      "text/plain": "True",
      "text/latex": "$\\displaystyle \\text{True}$"
     },
     "execution_count": 139,
     "metadata": {},
     "output_type": "execute_result"
    }
   ],
   "source": [
    "expr.subs({P:false, Q:false})"
   ],
   "metadata": {
    "collapsed": false,
    "ExecuteTime": {
     "end_time": "2023-12-01T16:30:26.593573200Z",
     "start_time": "2023-12-01T16:30:26.558975600Z"
    }
   },
   "id": "e759c6c20ff50658"
  },
  {
   "cell_type": "code",
   "execution_count": 140,
   "outputs": [
    {
     "data": {
      "text/plain": "False",
      "text/latex": "$\\displaystyle \\text{False}$"
     },
     "execution_count": 140,
     "metadata": {},
     "output_type": "execute_result"
    }
   ],
   "source": [
    "expr.subs({P:false, Q:true})"
   ],
   "metadata": {
    "collapsed": false,
    "ExecuteTime": {
     "end_time": "2023-12-01T16:30:27.674427600Z",
     "start_time": "2023-12-01T16:30:27.642913400Z"
    }
   },
   "id": "1120e840b230e78e"
  },
  {
   "cell_type": "code",
   "execution_count": 141,
   "outputs": [
    {
     "data": {
      "text/plain": "False",
      "text/latex": "$\\displaystyle \\text{False}$"
     },
     "execution_count": 141,
     "metadata": {},
     "output_type": "execute_result"
    }
   ],
   "source": [
    "expr.subs({P:true, Q:false})"
   ],
   "metadata": {
    "collapsed": false,
    "ExecuteTime": {
     "end_time": "2023-12-01T16:30:29.352394800Z",
     "start_time": "2023-12-01T16:30:29.331450800Z"
    }
   },
   "id": "c8ac23e69f6e4fb7"
  },
  {
   "cell_type": "code",
   "execution_count": 142,
   "outputs": [
    {
     "data": {
      "text/plain": "False",
      "text/latex": "$\\displaystyle \\text{False}$"
     },
     "execution_count": 142,
     "metadata": {},
     "output_type": "execute_result"
    }
   ],
   "source": [
    "expr.subs({P:true, Q:true})"
   ],
   "metadata": {
    "collapsed": false,
    "ExecuteTime": {
     "end_time": "2023-12-01T16:30:30.623511200Z",
     "start_time": "2023-12-01T16:30:30.566157300Z"
    }
   },
   "id": "6814e035dbdcd98a"
  },
  {
   "cell_type": "markdown",
   "source": [
    "### XOR (Exclusive OR)"
   ],
   "metadata": {
    "collapsed": false
   },
   "id": "64b75e70ab65ef15"
  },
  {
   "cell_type": "code",
   "execution_count": 143,
   "outputs": [
    {
     "data": {
      "text/plain": "P ^ Q",
      "text/latex": "$\\displaystyle P \\veebar Q$"
     },
     "execution_count": 143,
     "metadata": {},
     "output_type": "execute_result"
    }
   ],
   "source": [
    "expr = Xor(P, Q)\n",
    "expr"
   ],
   "metadata": {
    "collapsed": false,
    "ExecuteTime": {
     "end_time": "2023-12-01T16:30:46.921481700Z",
     "start_time": "2023-12-01T16:30:46.898697100Z"
    }
   },
   "id": "688c7ecfb5f1ecf8"
  },
  {
   "cell_type": "markdown",
   "source": [
    "**Tabel Kebenaran *XOR***\n",
    "\n",
    "| P | Q | XOr |\n",
    "|---|---| --- |\n",
    "| F | F | F   |\n",
    "| F | T | T   |\n",
    "| T | F | T   |\n",
    "| T | T | F   |"
   ],
   "metadata": {
    "collapsed": false
   },
   "id": "a56c5e148225098f"
  },
  {
   "cell_type": "code",
   "execution_count": 144,
   "outputs": [
    {
     "data": {
      "text/plain": "False",
      "text/latex": "$\\displaystyle \\text{False}$"
     },
     "execution_count": 144,
     "metadata": {},
     "output_type": "execute_result"
    }
   ],
   "source": [
    "expr.subs({P:false, Q:false})"
   ],
   "metadata": {
    "collapsed": false,
    "ExecuteTime": {
     "end_time": "2023-12-01T16:30:58.659117300Z",
     "start_time": "2023-12-01T16:30:58.629330300Z"
    }
   },
   "id": "abd0bf649a8b884b"
  },
  {
   "cell_type": "code",
   "execution_count": 145,
   "outputs": [
    {
     "data": {
      "text/plain": "True",
      "text/latex": "$\\displaystyle \\text{True}$"
     },
     "execution_count": 145,
     "metadata": {},
     "output_type": "execute_result"
    }
   ],
   "source": [
    "expr.subs({P:false, Q:true})"
   ],
   "metadata": {
    "collapsed": false,
    "ExecuteTime": {
     "end_time": "2023-12-01T16:30:59.773287Z",
     "start_time": "2023-12-01T16:30:59.740549200Z"
    }
   },
   "id": "d6a724df63b20cec"
  },
  {
   "cell_type": "code",
   "execution_count": 146,
   "outputs": [
    {
     "data": {
      "text/plain": "True",
      "text/latex": "$\\displaystyle \\text{True}$"
     },
     "execution_count": 146,
     "metadata": {},
     "output_type": "execute_result"
    }
   ],
   "source": [
    "expr.subs({P:true, Q:false})"
   ],
   "metadata": {
    "collapsed": false,
    "ExecuteTime": {
     "end_time": "2023-12-01T16:31:00.848742Z",
     "start_time": "2023-12-01T16:31:00.823317700Z"
    }
   },
   "id": "339d69014b4d2741"
  },
  {
   "cell_type": "code",
   "execution_count": 147,
   "outputs": [
    {
     "data": {
      "text/plain": "False",
      "text/latex": "$\\displaystyle \\text{False}$"
     },
     "execution_count": 147,
     "metadata": {},
     "output_type": "execute_result"
    }
   ],
   "source": [
    "expr.subs({P:true, Q:true})"
   ],
   "metadata": {
    "collapsed": false,
    "ExecuteTime": {
     "end_time": "2023-12-01T16:31:01.913632100Z",
     "start_time": "2023-12-01T16:31:01.882523500Z"
    }
   },
   "id": "a3da61f083fdbcae"
  },
  {
   "cell_type": "markdown",
   "source": [
    "### XNOR (Exclusive NOT OR)"
   ],
   "metadata": {
    "collapsed": false
   },
   "id": "8d6aa8bdc3619985"
  },
  {
   "cell_type": "code",
   "execution_count": 148,
   "outputs": [
    {
     "data": {
      "text/plain": "~(P ^ Q)",
      "text/latex": "$\\displaystyle \\neg \\left(P \\veebar Q\\right)$"
     },
     "execution_count": 148,
     "metadata": {},
     "output_type": "execute_result"
    }
   ],
   "source": [
    "from sympy.logic.boolalg import *\n",
    "expr = Xnor(P, Q)\n",
    "expr"
   ],
   "metadata": {
    "collapsed": false,
    "ExecuteTime": {
     "end_time": "2023-12-01T16:31:12.356583400Z",
     "start_time": "2023-12-01T16:31:12.337529100Z"
    }
   },
   "id": "c58be6856f8d553b"
  },
  {
   "cell_type": "markdown",
   "source": [
    "**Tabel Kebenaran *XNOR***\n",
    "\n",
    "| P | Q | XNor |\n",
    "|---|---|------|\n",
    "| F | F | T    |\n",
    "| F | T | F    |\n",
    "| T | F | F    |\n",
    "| T | T | T    |"
   ],
   "metadata": {
    "collapsed": false
   },
   "id": "b0840aadbeb5c72f"
  },
  {
   "cell_type": "code",
   "execution_count": 149,
   "outputs": [
    {
     "data": {
      "text/plain": "True",
      "text/latex": "$\\displaystyle \\text{True}$"
     },
     "execution_count": 149,
     "metadata": {},
     "output_type": "execute_result"
    }
   ],
   "source": [
    "expr.subs({P:false, Q:false})"
   ],
   "metadata": {
    "collapsed": false,
    "ExecuteTime": {
     "end_time": "2023-12-01T16:31:21.030123300Z",
     "start_time": "2023-12-01T16:31:21.000093900Z"
    }
   },
   "id": "48367ec9b65ec44d"
  },
  {
   "cell_type": "code",
   "execution_count": 150,
   "outputs": [
    {
     "data": {
      "text/plain": "False",
      "text/latex": "$\\displaystyle \\text{False}$"
     },
     "execution_count": 150,
     "metadata": {},
     "output_type": "execute_result"
    }
   ],
   "source": [
    "expr.subs({P:false, Q:true})"
   ],
   "metadata": {
    "collapsed": false,
    "ExecuteTime": {
     "end_time": "2023-12-01T16:31:22.130636100Z",
     "start_time": "2023-12-01T16:31:22.106235Z"
    }
   },
   "id": "1e87074048967c3"
  },
  {
   "cell_type": "code",
   "execution_count": 151,
   "outputs": [
    {
     "data": {
      "text/plain": "False",
      "text/latex": "$\\displaystyle \\text{False}$"
     },
     "execution_count": 151,
     "metadata": {},
     "output_type": "execute_result"
    }
   ],
   "source": [
    "expr.subs({P:true, Q:false})"
   ],
   "metadata": {
    "collapsed": false,
    "ExecuteTime": {
     "end_time": "2023-12-01T16:31:23.250994700Z",
     "start_time": "2023-12-01T16:31:23.231546300Z"
    }
   },
   "id": "5b7e6e4b019f0a62"
  },
  {
   "cell_type": "code",
   "execution_count": 152,
   "outputs": [
    {
     "data": {
      "text/plain": "True",
      "text/latex": "$\\displaystyle \\text{True}$"
     },
     "execution_count": 152,
     "metadata": {},
     "output_type": "execute_result"
    }
   ],
   "source": [
    "expr.subs({P:true, Q:true})"
   ],
   "metadata": {
    "collapsed": false,
    "ExecuteTime": {
     "end_time": "2023-12-01T16:31:24.396234900Z",
     "start_time": "2023-12-01T16:31:24.342905800Z"
    }
   },
   "id": "43a0ccee0326a40c"
  },
  {
   "cell_type": "markdown",
   "source": [
    "### Implies"
   ],
   "metadata": {
    "collapsed": false
   },
   "id": "965f4636c108225a"
  },
  {
   "cell_type": "code",
   "execution_count": 153,
   "outputs": [
    {
     "data": {
      "text/plain": "Implies(P, Q)",
      "text/latex": "$\\displaystyle P \\Rightarrow Q$"
     },
     "execution_count": 153,
     "metadata": {},
     "output_type": "execute_result"
    }
   ],
   "source": [
    "expr = Implies(P, Q)\n",
    "expr"
   ],
   "metadata": {
    "collapsed": false,
    "ExecuteTime": {
     "end_time": "2023-12-01T16:31:31.438644100Z",
     "start_time": "2023-12-01T16:31:31.345337300Z"
    }
   },
   "id": "b6d569a3de200a02"
  },
  {
   "cell_type": "markdown",
   "source": [
    "| P | Q | P implies Q |\n",
    "|---|---|-------------|\n",
    "| F | F | T           |\n",
    "| F | T | T           |\n",
    "| T | F | F           |\n",
    "| T | T | T           |"
   ],
   "metadata": {
    "collapsed": false
   },
   "id": "ed8e487d86d78e5d"
  },
  {
   "cell_type": "code",
   "execution_count": 154,
   "outputs": [
    {
     "data": {
      "text/plain": "True",
      "text/latex": "$\\displaystyle \\text{True}$"
     },
     "execution_count": 154,
     "metadata": {},
     "output_type": "execute_result"
    }
   ],
   "source": [
    "expr.subs({P:false, Q:false})"
   ],
   "metadata": {
    "collapsed": false,
    "ExecuteTime": {
     "end_time": "2023-12-01T16:31:57.434709600Z",
     "start_time": "2023-12-01T16:31:57.400259200Z"
    }
   },
   "id": "db0c7554cd1dcae8"
  },
  {
   "cell_type": "code",
   "execution_count": 155,
   "outputs": [
    {
     "data": {
      "text/plain": "True",
      "text/latex": "$\\displaystyle \\text{True}$"
     },
     "execution_count": 155,
     "metadata": {},
     "output_type": "execute_result"
    }
   ],
   "source": [
    "expr.subs({P:false, Q:true})"
   ],
   "metadata": {
    "collapsed": false,
    "ExecuteTime": {
     "end_time": "2023-12-01T16:31:58.912541500Z",
     "start_time": "2023-12-01T16:31:58.888920800Z"
    }
   },
   "id": "a42c0c41785a36d3"
  },
  {
   "cell_type": "code",
   "execution_count": 156,
   "outputs": [
    {
     "data": {
      "text/plain": "False",
      "text/latex": "$\\displaystyle \\text{False}$"
     },
     "execution_count": 156,
     "metadata": {},
     "output_type": "execute_result"
    }
   ],
   "source": [
    "expr.subs({P:true, Q:false})"
   ],
   "metadata": {
    "collapsed": false,
    "ExecuteTime": {
     "end_time": "2023-12-01T16:32:00.017945700Z",
     "start_time": "2023-12-01T16:31:59.990831900Z"
    }
   },
   "id": "4b5a9394c441ef64"
  },
  {
   "cell_type": "code",
   "execution_count": 157,
   "outputs": [
    {
     "data": {
      "text/plain": "True",
      "text/latex": "$\\displaystyle \\text{True}$"
     },
     "execution_count": 157,
     "metadata": {},
     "output_type": "execute_result"
    }
   ],
   "source": [
    "expr.subs({P:true, Q:true})"
   ],
   "metadata": {
    "collapsed": false,
    "ExecuteTime": {
     "end_time": "2023-12-01T16:32:01.153200300Z",
     "start_time": "2023-12-01T16:32:01.106331500Z"
    }
   },
   "id": "342fe2486c3a334a"
  },
  {
   "cell_type": "markdown",
   "source": [
    "## Contoh Soal"
   ],
   "metadata": {
    "collapsed": false
   },
   "id": "b044733205bf94d1"
  },
  {
   "cell_type": "markdown",
   "source": [
    "### Soal 1"
   ],
   "metadata": {
    "collapsed": false
   },
   "id": "f5c031371f831862"
  },
  {
   "cell_type": "markdown",
   "source": [
    "Tentukan hasil akhir dari operasi di bawah ini\n",
    "\n",
    "**(P ⊕ Q) => (R ^ ~P)**\n",
    "\n",
    "Jika\n",
    "**P = true, Q = false, R = true**"
   ],
   "metadata": {
    "collapsed": false
   },
   "id": "3103d6681dcceddc"
  },
  {
   "cell_type": "code",
   "execution_count": 78,
   "outputs": [],
   "source": [
    "P = Symbol('P')\n",
    "Q = Symbol('Q')\n",
    "R = Symbol('R')"
   ],
   "metadata": {
    "collapsed": false,
    "ExecuteTime": {
     "end_time": "2023-12-01T09:47:18.645343700Z",
     "start_time": "2023-12-01T09:47:18.190724900Z"
    }
   },
   "id": "37ec73bfd16e274a"
  },
  {
   "cell_type": "code",
   "execution_count": 87,
   "outputs": [
    {
     "data": {
      "text/plain": "Implies(P ^ Q, R & ~P)",
      "text/latex": "$\\displaystyle \\left(P \\veebar Q\\right) \\Rightarrow \\left(R \\wedge \\neg P\\right)$"
     },
     "execution_count": 87,
     "metadata": {},
     "output_type": "execute_result"
    }
   ],
   "source": [
    "expr = Implies(\n",
    "    Xor(P,Q),\n",
    "    And(R,Not(P))\n",
    ")\n",
    "\n",
    "expr"
   ],
   "metadata": {
    "collapsed": false,
    "ExecuteTime": {
     "end_time": "2023-12-01T10:12:51.485354800Z",
     "start_time": "2023-12-01T10:12:51.411102800Z"
    }
   },
   "id": "fe1ea884dd10cc22"
  },
  {
   "cell_type": "code",
   "execution_count": 88,
   "outputs": [
    {
     "data": {
      "text/plain": "False",
      "text/latex": "$\\displaystyle \\text{False}$"
     },
     "execution_count": 88,
     "metadata": {},
     "output_type": "execute_result"
    }
   ],
   "source": [
    "expr.subs({P:true,Q:false,R:true})"
   ],
   "metadata": {
    "collapsed": false,
    "ExecuteTime": {
     "end_time": "2023-12-01T10:12:58.277534400Z",
     "start_time": "2023-12-01T10:12:58.121730300Z"
    }
   },
   "id": "28a16fc942ff47d6"
  },
  {
   "cell_type": "markdown",
   "source": [
    "### Soal 2"
   ],
   "metadata": {
    "collapsed": false
   },
   "id": "f27b3c8706abb084"
  },
  {
   "cell_type": "markdown",
   "source": [
    "Tentukan hasil akhir dari operasi di bawah ini\n",
    "\n",
    "**(~Q \\^ ~R) v (R ⊕ ~P)**\n",
    "\n",
    "Jika\n",
    "**P = false, Q = true, R = true**"
   ],
   "metadata": {
    "collapsed": false
   },
   "id": "bfdd73e0df07a92f"
  },
  {
   "cell_type": "code",
   "execution_count": 89,
   "outputs": [
    {
     "data": {
      "text/plain": "(R ^ ~P) | (~Q & ~R)",
      "text/latex": "$\\displaystyle \\left(\\neg Q \\wedge \\neg R\\right) \\vee \\left(R \\veebar \\neg P\\right)$"
     },
     "execution_count": 89,
     "metadata": {},
     "output_type": "execute_result"
    }
   ],
   "source": [
    "expr = Or(\n",
    "    And(Not(Q),Not(R)),\n",
    "    Xor(R,Not(P))\n",
    ")\n",
    "\n",
    "expr"
   ],
   "metadata": {
    "collapsed": false,
    "ExecuteTime": {
     "end_time": "2023-12-01T10:15:19.383953700Z",
     "start_time": "2023-12-01T10:15:19.316308800Z"
    }
   },
   "id": "d78f7c6428ac63d9"
  },
  {
   "cell_type": "code",
   "execution_count": 90,
   "outputs": [
    {
     "data": {
      "text/plain": "False",
      "text/latex": "$\\displaystyle \\text{False}$"
     },
     "execution_count": 90,
     "metadata": {},
     "output_type": "execute_result"
    }
   ],
   "source": [
    "expr.subs({P:false,Q:true,R:true})"
   ],
   "metadata": {
    "collapsed": false,
    "ExecuteTime": {
     "end_time": "2023-12-01T10:15:25.567647500Z",
     "start_time": "2023-12-01T10:15:25.426934Z"
    }
   },
   "id": "40988611dd2a4e7f"
  },
  {
   "cell_type": "markdown",
   "source": [
    "### Soal 3"
   ],
   "metadata": {
    "collapsed": false
   },
   "id": "d827cb9663a34dc1"
  },
  {
   "cell_type": "markdown",
   "source": [
    "Tentukan hasil akhir dari operasi di bawah ini\n",
    "\n",
    "**(~P \\^ ~Q) <=> ~(Q v ~R)**\n",
    "\n",
    "Jika\n",
    "**P = true, Q = false, R = false**"
   ],
   "metadata": {
    "collapsed": false
   },
   "id": "4ba451fa24d7cf6a"
  },
  {
   "cell_type": "code",
   "execution_count": 94,
   "outputs": [
    {
     "data": {
      "text/plain": "Equivalent(~P & ~Q, ~(Q | ~R))",
      "text/latex": "$\\displaystyle \\left(\\neg P \\wedge \\neg Q\\right) \\Leftrightarrow \\neg \\left(Q \\vee \\neg R\\right)$"
     },
     "execution_count": 94,
     "metadata": {},
     "output_type": "execute_result"
    }
   ],
   "source": [
    "expr = Equivalent(\n",
    "    And(Not(P),Not(Q)),\n",
    "    Not(Or(Q, Not(R)))\n",
    ")\n",
    "\n",
    "expr"
   ],
   "metadata": {
    "collapsed": false,
    "ExecuteTime": {
     "end_time": "2023-12-01T10:20:10.077762Z",
     "start_time": "2023-12-01T10:20:10.013072300Z"
    }
   },
   "id": "70274ab4ecc58632"
  },
  {
   "cell_type": "code",
   "execution_count": 95,
   "outputs": [
    {
     "data": {
      "text/plain": "True",
      "text/latex": "$\\displaystyle \\text{True}$"
     },
     "execution_count": 95,
     "metadata": {},
     "output_type": "execute_result"
    }
   ],
   "source": [
    "expr.subs({P:true,Q:false,R:false})"
   ],
   "metadata": {
    "collapsed": false,
    "ExecuteTime": {
     "end_time": "2023-12-01T10:20:13.297654400Z",
     "start_time": "2023-12-01T10:20:13.273667300Z"
    }
   },
   "id": "a7597e3d9993d9d6"
  },
  {
   "cell_type": "markdown",
   "source": [
    "### Soal 4"
   ],
   "metadata": {
    "collapsed": false
   },
   "id": "e9faa0f2bee865b3"
  },
  {
   "cell_type": "markdown",
   "source": [
    "Tentukan hasil akhir dari operasi di bawah ini\n",
    "\n",
    "**((P ⊕ Q) \\^ R) \\^ P**\n",
    "\n",
    "Jika\n",
    "**P = true, Q = true, R = true**"
   ],
   "metadata": {
    "collapsed": false
   },
   "id": "85c74b69c75a115a"
  },
  {
   "cell_type": "code",
   "execution_count": 108,
   "outputs": [
    {
     "data": {
      "text/plain": "P & R & (P ^ Q)",
      "text/latex": "$\\displaystyle P \\wedge R \\wedge \\left(P \\veebar Q\\right)$"
     },
     "execution_count": 108,
     "metadata": {},
     "output_type": "execute_result"
    }
   ],
   "source": [
    "expr = And(\n",
    "    And(\n",
    "        Xor(P,Q),\n",
    "        R\n",
    "    ),\n",
    "    P\n",
    ")\n",
    "\n",
    "expr"
   ],
   "metadata": {
    "collapsed": false,
    "ExecuteTime": {
     "end_time": "2023-12-01T10:48:00.214410900Z",
     "start_time": "2023-12-01T10:48:00.152515200Z"
    }
   },
   "id": "6fb98c29ae9809b7"
  },
  {
   "cell_type": "code",
   "execution_count": 116,
   "outputs": [
    {
     "data": {
      "text/plain": "False",
      "text/latex": "$\\displaystyle \\text{False}$"
     },
     "execution_count": 116,
     "metadata": {},
     "output_type": "execute_result"
    }
   ],
   "source": [
    "expr.subs({P:true,Q:true,R:true})"
   ],
   "metadata": {
    "collapsed": false,
    "ExecuteTime": {
     "end_time": "2023-12-01T10:48:55.900625500Z",
     "start_time": "2023-12-01T10:48:55.832045300Z"
    }
   },
   "id": "69ac96d5600b6853"
  },
  {
   "cell_type": "markdown",
   "source": [
    "### Soal 5"
   ],
   "metadata": {
    "collapsed": false
   },
   "id": "56e57179a13dc3d0"
  },
  {
   "cell_type": "markdown",
   "source": [
    "Tentukan hasil akhir dari operasi di bawah ini\n",
    "\n",
    "**(Q => R) \\^ (~R \\^ ~Q) v P**\n",
    "\n",
    "Jika\n",
    "**P = true, Q = true, R = false**"
   ],
   "metadata": {
    "collapsed": false
   },
   "id": "fba412263ad6abce"
  },
  {
   "cell_type": "code",
   "execution_count": 98,
   "outputs": [
    {
     "data": {
      "text/plain": "P | (Implies(Q, R)) | (~Q & ~R)",
      "text/latex": "$\\displaystyle P \\vee \\left(\\neg Q \\wedge \\neg R\\right) \\vee \\left(Q \\Rightarrow R\\right)$"
     },
     "execution_count": 98,
     "metadata": {},
     "output_type": "execute_result"
    }
   ],
   "source": [
    "expr_kiri = Implies(Q,R)\n",
    "expr_tengah = And(Not(R),Not(Q))\n",
    "expr_kanan = P\n",
    "\n",
    "expr = Or(Or(expr_kiri, expr_tengah), expr_kanan)"
   ],
   "metadata": {
    "collapsed": false,
    "ExecuteTime": {
     "end_time": "2023-12-01T10:39:44.557289200Z",
     "start_time": "2023-12-01T10:39:44.529309100Z"
    }
   },
   "id": "d384de5ce90cfe22"
  },
  {
   "cell_type": "code",
   "execution_count": 99,
   "outputs": [
    {
     "data": {
      "text/plain": "True",
      "text/latex": "$\\displaystyle \\text{True}$"
     },
     "execution_count": 99,
     "metadata": {},
     "output_type": "execute_result"
    }
   ],
   "source": [
    "expr.subs({P:true,Q:true,R:false})"
   ],
   "metadata": {
    "collapsed": false,
    "ExecuteTime": {
     "end_time": "2023-12-01T10:40:37.622001Z",
     "start_time": "2023-12-01T10:40:37.540382300Z"
    }
   },
   "id": "3fa4a84c81301eed"
  },
  {
   "cell_type": "code",
   "execution_count": null,
   "outputs": [],
   "source": [],
   "metadata": {
    "collapsed": false
   },
   "id": "f63f89b1b707c32b"
  }
 ],
 "metadata": {
  "kernelspec": {
   "display_name": "Python 3",
   "language": "python",
   "name": "python3"
  },
  "language_info": {
   "codemirror_mode": {
    "name": "ipython",
    "version": 2
   },
   "file_extension": ".py",
   "mimetype": "text/x-python",
   "name": "python",
   "nbconvert_exporter": "python",
   "pygments_lexer": "ipython2",
   "version": "2.7.6"
  }
 },
 "nbformat": 4,
 "nbformat_minor": 5
}
