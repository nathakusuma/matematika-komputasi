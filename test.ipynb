{
 "cells": [
  {
   "cell_type": "code",
   "execution_count": 18,
   "id": "initial_id",
   "metadata": {
    "collapsed": true,
    "ExecuteTime": {
     "end_time": "2023-12-05T18:40:08.184657400Z",
     "start_time": "2023-12-05T18:40:08.170482400Z"
    }
   },
   "outputs": [
    {
     "name": "stdout",
     "output_type": "stream",
     "text": [
      "Q:45, A:4620, B:101, R:75, T1:0, T2:1, T: -45\n",
      "Q:1, A:101, B:75, R:26, T1:1, T2:-45, T: 46\n",
      "Q:2, A:75, B:26, R:23, T1:-45, T2:46, T: -137\n",
      "Q:1, A:26, B:23, R:3, T1:46, T2:-137, T: 183\n",
      "Q:7, A:23, B:3, R:2, T1:-137, T2:183, T: -1418\n",
      "Q:1, A:3, B:2, R:1, T1:183, T2:-1418, T: 1601\n",
      "Q:2, A:2, B:1, R:0, T1:-1418, T2:1601, T: -4620\n"
     ]
    },
    {
     "data": {
      "text/plain": "1601"
     },
     "execution_count": 18,
     "metadata": {},
     "output_type": "execute_result"
    }
   ],
   "source": [
    "import sympy\n",
    "\n",
    "\n",
    "def ext_euclid(a, b, t1, t2):\n",
    "    if b == 0:\n",
    "        return t1\n",
    "    else:\n",
    "        q = a // b\n",
    "        r = a % b\n",
    "        t = t1 - t2 * q\n",
    "        print(\"Q:{}, A:{}, B:{}, R:{}, T1:{}, T2:{}, T: {}\".format(q, a, b, r, t1, t2, t))\n",
    "        return ext_euclid(b, r, t2, t)\n",
    "\n",
    "# Calling the function with the initial values for t1 and t2\n",
    "t_inverse = ext_euclid(4620, 101, 0, 1)\n",
    "t_inverse\n"
   ]
  },
  {
   "cell_type": "code",
   "execution_count": 13,
   "outputs": [
    {
     "data": {
      "text/plain": "<Figure size 300x300 with 1 Axes>",
      "image/png": "[encoded data removed]"
     },
     "metadata": {},
     "output_type": "display_data"
    }
   ],
   "source": [
    "from sympy import Matrix\n",
    "import matplotlib.pyplot as plt\n",
    "\n",
    "atas_kiri_x = [4 , 4, 5, 5, 3, 0, 0, 2, 5, 5]\n",
    "atas_kiri_y = [10, 9, 8, 7, 9, 9, 6, 4, 4, 7]\n",
    "\n",
    "atas_kiri_2_x = [3, 2, 1, 1, 3]\n",
    "atas_kiri_2_y = [6, 8, 8, 7, 6]\n",
    "\n",
    "bawah_kiri_x = [0, 3, 5, 5, 2, 0, 0]\n",
    "bawah_kiri_y = [0, 0, 2, 4, 4, 3, 0]\n",
    "\n",
    "bawah_kiri_2_x = [2, 3, 1, 2]\n",
    "bawah_kiri_2_y = [1, 3, 2, 1]\n",
    "\n",
    "cermin_y = Matrix([[-1,0],[0,1]])\n",
    "offset = -10\n",
    "\n",
    "def transform(original_matrix, transformation_matrix):\n",
    "    result_matrix = transformation_matrix * original_matrix\n",
    "    plt.plot(list(result_matrix[0,:]), list(result_matrix[1,:]))\n",
    "\n",
    "plt.figure(figsize=(3,3))\n",
    "plt.plot(atas_kiri_x, atas_kiri_y)\n",
    "plt.plot(atas_kiri_2_x, atas_kiri_2_y)\n",
    "plt.plot(bawah_kiri_x, bawah_kiri_y)\n",
    "plt.plot(bawah_kiri_2_x, bawah_kiri_2_y)\n",
    "\n",
    "transform(Matrix([[x+offset for x in atas_kiri_x], atas_kiri_y]), cermin_y)\n",
    "transform(Matrix([[x+offset for x in atas_kiri_2_x], atas_kiri_2_y]), cermin_y)\n",
    "transform(Matrix([[x+offset for x in bawah_kiri_x], bawah_kiri_y]), cermin_y)\n",
    "transform(Matrix([[x+offset for x in bawah_kiri_2_x], bawah_kiri_2_y]), cermin_y)"
   ],
   "metadata": {
    "collapsed": false,
    "ExecuteTime": {
     "end_time": "2023-12-08T08:29:53.152253700Z",
     "start_time": "2023-12-08T08:29:53.062463400Z"
    }
   },
   "id": "2e454e58de8b88a2"
  },
  {
   "cell_type": "code",
   "execution_count": 14,
   "outputs": [
    {
     "name": "stdout",
     "output_type": "stream",
     "text": [
      "182\n"
     ]
    }
   ],
   "source": [
    "import itertools\n",
    "\n",
    "# Buat karakter yang dapat digunakan untuk membuat password\n",
    "characters = ['A', 'b', 'B', 'D', 'g', '2', '5', '9', '^', '&', '%', '*', '@', '!']\n",
    "\n",
    "# Hitung banyak password yang mungkin dibuat\n",
    "n_password = len(list(itertools.permutations(characters, 2)))\n",
    "\n",
    "# Cetak hasil\n",
    "print(n_password)\n"
   ],
   "metadata": {
    "collapsed": false,
    "ExecuteTime": {
     "end_time": "2023-12-08T09:46:39.149404900Z",
     "start_time": "2023-12-08T09:46:39.136827600Z"
    }
   },
   "id": "b4908f61801904c"
  },
  {
   "cell_type": "code",
   "execution_count": 16,
   "outputs": [
    {
     "data": {
      "text/plain": "1.21576654590569e+19",
      "text/latex": "$\\displaystyle 1.21576654590569 \\cdot 10^{19}$"
     },
     "execution_count": 16,
     "metadata": {},
     "output_type": "execute_result"
    }
   ],
   "source": [
    "from sympy import symbols, simplify\n",
    "\n",
    "# Mendefinisikan variabel\n",
    "# n = symbols('n')\n",
    "a = 2  # Suku pertama\n",
    "r = 3  # Rasio\n",
    "\n",
    "# Mendefinisikan fungsi untuk menghitung jumlah suku deret geometri\n",
    "def JUMLAH_SUKU(n):\n",
    "    return simplify(a * (r**n - 1) / (r - 1))\n",
    "\n",
    "# Menghitung jumlah 40 suku pertama\n",
    "jumlah_40_suku = JUMLAH_SUKU(40)\n",
    "jumlah_40_suku\n"
   ],
   "metadata": {
    "collapsed": false,
    "ExecuteTime": {
     "end_time": "2023-12-08T12:15:19.829310900Z",
     "start_time": "2023-12-08T12:15:19.802731500Z"
    }
   },
   "id": "c0abe9a15589512"
  },
  {
   "cell_type": "code",
   "execution_count": null,
   "outputs": [],
   "source": [],
   "metadata": {
    "collapsed": false
   },
   "id": "a71d477080242e89"
  }
 ],
 "metadata": {
  "kernelspec": {
   "display_name": "Python 3",
   "language": "python",
   "name": "python3"
  },
  "language_info": {
   "codemirror_mode": {
    "name": "ipython",
    "version": 2
   },
   "file_extension": ".py",
   "mimetype": "text/x-python",
   "name": "python",
   "nbconvert_exporter": "python",
   "pygments_lexer": "ipython2",
   "version": "2.7.6"
  }
 },
 "nbformat": 4,
 "nbformat_minor": 5
}
