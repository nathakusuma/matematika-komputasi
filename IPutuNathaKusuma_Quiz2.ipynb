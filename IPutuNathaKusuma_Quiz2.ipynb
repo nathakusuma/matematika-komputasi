{
 "cells": [
  {
   "cell_type": "markdown",
   "source": [
    "# Identitas\n",
    "\n",
    "> **Nama**: I Putu Natha Kusuma\\\n",
    "> **NIM**: 235150201111023\\\n",
    "> **Kelas**: TIF B"
   ],
   "metadata": {
    "collapsed": false
   },
   "id": "e30fae16bf88e2d"
  },
  {
   "cell_type": "markdown",
   "source": [
    "# Soal 1"
   ],
   "metadata": {
    "collapsed": false
   },
   "id": "2772b5e27728e26b"
  },
  {
   "cell_type": "markdown",
   "source": [
    "Barisan Fibonacci didefinisikan sebagai $F_n=F_{n-1}+F_{n-2}$ dengan $F_1 = 1$ dan $F_1 = 1$. Tentukan $F_6$.\n",
    "\n",
    "a. 5\\\n",
    "b. 8\\\n",
    "c. 10\\\n",
    "d. 13\\\n",
    "e. 21\n",
    "\n",
    "**Jawaban: B**"
   ],
   "metadata": {
    "collapsed": false
   },
   "id": "dff5d9aebd1a9cd5"
  },
  {
   "cell_type": "code",
   "execution_count": 3,
   "outputs": [
    {
     "data": {
      "text/plain": "8"
     },
     "execution_count": 3,
     "metadata": {},
     "output_type": "execute_result"
    }
   ],
   "source": [
    "def fibonacci(n):\n",
    "    a = 1\n",
    "    b = 1\n",
    "    for i in range(3, n+1):\n",
    "        c = a + b\n",
    "        a = b\n",
    "        b = c\n",
    "    return b\n",
    "\n",
    "fibonacci(6)"
   ],
   "metadata": {
    "collapsed": false,
    "ExecuteTime": {
     "end_time": "2023-12-17T10:54:45.449997Z",
     "start_time": "2023-12-17T10:54:44.790818500Z"
    }
   },
   "id": "de33817b20c68430"
  },
  {
   "cell_type": "markdown",
   "source": [
    "# Soal 2"
   ],
   "metadata": {
    "collapsed": false
   },
   "id": "8f9c25a7bf45562b"
  },
  {
   "cell_type": "markdown",
   "source": [
    "Barisan Fibonacci didefinisikan sebagai $F_n=F_{n-1}+F_{n-2}$ dengan $F_1 = 1$ dan $F_2 = 2$. Tentukan $F_5$.\n",
    "\n",
    "a. 5\\\n",
    "b. 8\\\n",
    "c. 10\\\n",
    "d. 13\\\n",
    "e. 21\n",
    "\n",
    "**Jawaban: B**"
   ],
   "metadata": {
    "collapsed": false
   },
   "id": "e58c798317d9578a"
  },
  {
   "cell_type": "code",
   "execution_count": 4,
   "outputs": [
    {
     "data": {
      "text/plain": "8"
     },
     "execution_count": 4,
     "metadata": {},
     "output_type": "execute_result"
    }
   ],
   "source": [
    "def fibonacci(n):\n",
    "    a = 1\n",
    "    b = 2\n",
    "    for i in range(3, n+1):\n",
    "        c = a + b\n",
    "        a = b\n",
    "        b = c\n",
    "    return b\n",
    "\n",
    "fibonacci(5)"
   ],
   "metadata": {
    "collapsed": false,
    "ExecuteTime": {
     "end_time": "2023-12-17T10:54:45.574143Z",
     "start_time": "2023-12-17T10:54:45.451476Z"
    }
   },
   "id": "ff1d737474db1aa2"
  },
  {
   "cell_type": "markdown",
   "source": [
    "# Soal 3"
   ],
   "metadata": {
    "collapsed": false
   },
   "id": "a5cd44604cb71bde"
  },
  {
   "cell_type": "markdown",
   "source": [
    "Berapakah GCD atau FPB dari $1180$ dan $482$\n",
    "\n",
    "a. 2\\\n",
    "b. 4\\\n",
    "c. 6\\\n",
    "d. 10\\\n",
    "e. 8\n",
    "\n",
    "**Jawaban: A**"
   ],
   "metadata": {
    "collapsed": false
   },
   "id": "c132925b21c34d41"
  },
  {
   "cell_type": "code",
   "execution_count": 5,
   "outputs": [
    {
     "data": {
      "text/plain": "2",
      "text/latex": "$\\displaystyle 2$"
     },
     "execution_count": 5,
     "metadata": {},
     "output_type": "execute_result"
    }
   ],
   "source": [
    "from sympy import gcd\n",
    "\n",
    "gcd(1180, 482)"
   ],
   "metadata": {
    "collapsed": false,
    "ExecuteTime": {
     "end_time": "2023-12-17T10:54:45.657741600Z",
     "start_time": "2023-12-17T10:54:45.549033400Z"
    }
   },
   "id": "e2619a32fc1bd492"
  },
  {
   "cell_type": "markdown",
   "source": [
    "# Soal 4"
   ],
   "metadata": {
    "collapsed": false
   },
   "id": "c6e8f3c78d21c498"
  },
  {
   "cell_type": "markdown",
   "source": [
    "Berdasarkan teorema euclidian, carilah $q$ dan $r$ sehingga $m = nq + r$, bila diketahui $m = 66, n=11$\n",
    "\n",
    "a. $q = 6 , r = 0$\\\n",
    "b. $q = 0 , r = 6$\\\n",
    "c. $q = 3 , r = 33$\\\n",
    "d. $q = 5 , r = 11$\\\n",
    "e. $q = 4 , r = 22$\n",
    "\n",
    "**Jawaban: A**"
   ],
   "metadata": {
    "collapsed": false
   },
   "id": "2630c66282f9528"
  },
  {
   "cell_type": "code",
   "execution_count": 6,
   "outputs": [
    {
     "data": {
      "text/plain": "(6, 0)"
     },
     "execution_count": 6,
     "metadata": {},
     "output_type": "execute_result"
    }
   ],
   "source": [
    "m = 66\n",
    "n = 11\n",
    "\n",
    "q = m//n\n",
    "r = m%n\n",
    "\n",
    "q,r"
   ],
   "metadata": {
    "collapsed": false,
    "ExecuteTime": {
     "end_time": "2023-12-17T10:54:45.727773900Z",
     "start_time": "2023-12-17T10:54:45.660966200Z"
    }
   },
   "id": "1c46527ebc4ac46e"
  },
  {
   "cell_type": "markdown",
   "source": [
    "# Soal 5"
   ],
   "metadata": {
    "collapsed": false
   },
   "id": "eb05aecc1650018c"
  },
  {
   "cell_type": "markdown",
   "source": [
    "Berdasarkan teorema euclidian, carilah $q$ dan $r$ sehingga $m = nq + r$, bila diketahui $m = 66, n=11$\n",
    "\n",
    "a. $q = 2 , r = 3$\\\n",
    "b. $q = 3 , r = 2$\\\n",
    "c. $q = 3 , r = 2$\\\n",
    "d. $q = 2 , r = 7$\\\n",
    "e. $q = 4 , r = -3$\n",
    "\n",
    "**Jawaban: TIDAK ADA ($q = 6 , r = 0$)**"
   ],
   "metadata": {
    "collapsed": false
   },
   "id": "56876b52e21eec40"
  },
  {
   "cell_type": "code",
   "execution_count": 7,
   "outputs": [
    {
     "data": {
      "text/plain": "(6, 0)"
     },
     "execution_count": 7,
     "metadata": {},
     "output_type": "execute_result"
    }
   ],
   "source": [
    "m = 66\n",
    "n = 11\n",
    "\n",
    "q = m//n\n",
    "r = m%n\n",
    "\n",
    "q,r"
   ],
   "metadata": {
    "collapsed": false,
    "ExecuteTime": {
     "end_time": "2023-12-17T10:54:45.812536800Z",
     "start_time": "2023-12-17T10:54:45.720611Z"
    }
   },
   "id": "5fe3b1901fe6a1e2"
  },
  {
   "cell_type": "markdown",
   "source": [
    "# Soal 6"
   ],
   "metadata": {
    "collapsed": false
   },
   "id": "18a80a7c7681c924"
  },
  {
   "cell_type": "markdown",
   "source": [
    "Berdasarkan teorema euclidian, carilah $q$ dan $r$ sehingga $m = nq + r$, bila diketahui $m = 66, n=11$\n",
    "\n",
    "a. $q = 2 , r = 3$\\\n",
    "b. $q = 3 , r = 2$\\\n",
    "c. $q = 3 , r = 2$\\\n",
    "d. $q = 2 , r = 7$\\\n",
    "e. $q = 4 , r = -3$\n",
    "\n",
    "**Jawaban: TIDAK ADA ($q = 6 , r = 0$)**"
   ],
   "metadata": {
    "collapsed": false
   },
   "id": "e7d3fe33a8e9624"
  },
  {
   "cell_type": "code",
   "execution_count": 8,
   "outputs": [
    {
     "data": {
      "text/plain": "(6, 0)"
     },
     "execution_count": 8,
     "metadata": {},
     "output_type": "execute_result"
    }
   ],
   "source": [
    "m = 66\n",
    "n = 11\n",
    "\n",
    "q = m//n\n",
    "r = m%n\n",
    "\n",
    "q,r"
   ],
   "metadata": {
    "collapsed": false,
    "ExecuteTime": {
     "end_time": "2023-12-17T10:54:45.883558700Z",
     "start_time": "2023-12-17T10:54:45.817048700Z"
    }
   },
   "id": "2df6173375dcf386"
  },
  {
   "cell_type": "markdown",
   "source": [
    "# Soal 7"
   ],
   "metadata": {
    "collapsed": false
   },
   "id": "ab1c6301417a251a"
  },
  {
   "cell_type": "markdown",
   "source": [
    "Berikut ini merupakan contoh barisan Aritmetika ...\n",
    "\n",
    "a. $80, 40, 20, 10, 5, 2\\frac{1}{2}, \\ldots$\\\n",
    "b. $2, 5, 8, 11, 14, 17, \\ldots$\\\n",
    "c. $3, 9, 27, 81, 243, \\ldots$\\\n",
    "d. $2, 4, 8, 16, 32, 64, 128, 256, \\ldots$\\\n",
    "e. $400, 200, 100, 50, 25, \\ldots$\n",
    "\n",
    "**Jawaban: B**"
   ],
   "metadata": {
    "collapsed": false
   },
   "id": "37d6bcf3165ed8d0"
  },
  {
   "cell_type": "code",
   "execution_count": 9,
   "outputs": [
    {
     "data": {
      "text/plain": "(False, True, False, False, False)"
     },
     "execution_count": 9,
     "metadata": {},
     "output_type": "execute_result"
    }
   ],
   "source": [
    "a = [80,40,20,10,5,2.5]\n",
    "b = [2,5,8,11,14,17]\n",
    "case = [3, 9, 27, 81, 243]\n",
    "d = [2,4,8,16,32,64,128,256]\n",
    "e = [400,200,100,50,25]\n",
    "\n",
    "def is_arithmetic_sequence(seq):\n",
    "    diff = seq[1] - seq[0]\n",
    "    for i in range(len(seq)-1):\n",
    "        if seq[i+1] - seq[i] != diff:\n",
    "            return False\n",
    "    return True\n",
    "\n",
    "is_arithmetic_sequence(a), is_arithmetic_sequence(b), is_arithmetic_sequence(case), is_arithmetic_sequence(d), is_arithmetic_sequence(e)"
   ],
   "metadata": {
    "collapsed": false,
    "ExecuteTime": {
     "end_time": "2023-12-17T10:54:46.000836700Z",
     "start_time": "2023-12-17T10:54:45.880597800Z"
    }
   },
   "id": "87bf48712f53c0b4"
  },
  {
   "cell_type": "markdown",
   "source": [
    "# Soal 8"
   ],
   "metadata": {
    "collapsed": false
   },
   "id": "e1459172c4f13b8"
  },
  {
   "cell_type": "markdown",
   "source": [
    "Berikut ini merupakan contoh barisan geometri ...\n",
    "\n",
    "a. $1, 2, 3, 4, 5, 6, 7, 8, \\ldots$\\\n",
    "b. $2, 5, 8, 11, 14, 17, \\ldots$\\\n",
    "c. $150, 140, 130, 120, \\ldots$\\\n",
    "d. $2, 4, 8, 16, 32, 64, 128, 256, \\ldots$\\\n",
    "e. $2, 4, 6, 8, 10, 12, 14, 16, 18, \\ldots$\n",
    "\n",
    "**Jawaban: D**"
   ],
   "metadata": {
    "collapsed": false
   },
   "id": "8eb89f4575360e71"
  },
  {
   "cell_type": "code",
   "execution_count": 10,
   "outputs": [
    {
     "data": {
      "text/plain": "(False, False, False, True, False)"
     },
     "execution_count": 10,
     "metadata": {},
     "output_type": "execute_result"
    }
   ],
   "source": [
    "a = [1, 2, 3, 4, 5, 6, 7, 8]\n",
    "b = [2, 5, 8, 11, 14, 17]\n",
    "case = [150, 140, 130, 120]\n",
    "d = [2, 4, 8, 16, 32, 64, 128, 256]\n",
    "e = [2, 4, 6, 8, 10, 12, 14, 16, 18]\n",
    "\n",
    "def is_geometry_sequence(seq):\n",
    "    ratio = seq[1] / seq[0]\n",
    "    for i in range(len(seq)-1):\n",
    "        if seq[i+1] / seq[i] != ratio:\n",
    "            return False\n",
    "    return True\n",
    "\n",
    "is_geometry_sequence(a), is_geometry_sequence(b), is_geometry_sequence(case), is_geometry_sequence(d), is_geometry_sequence(e)"
   ],
   "metadata": {
    "collapsed": false,
    "ExecuteTime": {
     "end_time": "2023-12-17T10:54:46.060977100Z",
     "start_time": "2023-12-17T10:54:46.006814Z"
    }
   },
   "id": "360ad0054f183353"
  },
  {
   "cell_type": "markdown",
   "source": [
    "# Soal 9"
   ],
   "metadata": {
    "collapsed": false
   },
   "id": "83c40295091b3c19"
  },
  {
   "cell_type": "markdown",
   "source": [
    "Besaran yang memiliki arah disebut ...\n",
    "\n",
    "a. Kecepatan\\\n",
    "b. Percepatan\\\n",
    "c. Vektor\\\n",
    "d. Matriks\\\n",
    "e. Skalar\n",
    "\n",
    "**Jawaban: C**"
   ],
   "metadata": {
    "collapsed": false
   },
   "id": "3977152a2ce3e9e1"
  },
  {
   "cell_type": "code",
   "execution_count": 10,
   "outputs": [],
   "source": [],
   "metadata": {
    "collapsed": false,
    "ExecuteTime": {
     "end_time": "2023-12-17T10:54:46.142484900Z",
     "start_time": "2023-12-17T10:54:46.059978900Z"
    }
   },
   "id": "26d0fab1c2ed4a1f"
  },
  {
   "cell_type": "markdown",
   "source": [
    "# Soal 10"
   ],
   "metadata": {
    "collapsed": false
   },
   "id": "c2f649722c98990"
  },
  {
   "cell_type": "markdown",
   "source": [
    "Buktikan dengan menggunakan induksi matematika bahwa untuk setiap bilangan bulat positif $n$,\n",
    "$$1^2 + 3^2 + 5^2 + \\ldots + \\left(2n-1\\right)^2 = \\frac{n\\left(4n^2-1\\right)}{3}$$\n",
    ".\n",
    "\n",
    "a. $n = 1$ adalah langkah dasar benar.\\\n",
    "b. $P\\left(k\\right)$ benar $\\implies P\\left(k+1\\right)$ benar.\\\n",
    "c. $P\\left(1\\right)$ benar dan $P\\left(k\\right)$ benar $\\implies P\\left(k+1\\right)$ benar.\\\n",
    "d. $P\\left(k+1\\right)$ benar $\\implies P\\left(k\\right)$ benar.\\\n",
    "e. $P\\left(1\\right)$ benar dan $P\\left(k+1\\right)$ benar $\\implies P\\left(k\\right)$ benar.\n",
    "\n",
    "**Jawaban: C**"
   ],
   "metadata": {
    "collapsed": false
   },
   "id": "784c299995c39ec5"
  },
  {
   "cell_type": "code",
   "execution_count": 11,
   "outputs": [
    {
     "data": {
      "text/plain": "{'Langkah 1 Basis Induksi': True,\n 'Langkah 2 f(k+1)': 4*k**3/3 + 4*k**2 + 11*k/3 + 1,\n 'Hipotesis Induksi': 4*k**3/3 + 4*k**2 + 11*k/3 + 1,\n 'Terbukti': True}"
     },
     "execution_count": 11,
     "metadata": {},
     "output_type": "execute_result"
    }
   ],
   "source": [
    "from sympy import symbols, sympify, expand\n",
    "\n",
    "k, n = symbols('k n')\n",
    "\n",
    "def verify_base_case(formula, valid_from_n, base_case):\n",
    "    computed_base_case = sympify(formula).subs(n, valid_from_n)\n",
    "    base_case_satisfied = computed_base_case == base_case\n",
    "    return base_case_satisfied\n",
    "\n",
    "def expand_induction_hypothesis_k_plus_1(formula, next_expression):\n",
    "    formula_expr = sympify(formula).subs(n, k)\n",
    "    next_expr = sympify(next_expression).subs(n, k + 1)\n",
    "    inductive_step = formula_expr + next_expr\n",
    "    return expand(inductive_step)\n",
    "\n",
    "def expand_formula_k_plus_1(formula):\n",
    "    formula_expr = sympify(formula).subs(n, k + 1)\n",
    "    return expand(formula_expr)\n",
    "\n",
    "def prove_arithmetic_series_formula(formula, valid_from_n, base_case, next_expression):\n",
    "    base_case_satisfied = verify_base_case(formula, valid_from_n, base_case)\n",
    "    inductive_hypothesis = expand_induction_hypothesis_k_plus_1(formula, next_expression)\n",
    "    formula_next_term = expand_formula_k_plus_1(formula)\n",
    "    proof = inductive_hypothesis == formula_next_term\n",
    "    return {\n",
    "        'Langkah 1 Basis Induksi': base_case_satisfied,\n",
    "        'Langkah 2 f(k+1)': inductive_hypothesis,\n",
    "        'Hipotesis Induksi': formula_next_term,\n",
    "        'Terbukti': base_case_satisfied and proof\n",
    "    }\n",
    "\n",
    "INPUT_FORMULA = 'n*(4*n**2-1)/3'\n",
    "INPUT_VALID_FROM_N = 1\n",
    "INPUT_BASE_CASE = 1\n",
    "INPUT_NEXT_STEP = '(2*n-1)**2'\n",
    "\n",
    "prove_arithmetic_series_formula(\n",
    "    INPUT_FORMULA,\n",
    "    INPUT_VALID_FROM_N,\n",
    "    INPUT_BASE_CASE,\n",
    "    INPUT_NEXT_STEP\n",
    ")"
   ],
   "metadata": {
    "collapsed": false,
    "ExecuteTime": {
     "end_time": "2023-12-17T10:54:46.273253500Z",
     "start_time": "2023-12-17T10:54:46.144477800Z"
    }
   },
   "id": "ec0c96432d27578f"
  },
  {
   "cell_type": "markdown",
   "source": [
    "# Soal 11"
   ],
   "metadata": {
    "collapsed": false
   },
   "id": "fb75e9aad966c933"
  },
  {
   "cell_type": "markdown",
   "source": [
    "Dalam melempar dadu enam sisi yang adil, tentukan probabilitas mendapatkan angka genap.\n",
    "\n",
    "a. $\\frac{1}{6}$\\\n",
    "b. $\\frac{1}{3}$\\\n",
    "c. $\\frac{1}{2}$\\\n",
    "d. $\\frac{2}{3}$\\\n",
    "e. $\\frac{5}{6}$\n",
    "\n",
    "**Jawaban: C**"
   ],
   "metadata": {
    "collapsed": false
   },
   "id": "b0762add7bfd7d4a"
  },
  {
   "cell_type": "code",
   "execution_count": 12,
   "outputs": [
    {
     "data": {
      "text/plain": "1/2",
      "text/latex": "$\\displaystyle \\frac{1}{2}$"
     },
     "execution_count": 12,
     "metadata": {},
     "output_type": "execute_result"
    }
   ],
   "source": [
    "from sympy.stats import P, Die\n",
    "from sympy import Eq\n",
    "\n",
    "dadu = Die('dadu')\n",
    "\n",
    "P(Eq(dadu%2, 0))"
   ],
   "metadata": {
    "collapsed": false,
    "ExecuteTime": {
     "end_time": "2023-12-17T10:54:46.360746700Z",
     "start_time": "2023-12-17T10:54:46.221984600Z"
    }
   },
   "id": "93f184a7d8aba8a"
  },
  {
   "cell_type": "markdown",
   "source": [
    "# Soal 12"
   ],
   "metadata": {
    "collapsed": false
   },
   "id": "a2a9696bc8877ed5"
  },
  {
   "cell_type": "markdown",
   "source": [
    "Dalam sebuah kantin, terdapat 8 jenis makanan yang dijual. Jika seseorang memilih makanan secara acak,tentukan probabilitas bahwa ia memilih makanan jenis tertentu.\n",
    "\n",
    "a. $\\frac{1}{2}$\\\n",
    "b. $\\frac{1}{4}$\\\n",
    "c. $\\frac{1}{6}$\\\n",
    "d. $\\frac{1}{8}$\\\n",
    "e. $\\frac{2}{8}$\n",
    "\n",
    "**Jawaban: D**"
   ],
   "metadata": {
    "collapsed": false
   },
   "id": "b88dd7d70fc9bb5e"
  },
  {
   "cell_type": "code",
   "execution_count": 13,
   "outputs": [
    {
     "data": {
      "text/plain": "1/8",
      "text/latex": "$\\displaystyle \\frac{1}{8}$"
     },
     "execution_count": 13,
     "metadata": {},
     "output_type": "execute_result"
    }
   ],
   "source": [
    "from sympy.stats import P, Die\n",
    "from sympy import Eq\n",
    "\n",
    "makanan = Die('makanan', 8)\n",
    "\n",
    "P(Eq(makanan, 1))"
   ],
   "metadata": {
    "collapsed": false,
    "ExecuteTime": {
     "end_time": "2023-12-17T10:54:46.382328800Z",
     "start_time": "2023-12-17T10:54:46.295503300Z"
    }
   },
   "id": "78b5a509852f3ebb"
  },
  {
   "cell_type": "markdown",
   "source": [
    "# Soal 13"
   ],
   "metadata": {
    "collapsed": false
   },
   "id": "253c3dab2c40261f"
  },
  {
   "cell_type": "markdown",
   "source": [
    "Diberikan suku ke n dalam barisan rekurensi $b_n = b_{n-1}+5$ dengan $b_1 = 2$. Tentukan suku ke 3 dari barisan ini.\n",
    "\n",
    "a. 7\\\n",
    "b. 12\\\n",
    "c. 17\\\n",
    "d. 22\\\n",
    "e. 27\n",
    "\n",
    "**Jawaban: B**"
   ],
   "metadata": {
    "collapsed": false
   },
   "id": "a342975ab5c92825"
  },
  {
   "cell_type": "code",
   "execution_count": 14,
   "outputs": [
    {
     "data": {
      "text/plain": "12"
     },
     "execution_count": 14,
     "metadata": {},
     "output_type": "execute_result"
    }
   ],
   "source": [
    "def b(n):\n",
    "    b_prev = 2\n",
    "    for i in range(2, n+1):\n",
    "        b_prev = b_prev+5\n",
    "    return b_prev\n",
    "\n",
    "b(3)"
   ],
   "metadata": {
    "collapsed": false,
    "ExecuteTime": {
     "end_time": "2023-12-17T10:54:46.482565500Z",
     "start_time": "2023-12-17T10:54:46.340834900Z"
    }
   },
   "id": "ca88db2d325cbae9"
  },
  {
   "cell_type": "markdown",
   "source": [
    "# Soal 14"
   ],
   "metadata": {
    "collapsed": false
   },
   "id": "ff8c29bbf90c753c"
  },
  {
   "cell_type": "markdown",
   "source": [
    "Diberikan suku ke n dalam barisan rekurensi $a_n = 3a_{n-1}-2$ dengan $a_1 = 4$. Tentukan suku ke 4 dari barisan ini.\n",
    "\n",
    "a. 10\\\n",
    "b. 16\\\n",
    "c. 22\\\n",
    "d. 28\\\n",
    "e. 34\n",
    "\n",
    "**Jawaban: TIDAK ADA (82)**"
   ],
   "metadata": {
    "collapsed": false
   },
   "id": "b2a13d854f7892cc"
  },
  {
   "cell_type": "code",
   "execution_count": 15,
   "outputs": [
    {
     "data": {
      "text/plain": "82"
     },
     "execution_count": 15,
     "metadata": {},
     "output_type": "execute_result"
    }
   ],
   "source": [
    "def a(n):\n",
    "    a_prev = 4\n",
    "    for i in range(2, n+1):\n",
    "        a_prev = 3*a_prev-2\n",
    "    return a_prev\n",
    "\n",
    "a(4)"
   ],
   "metadata": {
    "collapsed": false,
    "ExecuteTime": {
     "end_time": "2023-12-17T10:54:46.549129600Z",
     "start_time": "2023-12-17T10:54:46.486933600Z"
    }
   },
   "id": "7648bdcf15b2a76"
  },
  {
   "cell_type": "markdown",
   "source": [
    "# Soal 15"
   ],
   "metadata": {
    "collapsed": false
   },
   "id": "836a48c4e1a60fab"
  },
  {
   "cell_type": "markdown",
   "source": [
    "Diketahui himpunan $A=\\{1,2,3\\}$ yang membetuk relasi-relasi berikut\\\n",
    "Relasi R1 = $\\{\\left(1,2\\right), \\left(2,2\\right), \\left(2,3\\right), \\left(3,4\\right),\\left(4,1\\right)\\}$\\\n",
    "Relasi R2 = $\\{\\left(1,3\\right), \\left(2,2\\right), \\left(2,4\\right), \\left(3,1\\right),\\left(4,2\\right)\\}$\\\n",
    "Relasi R3 = $\\{\\left(1,3\\right), \\left(2,4\\right), \\left(3,1\\right), \\left(4,3\\right)\\}$\\\n",
    "Relasi R4 = $\\{\\left(1,1\\right), \\left(2,2\\right), \\left(3,3\\right), \\left(4,3\\right)\\}$\\\n",
    "Relasi manakah yang memenuhi sifat anti--simetri\n",
    "\n",
    "a. R1 saja\\\n",
    "b. R4 saja\\\n",
    "c. R1 dan R3\\\n",
    "d. R4 dan R3\\\n",
    "e. R1 dan R2\n",
    "\n",
    "**Jawaban: TIDAK ADA (R1 dan R4)**"
   ],
   "metadata": {
    "collapsed": false
   },
   "id": "6aa4ab06f26d3e81"
  },
  {
   "cell_type": "code",
   "execution_count": 16,
   "outputs": [
    {
     "data": {
      "text/plain": "(True, False, False, True)"
     },
     "execution_count": 16,
     "metadata": {},
     "output_type": "execute_result"
    }
   ],
   "source": [
    "from sympy import FiniteSet\n",
    "\n",
    "def is_anti_symmetric(relation):\n",
    "    for a, b in relation:\n",
    "        if (a != b) and ((b, a) in relation):\n",
    "            return False\n",
    "    return True\n",
    "\n",
    "R1 = FiniteSet((1, 2), (2, 2), (2, 3), (3, 4), (4, 1))\n",
    "R2 = FiniteSet((1, 3), (2, 2), (2, 4), (3, 1), (4, 2))\n",
    "R3 = FiniteSet((1, 3), (2, 4), (3, 1), (4, 3))\n",
    "R4 = FiniteSet((1, 1), (2, 2), (3, 3), (4, 3))\n",
    "\n",
    "is_anti_symmetric(R1), is_anti_symmetric(R2), is_anti_symmetric(R3), is_anti_symmetric(R4)"
   ],
   "metadata": {
    "collapsed": false,
    "ExecuteTime": {
     "end_time": "2023-12-17T10:54:46.691202400Z",
     "start_time": "2023-12-17T10:54:46.549129600Z"
    }
   },
   "id": "dc10c146890cade"
  },
  {
   "cell_type": "markdown",
   "source": [
    "# Soal 16"
   ],
   "metadata": {
    "collapsed": false
   },
   "id": "b35eeffc1c368913"
  },
  {
   "cell_type": "markdown",
   "source": [
    "Diketahui himpunan $A=\\{1,2,3\\}$ yang membetuk relasi-relasi berikut\\\n",
    "Relasi R1 = $\\{\\left(1,2\\right), \\left(2,2\\right), \\left(2,3\\right), \\left(3,4\\right),\\left(4,1\\right)\\}$\\\n",
    "Relasi R2 = $\\{\\left(1,3\\right), \\left(2,2\\right), \\left(2,4\\right), \\left(3,1\\right),\\left(4,2\\right)\\}$\\\n",
    "Relasi R3 = $\\{\\left(1,3\\right), \\left(2,4\\right), \\left(3,1\\right), \\left(4,3\\right)\\}$\\\n",
    "Relasi R4 = $\\{\\left(1,1\\right), \\left(2,2\\right), \\left(3,3\\right), \\left(4,3\\right)\\}$\\\n",
    "Relasi manakah yang memenuhi sifat refleksif\n",
    "\n",
    "a. R1 saja\\\n",
    "b. R4 saja\\\n",
    "c. R1 dan R3\\\n",
    "d. R4 dan R3\\\n",
    "e. R1 dan R2\n",
    "\n",
    "**Jawaban: B**"
   ],
   "metadata": {
    "collapsed": false
   },
   "id": "9d163b6979ee99a4"
  },
  {
   "cell_type": "code",
   "execution_count": 17,
   "outputs": [
    {
     "data": {
      "text/plain": "(False, False, False, True)"
     },
     "execution_count": 17,
     "metadata": {},
     "output_type": "execute_result"
    }
   ],
   "source": [
    "from sympy import FiniteSet\n",
    "\n",
    "A = FiniteSet(1,2,3)\n",
    "\n",
    "R1 = FiniteSet((1,2), (2,2), (2,3), (3,4), (4,1))\n",
    "R2 = FiniteSet((1,3), (2,2), (2,4), (3,1),(4,2))\n",
    "R3 = FiniteSet((1,3), (2,4), (3,1), (4,3))\n",
    "R4 = FiniteSet((1,1), (2,2), (3,3), (4,3))\n",
    "\n",
    "def is_reflexive(R):\n",
    "    global A\n",
    "    for a in A:\n",
    "        if (a, a) not in R:\n",
    "            return False\n",
    "    return True\n",
    "\n",
    "is_reflexive(R1), is_reflexive(R2), is_reflexive(R3), is_reflexive(R4)"
   ],
   "metadata": {
    "collapsed": false,
    "ExecuteTime": {
     "end_time": "2023-12-17T10:54:46.760266100Z",
     "start_time": "2023-12-17T10:54:46.678411100Z"
    }
   },
   "id": "c8bc5714915b235"
  },
  {
   "cell_type": "markdown",
   "source": [
    "# Soal 17"
   ],
   "metadata": {
    "collapsed": false
   },
   "id": "8ce22e3dd6280c86"
  },
  {
   "cell_type": "markdown",
   "source": [
    "Fungsi invers dari $f\\left(x\\right) = x+5$ adalah\n",
    "\n",
    "a. $f(y)^{-1} = y-5$\\\n",
    "b. $f(y)^{-1} = y+5$\\\n",
    "c. $f(y)^{-1} = \\frac{y}{5}$\\\n",
    "d. $f(y)^{-1} = y^5$\\\n",
    "e. $f(y)^{-1} = y^{-5}$\n",
    "\n",
    "**Jawaban: A**"
   ],
   "metadata": {
    "collapsed": false
   },
   "id": "c75fdbd202f3f76f"
  },
  {
   "cell_type": "code",
   "execution_count": 18,
   "outputs": [
    {
     "data": {
      "text/plain": "[y - 5]"
     },
     "execution_count": 18,
     "metadata": {},
     "output_type": "execute_result"
    }
   ],
   "source": [
    "from sympy import symbols, Eq, solve\n",
    "\n",
    "x,y = symbols('x y')\n",
    "f_x = x+5\n",
    "\n",
    "solve(Eq(f_x, y), x)"
   ],
   "metadata": {
    "collapsed": false,
    "ExecuteTime": {
     "end_time": "2023-12-17T10:54:46.997880500Z",
     "start_time": "2023-12-17T10:54:46.744019700Z"
    }
   },
   "id": "6a48d2646603b8bd"
  },
  {
   "cell_type": "markdown",
   "source": [
    "# Soal 18"
   ],
   "metadata": {
    "collapsed": false
   },
   "id": "cf2925f08374915d"
  },
  {
   "cell_type": "markdown",
   "source": [
    "![image.png](data:image/jpeg;base64,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)"
   ],
   "metadata": {
    "collapsed": false
   },
   "id": "f354116f86e8d616"
  },
  {
   "cell_type": "markdown",
   "source": [
    "Hasil kali titik vektor yang terdapat gambar berikut adalah ...\n",
    "\n",
    "a. 1\\\n",
    "b. 2\\\n",
    "c. 3\\\n",
    "d. 4\\\n",
    "e. 5\n",
    "\n",
    "**Jawaban: B**"
   ],
   "metadata": {
    "collapsed": false
   },
   "id": "d83a126f5960ff20"
  },
  {
   "cell_type": "code",
   "execution_count": 19,
   "outputs": [
    {
     "data": {
      "text/plain": "2"
     },
     "execution_count": 19,
     "metadata": {},
     "output_type": "execute_result"
    }
   ],
   "source": [
    "u = [0, 0, 1]\n",
    "v = [0, 2, 2]\n",
    "\n",
    "u[0]*v[0] + u[1]*v[1] + u[2]*v[2]"
   ],
   "metadata": {
    "collapsed": false,
    "ExecuteTime": {
     "end_time": "2023-12-17T10:54:47.029842Z",
     "start_time": "2023-12-17T10:54:46.937653300Z"
    }
   },
   "id": "940e4f3c51dca300"
  },
  {
   "cell_type": "markdown",
   "source": [
    "# Soal 19"
   ],
   "metadata": {
    "collapsed": false
   },
   "id": "3876a76463270b6"
  },
  {
   "cell_type": "markdown",
   "source": [
    "Invers dari matriks berikut ini adalah ....\n",
    "\n",
    "$$A = \\begin{bmatrix} 2 & 3 \\\\ 3 & 5 \\end{bmatrix}$$\n",
    "\n",
    "a. $\\begin{bmatrix} 5 & -3 \\\\ -3 & 2 \\end{bmatrix}$\\\n",
    "b. $\\begin{bmatrix} 2 & -3 \\\\ -3 & 5 \\end{bmatrix}$\\\n",
    "c. $\\begin{bmatrix} -5 & 3 \\\\ 3 & -2 \\end{bmatrix}$\\\n",
    "d. $\\begin{bmatrix} 3 & 5 \\\\ 2 & 3 \\end{bmatrix}$\\\n",
    "e. $\\begin{bmatrix} 3 & -5 \\\\ 2 & 3 \\end{bmatrix}$\n",
    "\n",
    "**Jawaban: A**"
   ],
   "metadata": {
    "collapsed": false
   },
   "id": "20d73e63f59096df"
  },
  {
   "cell_type": "code",
   "execution_count": 20,
   "outputs": [
    {
     "data": {
      "text/plain": "Matrix([\n[ 5, -3],\n[-3,  2]])",
      "text/latex": "$\\displaystyle \\left[\\begin{matrix}5 & -3\\\\-3 & 2\\end{matrix}\\right]$"
     },
     "execution_count": 20,
     "metadata": {},
     "output_type": "execute_result"
    }
   ],
   "source": [
    "from sympy import Matrix\n",
    "\n",
    "Matrix([[2,3],[3,5]]).inv()"
   ],
   "metadata": {
    "collapsed": false,
    "ExecuteTime": {
     "end_time": "2023-12-17T10:54:47.031834800Z",
     "start_time": "2023-12-17T10:54:46.942679Z"
    }
   },
   "id": "21254db9c28ea72"
  },
  {
   "cell_type": "markdown",
   "source": [
    "# Soal 20"
   ],
   "metadata": {
    "collapsed": false
   },
   "id": "618b1fc5eab6a3e7"
  },
  {
   "cell_type": "markdown",
   "source": [
    "![image.png](data:image/jpeg;base64,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)"
   ],
   "metadata": {
    "collapsed": false
   },
   "id": "d8aa9ceb80817d90"
  },
  {
   "cell_type": "markdown",
   "source": [
    "Jika diketahui relasi seperti pada gambar berikut, maka relasi tersebut disebut fungsi\n",
    "\n",
    "a. Injective\\\n",
    "b. Bijective\\\n",
    "c. Invers\\\n",
    "d. Surjective\\\n",
    "e. Non Vertible\n",
    "\n",
    "**Jawaban: A**"
   ],
   "metadata": {
    "collapsed": false
   },
   "id": "70f07f00c72d998a"
  },
  {
   "cell_type": "code",
   "execution_count": 21,
   "outputs": [
    {
     "data": {
      "text/plain": "(True, False, False, False)"
     },
     "execution_count": 21,
     "metadata": {},
     "output_type": "execute_result"
    }
   ],
   "source": [
    "A = ('a', 'b', 'c', 'd')\n",
    "B = (1, 2, 3, 4, 5)\n",
    "relation = (('a',1), ('b',3), ('c',5), ('d',2))\n",
    "\n",
    "def is_function(A, relation):\n",
    "    return len(relation) == len(A) and len(set(a for a, b in relation)) == len(A)\n",
    "\n",
    "def is_injective(A, B, relation):\n",
    "    if not is_function(A, relation):\n",
    "        return False\n",
    "    return len(set(b for a, b in relation)) == len(A)\n",
    "\n",
    "def is_surjective(A, B, relation):\n",
    "    return set(b for a, b in relation) == set(B)\n",
    "\n",
    "def is_bijective(A, B, relation):\n",
    "    return is_injective(A, B, relation) and is_surjective(A, B, relation)\n",
    "\n",
    "def inverse_relation(relation):\n",
    "    if is_bijective(A, B, relation):\n",
    "        return {pair[::-1] for pair in relation}\n",
    "    else:\n",
    "        return False\n",
    "\n",
    "injective_check = is_injective(A, B, relation)\n",
    "surjective_check = is_surjective(A, B, relation)\n",
    "bijective_check = is_bijective(A, B, relation)\n",
    "inverse_rel = inverse_relation(relation)\n",
    "\n",
    "(injective_check, surjective_check, bijective_check, inverse_rel)"
   ],
   "metadata": {
    "collapsed": false,
    "ExecuteTime": {
     "end_time": "2023-12-17T10:54:47.144782900Z",
     "start_time": "2023-12-17T10:54:47.014523300Z"
    }
   },
   "id": "c7ac8dc1d2d47360"
  },
  {
   "cell_type": "markdown",
   "source": [
    "# Soal 21"
   ],
   "metadata": {
    "collapsed": false
   },
   "id": "6557c2298a133201"
  },
  {
   "cell_type": "markdown",
   "source": [
    "Jika kita ingin membuktikan suatu pernyataan menggunakan induksi matematika, langkah pertama yang harus dilakukan adalah...\n",
    "\n",
    "a. Menyusun rumus umum.\\\n",
    "b. Membuktikan pernyataan untuk $n = 1$.\\\n",
    "c. Membuktikan pernyataan untuk $n = k$.\\\n",
    "d. Membuktikan pernyataan untuk $n = k + 1$.\\\n",
    "e. Menyusun langkah induksi.\n",
    "\n",
    "**Jawaban: B**"
   ],
   "metadata": {
    "collapsed": false
   },
   "id": "37f410d96b8d798c"
  },
  {
   "cell_type": "code",
   "execution_count": 21,
   "outputs": [],
   "source": [],
   "metadata": {
    "collapsed": false,
    "ExecuteTime": {
     "end_time": "2023-12-17T10:54:47.243413500Z",
     "start_time": "2023-12-17T10:54:47.144280700Z"
    }
   },
   "id": "4f34daab21c16501"
  },
  {
   "cell_type": "markdown",
   "source": [
    "# Soal 22"
   ],
   "metadata": {
    "collapsed": false
   },
   "id": "ab92522f0c635708"
  },
  {
   "cell_type": "markdown",
   "source": [
    "Jika suatu pernyataan matematika benar untuk $n = 1$, dan benar untuk $n = k$, maka pernyataan tersebut juga benar untuk...\n",
    "\n",
    "a. $n = k - 1$.\\\n",
    "b. $n = k + 1$.\\\n",
    "c. $n = 2k$\\\n",
    "d. $n = \\frac{k}{2}$\\\n",
    "e. $n = 2$.\n",
    "\n",
    "**Jawaban: B**"
   ],
   "metadata": {
    "collapsed": false
   },
   "id": "fa73ae9f6319bf5b"
  },
  {
   "cell_type": "code",
   "execution_count": 21,
   "outputs": [],
   "source": [],
   "metadata": {
    "collapsed": false,
    "ExecuteTime": {
     "end_time": "2023-12-17T10:54:47.348658100Z",
     "start_time": "2023-12-17T10:54:47.205528700Z"
    }
   },
   "id": "e7601f7dc06c9a8c"
  },
  {
   "cell_type": "markdown",
   "source": [
    "# Soal 23"
   ],
   "metadata": {
    "collapsed": false
   },
   "id": "5a94f6b8fcae1da7"
  },
  {
   "cell_type": "markdown",
   "source": [
    "Jika u, v dan w adalah vektor-vektor pada ruang berdimensi n dan k, l adalah sebarang skalar, maka sifat aritmatika vektor ini benar, kecuali ..\n",
    "\n",
    "a. $\\left(u+v\\right)+w = u+\\left(v+w\\right)$.\\\n",
    "b. $u+\\left(-u\\right) = 0$.\\\n",
    "c. $k\\left(lu\\right) = kl\\left(u\\right)$\\\n",
    "d. $u+v \\neq v+u$\\\n",
    "e. $1u = u$.\n",
    "\n",
    "**Jawaban: D**"
   ],
   "metadata": {
    "collapsed": false
   },
   "id": "6c5ca0a5857814e3"
  },
  {
   "cell_type": "code",
   "execution_count": 22,
   "outputs": [
    {
     "data": {
      "text/plain": "(True, True, True, False, True)"
     },
     "execution_count": 22,
     "metadata": {},
     "output_type": "execute_result"
    }
   ],
   "source": [
    "from sympy.vector import CoordSys3D\n",
    "from sympy import symbols, Eq, Ne\n",
    "\n",
    "k, l = symbols('k l')\n",
    "N = CoordSys3D('N')\n",
    "\n",
    "u = N.i + N.j + N.k\n",
    "v = N.i + N.j + N.k\n",
    "w = N.i + N.j + N.k\n",
    "\n",
    "a_check = Eq((u + v) + w, u + (v + w))\n",
    "b_check = Eq((u + (-u)).magnitude(), 0)\n",
    "c_check = Eq(k * (l * u), (k * l) * u)\n",
    "d_check = Ne(u + v, v + u)\n",
    "e_check = Eq(1 * u, u)\n",
    "\n",
    "a_check, b_check, c_check, d_check, e_check"
   ],
   "metadata": {
    "collapsed": false,
    "ExecuteTime": {
     "end_time": "2023-12-17T10:54:47.425430700Z",
     "start_time": "2023-12-17T10:54:47.330715700Z"
    }
   },
   "id": "d992afc7e6f72f80"
  },
  {
   "cell_type": "markdown",
   "source": [
    "# Soal 24"
   ],
   "metadata": {
    "collapsed": false
   },
   "id": "486640ebb973971a"
  },
  {
   "cell_type": "markdown",
   "source": [
    "Jumlah bilangan bulat positif dari 1 sampai 10 adalah\n",
    "\n",
    "a. 40\\\n",
    "b. 45\\\n",
    "c. 50\\\n",
    "d. 55\\\n",
    "e. 60\n",
    "\n",
    "**Jawaban: D**"
   ],
   "metadata": {
    "collapsed": false
   },
   "id": "fe0773e08fbc0476"
  },
  {
   "cell_type": "code",
   "execution_count": 23,
   "outputs": [
    {
     "data": {
      "text/plain": "55"
     },
     "execution_count": 23,
     "metadata": {},
     "output_type": "execute_result"
    }
   ],
   "source": [
    "sum = 0\n",
    "for i in range(1, 11):\n",
    "    sum += i\n",
    "\n",
    "sum"
   ],
   "metadata": {
    "collapsed": false,
    "ExecuteTime": {
     "end_time": "2023-12-17T10:54:47.456280700Z",
     "start_time": "2023-12-17T10:54:47.382029900Z"
    }
   },
   "id": "b9981e6a95b61d90"
  },
  {
   "cell_type": "markdown",
   "source": [
    "# Soal 25"
   ],
   "metadata": {
    "collapsed": false
   },
   "id": "82d4d7d76d3c80fd"
  },
  {
   "cell_type": "markdown",
   "source": [
    "Jumlah bilangan ganjil positif dari 1 sampai 10 adalah\n",
    "\n",
    "a. 25\\\n",
    "b. 30\\\n",
    "c. 35\\\n",
    "d. 19\\\n",
    "e. 15\n",
    "\n",
    "**Jawaban: A**"
   ],
   "metadata": {
    "collapsed": false
   },
   "id": "3e088d04ed29169f"
  },
  {
   "cell_type": "code",
   "execution_count": 24,
   "outputs": [
    {
     "data": {
      "text/plain": "25"
     },
     "execution_count": 24,
     "metadata": {},
     "output_type": "execute_result"
    }
   ],
   "source": [
    "sum = 0\n",
    "for i in range(1, 11):\n",
    "    if i%2 == 1:\n",
    "        sum += i\n",
    "\n",
    "sum"
   ],
   "metadata": {
    "collapsed": false,
    "ExecuteTime": {
     "end_time": "2023-12-17T10:54:47.556532600Z",
     "start_time": "2023-12-17T10:54:47.458273900Z"
    }
   },
   "id": "12c34f9f51e6c6ad"
  },
  {
   "cell_type": "markdown",
   "source": [
    "# Soal 26"
   ],
   "metadata": {
    "collapsed": false
   },
   "id": "b5614c3039a1df2f"
  },
  {
   "cell_type": "markdown",
   "source": [
    "Nilai determinan matriks berikut ini adalah ....\n",
    "$$\\begin{bmatrix} -2 & 5 & 6 \\\\ 0 & -1 & 8 \\\\ 0 & 0 & 6 \\end{bmatrix}$$\n",
    "\n",
    "a. 3\\\n",
    "b. 6\\\n",
    "c. 10\\\n",
    "d. 12\\\n",
    "e. 16\n",
    "\n",
    "**Jawaban: D**"
   ],
   "metadata": {
    "collapsed": false
   },
   "id": "53c6a1f8932a0819"
  },
  {
   "cell_type": "code",
   "execution_count": 25,
   "outputs": [
    {
     "data": {
      "text/plain": "12",
      "text/latex": "$\\displaystyle 12$"
     },
     "execution_count": 25,
     "metadata": {},
     "output_type": "execute_result"
    }
   ],
   "source": [
    "from sympy import Matrix\n",
    "\n",
    "Matrix([[-2,5,6],[0,-1,8],[0,0,6]]).det()"
   ],
   "metadata": {
    "collapsed": false,
    "ExecuteTime": {
     "end_time": "2023-12-17T10:54:47.648563600Z",
     "start_time": "2023-12-17T10:54:47.535693900Z"
    }
   },
   "id": "aa6f1f5db2027e48"
  },
  {
   "cell_type": "markdown",
   "source": [
    "# Soal 27"
   ],
   "metadata": {
    "collapsed": false
   },
   "id": "1cc9066f25a557e5"
  },
  {
   "cell_type": "markdown",
   "source": [
    "Nilai determinan matriks berikut ini adalah ....\n",
    "$$\\begin{bmatrix} -12 & 0 & 0 \\\\ 4 & 16 & 0 \\\\ 8 & 14 & 0 \\end{bmatrix}$$\n",
    "\n",
    "a. -4\\\n",
    "b. 4\\\n",
    "c. 0\\\n",
    "d. 16\\\n",
    "e. 28\n",
    "\n",
    "**Jawaban: C**"
   ],
   "metadata": {
    "collapsed": false
   },
   "id": "f23252dc85d3a5e3"
  },
  {
   "cell_type": "code",
   "execution_count": 26,
   "outputs": [
    {
     "data": {
      "text/plain": "0",
      "text/latex": "$\\displaystyle 0$"
     },
     "execution_count": 26,
     "metadata": {},
     "output_type": "execute_result"
    }
   ],
   "source": [
    "from sympy import Matrix\n",
    "\n",
    "Matrix([[-12,0,0],[4,16,0],[8,14,0]]).det()"
   ],
   "metadata": {
    "collapsed": false,
    "ExecuteTime": {
     "end_time": "2023-12-17T10:54:47.710215700Z",
     "start_time": "2023-12-17T10:54:47.652459700Z"
    }
   },
   "id": "a862fede9fbd6d50"
  },
  {
   "cell_type": "markdown",
   "source": [
    "# Soal 28"
   ],
   "metadata": {
    "collapsed": false
   },
   "id": "f23c327b065862c9"
  },
  {
   "cell_type": "markdown",
   "source": [
    "Nilai kofaktor $a_{2,3}$ dari matriks berikut ini adalah ....\n",
    "$$A = \\begin{bmatrix} -2 & 2 & -3 \\\\ -1 & 1 & 3 \\\\ 2 & 0 & -1 \\end{bmatrix}$$\n",
    "\n",
    "a. 4\\\n",
    "b. -4\\\n",
    "c. 6\\\n",
    "d. 8\\\n",
    "e. 10\n",
    "\n",
    "**Jawaban: A**"
   ],
   "metadata": {
    "collapsed": false
   },
   "id": "73f10b72b4d3cea1"
  },
  {
   "cell_type": "code",
   "execution_count": 27,
   "outputs": [
    {
     "data": {
      "text/plain": "4",
      "text/latex": "$\\displaystyle 4$"
     },
     "execution_count": 27,
     "metadata": {},
     "output_type": "execute_result"
    }
   ],
   "source": [
    "from sympy import Matrix\n",
    "\n",
    "Matrix([[-2,2,-3],[-1,1,3],[2,0,-1]]).cofactor(1, 2)"
   ],
   "metadata": {
    "collapsed": false,
    "ExecuteTime": {
     "end_time": "2023-12-17T10:54:47.785681500Z",
     "start_time": "2023-12-17T10:54:47.701737100Z"
    }
   },
   "id": "ab4b2f9f7035c7a9"
  },
  {
   "cell_type": "markdown",
   "source": [
    "# Soal 29"
   ],
   "metadata": {
    "collapsed": false
   },
   "id": "ded16960ca457a3c"
  },
  {
   "cell_type": "markdown",
   "source": [
    "Nilai minor $a_{2,2}$ dari matriks berikut ini adalah ....\n",
    "$$A = \\begin{bmatrix} -2 & 2 & -3 \\\\ -1 & 1 & 3 \\\\ 2 & 0 & -1 \\end{bmatrix}$$\n",
    "\n",
    "a. 4\\\n",
    "b. -4\\\n",
    "c. 6\\\n",
    "d. 8\\\n",
    "e. 10\n",
    "\n",
    "**Jawaban: D**"
   ],
   "metadata": {
    "collapsed": false
   },
   "id": "429ada064760fb22"
  },
  {
   "cell_type": "code",
   "execution_count": 28,
   "outputs": [
    {
     "data": {
      "text/plain": "8",
      "text/latex": "$\\displaystyle 8$"
     },
     "execution_count": 28,
     "metadata": {},
     "output_type": "execute_result"
    }
   ],
   "source": [
    "from sympy import Matrix\n",
    "\n",
    "Matrix([[-2,2,-3],[-1,1,3],[2,0,-1]]).minor(1,1)"
   ],
   "metadata": {
    "collapsed": false,
    "ExecuteTime": {
     "end_time": "2023-12-17T10:54:47.861680900Z",
     "start_time": "2023-12-17T10:54:47.788670400Z"
    }
   },
   "id": "83cf028ee2f216cb"
  },
  {
   "cell_type": "markdown",
   "source": [
    "# Soal 30"
   ],
   "metadata": {
    "collapsed": false
   },
   "id": "38a75b8d7914bfd4"
  },
  {
   "cell_type": "markdown",
   "source": [
    "Pada sebuah pabrik perakitan komputer dilakukan sample pengujian dengan memeriksa 3 buah komputer satupersatu secara berurutan dan mencatat kondisi komputer tersebut dengan memberi notasi B untuk komputeryang baik dan R untuk kommputer yang rusak. Probabilitas diperoleh 1 atau 2 komputer yang rusak adalah ...\n",
    "\n",
    "a. $\\frac{2}{8}$\\\n",
    "b. $\\frac{3}{8}$\\\n",
    "c. $\\frac{4}{8}$\\\n",
    "d. $\\frac{5}{8}$\\\n",
    "e. $\\frac{6}{8}$\n",
    "\n",
    "**Jawaban: E**"
   ],
   "metadata": {
    "collapsed": false
   },
   "id": "973a1bf43312f53"
  },
  {
   "cell_type": "code",
   "execution_count": 29,
   "outputs": [
    {
     "name": "stdout",
     "output_type": "stream",
     "text": [
      "('R', 'R', 'B')\n",
      "('B', 'R', 'B')\n",
      "('B', 'R', 'R')\n",
      "('R', 'B', 'B')\n",
      "('R', 'B', 'R')\n",
      "('B', 'B', 'R')\n"
     ]
    },
    {
     "data": {
      "text/plain": "3/4",
      "text/latex": "$\\displaystyle \\frac{3}{4}$"
     },
     "execution_count": 29,
     "metadata": {},
     "output_type": "execute_result"
    }
   ],
   "source": [
    "from itertools import product\n",
    "from sympy import Rational\n",
    "\n",
    "case_list = set(product(['B', 'R'], repeat=3))\n",
    "\n",
    "count = 0\n",
    "for case in case_list:\n",
    "    if (case.count('R') == 1) or (case.count('R') == 2):\n",
    "        print(case)\n",
    "        count += 1\n",
    "\n",
    "Rational(count, len(case_list))"
   ],
   "metadata": {
    "collapsed": false,
    "ExecuteTime": {
     "end_time": "2023-12-17T10:54:47.990423100Z",
     "start_time": "2023-12-17T10:54:47.850077700Z"
    }
   },
   "id": "6af446918fd185a2"
  },
  {
   "cell_type": "markdown",
   "source": [
    "# Soal 31"
   ],
   "metadata": {
    "collapsed": false
   },
   "id": "7831a761e840196"
  },
  {
   "cell_type": "markdown",
   "source": [
    "Pengambilan keputusan berikut $\\left[ \\left(P \\implies Q\\right) \\land \\neg Q \\right] \\implies \\neg P$ kita kenal dengan\n",
    "\n",
    "a. Modus Ponen\\\n",
    "b. Modus Tollens\\\n",
    "c. Silogisme\\\n",
    "d. Modulo\\\n",
    "e. Tidak ada jawaban yang benar\n",
    "\n",
    "**Jawaban: B**"
   ],
   "metadata": {
    "collapsed": false
   },
   "id": "f3366975796df2ea"
  },
  {
   "cell_type": "code",
   "execution_count": 29,
   "outputs": [],
   "source": [],
   "metadata": {
    "collapsed": false,
    "ExecuteTime": {
     "end_time": "2023-12-17T10:54:48.025873Z",
     "start_time": "2023-12-17T10:54:47.973640400Z"
    }
   },
   "id": "12fc3490207b0539"
  },
  {
   "cell_type": "markdown",
   "source": [
    "# Soal 32"
   ],
   "metadata": {
    "collapsed": false
   },
   "id": "dca7a3480f734b81"
  },
  {
   "cell_type": "markdown",
   "source": [
    "Pengambilan keputusan berikut kita kenal dengan\n",
    "\n",
    "$$\\begin{array}{c} P \\to Q \\\\ P \\\\ \\hline \\therefore Q \\end{array}$$\n",
    "\n",
    "a. Modus Ponen\\\n",
    "b. Modus Tollens\\\n",
    "c. Silogisme\\\n",
    "d. Modulo\\\n",
    "e. Tidak ada jawaban yang benar\n",
    "\n",
    "**Jawaban: A**"
   ],
   "metadata": {
    "collapsed": false
   },
   "id": "2c243c7a1ea4419f"
  },
  {
   "cell_type": "code",
   "execution_count": 29,
   "outputs": [],
   "source": [],
   "metadata": {
    "collapsed": false,
    "ExecuteTime": {
     "end_time": "2023-12-17T10:54:48.223256300Z",
     "start_time": "2023-12-17T10:54:48.024372400Z"
    }
   },
   "id": "fd70593df48d1fba"
  },
  {
   "cell_type": "markdown",
   "source": [
    "# Soal 33"
   ],
   "metadata": {
    "collapsed": false
   },
   "id": "25d1b6252987298d"
  },
  {
   "cell_type": "markdown",
   "source": [
    "Pernyataan berikut yang benar berdasarkan prinsip induksi matematika adalah...\n",
    "\n",
    "a. Jika pernyataan benar untuk $n = 1$, dan benar untuk $n = k$, maka benar untuk $n = k + 1$.\n",
    "b. Jika pernyataan benar untuk $n = 1$, dan benar untuk $n = k$, maka pasti benar untuk $n = k + 2$.\n",
    "c. Jika pernyataan benar untuk $n = 2$, dan benar untuk $n = k$, maka benar untuk $n = k + 1$.\n",
    "d. Jika pernyataan benar untuk $n = 1$, dan benar untuk $n = k$, maka benar untuk $n = k - 1$.\n",
    "e. Jika pernyataan benar untuk $n = 0$, dan benar untuk $n = k$, maka benar untuk $n = k + 1$.\n",
    "\n",
    "**Jawaban: A**"
   ],
   "metadata": {
    "collapsed": false
   },
   "id": "11c467508957a8cd"
  },
  {
   "cell_type": "code",
   "execution_count": 29,
   "outputs": [],
   "source": [],
   "metadata": {
    "collapsed": false,
    "ExecuteTime": {
     "end_time": "2023-12-17T10:54:48.342583900Z",
     "start_time": "2023-12-17T10:54:48.216910800Z"
    }
   },
   "id": "1185b3f1efa5e8d7"
  },
  {
   "cell_type": "markdown",
   "source": [
    "# Soal 34"
   ],
   "metadata": {
    "collapsed": false
   },
   "id": "4e8e2c66d499a5ea"
  },
  {
   "cell_type": "markdown",
   "source": [
    "Proposisi berikut yang bernilai kontradiksi adalah\n",
    "\n",
    "a. $p \\lor \\left(\\neg p\\right)$\\\n",
    "b. $\\left(p \\implies q\\right) \\iff \\left(\\neg p \\lor q\\right)$\\\n",
    "c. $\\left(p \\land q\\right) \\implies \\left(p \\implies q\\right)$\\\n",
    "d. $\\left(p \\land q\\right) \\land \\neg \\left(p \\lor q\\right)$\\\n",
    "e. $p \\lor \\neg \\left(p \\land q\\right)$\n",
    "\n",
    "**Jawaban: D**"
   ],
   "metadata": {
    "collapsed": false
   },
   "id": "4db555e8abc22ec0"
  },
  {
   "cell_type": "code",
   "execution_count": 30,
   "outputs": [
    {
     "data": {
      "text/plain": "(False, False, False, True, False)"
     },
     "execution_count": 30,
     "metadata": {},
     "output_type": "execute_result"
    }
   ],
   "source": [
    "from sympy import symbols, Or, Not, Equivalent, And, Nand, Implies, true, false\n",
    "\n",
    "p, q = symbols('p q')\n",
    "\n",
    "def is_kontradiksi(expr):\n",
    "    t1 = expr.subs({p:true, q:true})\n",
    "    t2 = expr.subs({p:true, q:false})\n",
    "    t3 = expr.subs({p:false, q:true})\n",
    "    t4 = expr.subs({p:false, q:false})\n",
    "    return Nand(t1, Nand(t2, Nand(t3, t4)))\n",
    "\n",
    "a = Or(p, Not(p))\n",
    "b = Equivalent(Implies(p, q), Or(Not(p), q))\n",
    "case = Implies(And(p, q), Implies(p, q))\n",
    "d = And(And(p, q), Not(Or(p, q)))\n",
    "e = Or(p, Not(And(p, q)))\n",
    "\n",
    "is_kontradiksi(a), is_kontradiksi(b), is_kontradiksi(case), is_kontradiksi(d), is_kontradiksi(e)"
   ],
   "metadata": {
    "collapsed": false,
    "ExecuteTime": {
     "end_time": "2023-12-17T10:54:48.442644300Z",
     "start_time": "2023-12-17T10:54:48.312033800Z"
    }
   },
   "id": "73b712496e1a9fb7"
  },
  {
   "cell_type": "markdown",
   "source": [
    "# Soal 35"
   ],
   "metadata": {
    "collapsed": false
   },
   "id": "4362c150575fde6c"
  },
  {
   "cell_type": "markdown",
   "source": [
    "Proposisi berikut yang bernilai tautologi, kecuali\n",
    "\n",
    "a. $p \\lor (\\neg p)$\\\n",
    "b. $(p \\implies q) \\iff (\\neg p \\lor q)$\\\n",
    "c. $(p \\land q) \\implies (p \\implies q)$\\\n",
    "d. $(p \\land q) \\land \\neg (p \\lor q)$\\\n",
    "e. $p \\lor \\neg (p \\land q)$\n",
    "\n",
    "**Jawaban: D**"
   ],
   "metadata": {
    "collapsed": false
   },
   "id": "34a6f7eb83c6640a"
  },
  {
   "cell_type": "code",
   "execution_count": 31,
   "outputs": [
    {
     "data": {
      "text/plain": "(True, True, True, False, True)"
     },
     "execution_count": 31,
     "metadata": {},
     "output_type": "execute_result"
    }
   ],
   "source": [
    "from sympy import symbols, Or, Not, Equivalent, And, Implies, true, false\n",
    "\n",
    "p, q = symbols('p q')\n",
    "\n",
    "def is_tautologi(expr):\n",
    "    t1 = expr.subs({p:true, q:true})\n",
    "    t2 = expr.subs({p:true, q:false})\n",
    "    t3 = expr.subs({p:false, q:true})\n",
    "    t4 = expr.subs({p:false, q:false})\n",
    "    return And(t1, And(t2, And(t3, t4)))\n",
    "\n",
    "a = Or(p, Not(p))\n",
    "b = Equivalent(Implies(p, q), Or(Not(p), q))\n",
    "case = Implies(And(p, q), Implies(p, q))\n",
    "d = And(And(p, q), Not(Or(p, q)))\n",
    "e = Or(p, Not(And(p, q)))\n",
    "\n",
    "is_tautologi(a), is_tautologi(b), is_tautologi(case), is_tautologi(d), is_tautologi(e)"
   ],
   "metadata": {
    "collapsed": false,
    "ExecuteTime": {
     "end_time": "2023-12-17T10:54:48.491938400Z",
     "start_time": "2023-12-17T10:54:48.447714Z"
    }
   },
   "id": "50f823c132fec268"
  },
  {
   "cell_type": "markdown",
   "source": [
    "# Soal 36"
   ],
   "metadata": {
    "collapsed": false
   },
   "id": "924829d472ba9caf"
  },
  {
   "cell_type": "markdown",
   "source": [
    "Sebuah dadu bermata enam {1,2,3,4,5,6} dilempar 3 kali. Berapa banyaknya susunan mata dadu yang jumlanya 15?Contoh mata dadu yang jumlahnya 15 adalah {366, 456, ...}\n",
    "\n",
    "a. 8\\\n",
    "b. 9\\\n",
    "c. 10\\\n",
    "d. 11\\\n",
    "e. 12\n",
    "\n",
    "**Jawaban: C**"
   ],
   "metadata": {
    "collapsed": false
   },
   "id": "e1df1f47a31022b7"
  },
  {
   "cell_type": "code",
   "execution_count": 32,
   "outputs": [
    {
     "name": "stdout",
     "output_type": "stream",
     "text": [
      "3 6 6\n",
      "4 5 6\n",
      "4 6 5\n",
      "5 4 6\n",
      "5 5 5\n",
      "5 6 4\n",
      "6 3 6\n",
      "6 4 5\n",
      "6 5 4\n",
      "6 6 3\n"
     ]
    },
    {
     "data": {
      "text/plain": "10"
     },
     "execution_count": 32,
     "metadata": {},
     "output_type": "execute_result"
    }
   ],
   "source": [
    "dadu = range(1, 7)\n",
    "count = 0\n",
    "for i in dadu:\n",
    "    for j in dadu:\n",
    "        for k in dadu:\n",
    "            if i+j+k == 15:\n",
    "                print(i, j, k)\n",
    "                count += 1\n",
    "\n",
    "count    "
   ],
   "metadata": {
    "collapsed": false,
    "ExecuteTime": {
     "end_time": "2023-12-17T10:54:48.599022400Z",
     "start_time": "2023-12-17T10:54:48.475882600Z"
    }
   },
   "id": "8801a9638f5c1952"
  },
  {
   "cell_type": "markdown",
   "source": [
    "# Soal 37"
   ],
   "metadata": {
    "collapsed": false
   },
   "id": "fecc472f85c12cdf"
  },
  {
   "cell_type": "markdown",
   "source": [
    "Sebuah dek kartu poker standar berisi 52 kartu. Jika satu kartu diambil secara acak, tentukan probabilitas bahwaitu adalah kartu hati *(heart)*.\n",
    "\n",
    "a. $\\frac{1}{6}$\\\n",
    "b. $\\frac{1}{3}$\\\n",
    "c. $\\frac{1}{2}$\\\n",
    "d. $\\frac{1}{4}$\\\n",
    "e. $\\frac{5}{6}$\n",
    "\n",
    "**Jawaban: D**"
   ],
   "metadata": {
    "collapsed": false
   },
   "id": "14090373e3bd39a"
  },
  {
   "cell_type": "code",
   "execution_count": 33,
   "outputs": [
    {
     "data": {
      "text/plain": "1/4",
      "text/latex": "$\\displaystyle \\frac{1}{4}$"
     },
     "execution_count": 33,
     "metadata": {},
     "output_type": "execute_result"
    }
   ],
   "source": [
    "from sympy import Rational\n",
    "\n",
    "total_kartu = 52\n",
    "kartu_hati = 13\n",
    "\n",
    "Rational(kartu_hati, total_kartu)"
   ],
   "metadata": {
    "collapsed": false,
    "ExecuteTime": {
     "end_time": "2023-12-17T10:54:48.669627900Z",
     "start_time": "2023-12-17T10:54:48.601015700Z"
    }
   },
   "id": "32e85dbaf2fb43ef"
  },
  {
   "cell_type": "markdown",
   "source": [
    "# Soal 38"
   ],
   "metadata": {
    "collapsed": false
   },
   "id": "650e479b23390266"
  },
  {
   "cell_type": "markdown",
   "source": [
    "Sebuah kantong berisi 5 bola merah, 4 bola biru, dan 3 bola hijau. Jika satu bola diambil secara acak, tentukan probabilitasnya adalah bola merah atau bola hijau.\n",
    "\n",
    "a. $\\frac{4}{12}$\\\n",
    "b. $\\frac{8}{12}$\\\n",
    "c. $\\frac{10}{12}$\\\n",
    "d. $\\frac{1}{12}$\\\n",
    "e. $\\frac{3}{8}$\n",
    "\n",
    "**Jawaban: B**"
   ],
   "metadata": {
    "collapsed": false
   },
   "id": "ddb28ea30cb54a5b"
  },
  {
   "cell_type": "code",
   "execution_count": 34,
   "outputs": [
    {
     "data": {
      "text/plain": "2/3",
      "text/latex": "$\\displaystyle \\frac{2}{3}$"
     },
     "execution_count": 34,
     "metadata": {},
     "output_type": "execute_result"
    }
   ],
   "source": [
    "from sympy import Rational\n",
    "\n",
    "merah = 5\n",
    "biru = 4\n",
    "hijau = 3\n",
    "total = merah + biru + hijau\n",
    "\n",
    "P_merah = Rational(merah, total)\n",
    "P_hijau = Rational(hijau, total)\n",
    "P_merah + P_hijau"
   ],
   "metadata": {
    "collapsed": false,
    "ExecuteTime": {
     "end_time": "2023-12-17T10:54:48.868253300Z",
     "start_time": "2023-12-17T10:54:48.644924500Z"
    }
   },
   "id": "d50f08a5f0be73a4"
  },
  {
   "cell_type": "markdown",
   "source": [
    "# Soal 39"
   ],
   "metadata": {
    "collapsed": false
   },
   "id": "7b4d46f8d3c34880"
  },
  {
   "cell_type": "markdown",
   "source": [
    "Sebuah koin adil dilempar dua kali. Tentukan probabilitas mendapatkan sekurang-kurangnya satu sisi kepala.\n",
    "\n",
    "a. $\\frac{1}{4}$\\\n",
    "b. $\\frac{3}{4}$\\\n",
    "c. $\\frac{1}{6}$\\\n",
    "d. $\\frac{1}{8}$\\\n",
    "e. $\\frac{3}{8}$\n",
    "\n",
    "**Jawaban: B**"
   ],
   "metadata": {
    "collapsed": false
   },
   "id": "83c40021b5db814b"
  },
  {
   "cell_type": "code",
   "execution_count": 35,
   "outputs": [
    {
     "name": "stdout",
     "output_type": "stream",
     "text": [
      "('Ekor', 'Kepala')\n",
      "('Kepala', 'Kepala')\n",
      "('Kepala', 'Ekor')\n"
     ]
    },
    {
     "data": {
      "text/plain": "3/4",
      "text/latex": "$\\displaystyle \\frac{3}{4}$"
     },
     "execution_count": 35,
     "metadata": {},
     "output_type": "execute_result"
    }
   ],
   "source": [
    "from itertools import product\n",
    "from sympy import Rational\n",
    "\n",
    "case_list = set(product(['Kepala', 'Ekor'], repeat=2))\n",
    "\n",
    "count = 0\n",
    "for case in case_list:\n",
    "    if 'Kepala' in case:\n",
    "        print(case)\n",
    "        count += 1\n",
    "\n",
    "Rational(count, len(case_list))"
   ],
   "metadata": {
    "collapsed": false,
    "ExecuteTime": {
     "end_time": "2023-12-17T10:54:48.975650500Z",
     "start_time": "2023-12-17T10:54:48.873246600Z"
    }
   },
   "id": "12c6c987cbd989fb"
  },
  {
   "cell_type": "markdown",
   "source": [
    "# Soal 40"
   ],
   "metadata": {
    "collapsed": false
   },
   "id": "55afa38473f772d1"
  },
  {
   "cell_type": "markdown",
   "source": [
    "Sebuah relasi $f = \\{\\left(a,3\\right), \\left(b,1\\right), \\left(c,2\\right)\\}$ dari $A = \\{a,b,c\\}$ ke $B = \\{1,2,3,4\\}$ adalah\n",
    "\n",
    "a. Injective\\\n",
    "b. Bijective\\\n",
    "c. Invers\\\n",
    "d. Surjective\\\n",
    "e. Non Vertible\n",
    "\n",
    "**Jawaban: A**"
   ],
   "metadata": {
    "collapsed": false
   },
   "id": "ae3a9ee41535fd7d"
  },
  {
   "cell_type": "code",
   "execution_count": 36,
   "outputs": [
    {
     "data": {
      "text/plain": "(True, False, False, False)"
     },
     "execution_count": 36,
     "metadata": {},
     "output_type": "execute_result"
    }
   ],
   "source": [
    "A = ('a', 'b', 'c')\n",
    "B = (1, 2, 3, 4)\n",
    "relation = (('a',3), ('b',1), ('c',2))\n",
    "\n",
    "def is_function(A, relation):\n",
    "    return len(relation) == len(A) and len(set(a for a, b in relation)) == len(A)\n",
    "\n",
    "def is_injective(A, B, relation):\n",
    "    if not is_function(A, relation):\n",
    "        return False\n",
    "    return len(set(b for a, b in relation)) == len(A)\n",
    "\n",
    "def is_surjective(A, B, relation):\n",
    "    return set(b for a, b in relation) == set(B)\n",
    "\n",
    "def is_bijective(A, B, relation):\n",
    "    return is_injective(A, B, relation) and is_surjective(A, B, relation)\n",
    "\n",
    "def inverse_relation(relation):\n",
    "    if is_bijective(A, B, relation):\n",
    "        return {pair[::-1] for pair in relation}\n",
    "    else:\n",
    "        return False\n",
    "\n",
    "injective_check = is_injective(A, B, relation)\n",
    "surjective_check = is_surjective(A, B, relation)\n",
    "bijective_check = is_bijective(A, B, relation)\n",
    "inverse_rel = inverse_relation(relation)\n",
    "\n",
    "(injective_check, surjective_check, bijective_check, inverse_rel)"
   ],
   "metadata": {
    "collapsed": false,
    "ExecuteTime": {
     "end_time": "2023-12-17T10:54:49.104553400Z",
     "start_time": "2023-12-17T10:54:48.951593200Z"
    }
   },
   "id": "41d1248934237b6e"
  },
  {
   "cell_type": "markdown",
   "source": [
    "# Soal 41"
   ],
   "metadata": {
    "collapsed": false
   },
   "id": "36a21030643e8693"
  },
  {
   "cell_type": "markdown",
   "source": [
    "Suku ke 10 barisan $7, 11, 15, 19, 24, \\ldots$ adalah ...\n",
    "\n",
    "a. 39\\\n",
    "b. 41\\\n",
    "c. 43\\\n",
    "d. 45\\\n",
    "e. 47\n",
    "\n",
    "**Jawaban: C**"
   ],
   "metadata": {
    "collapsed": false
   },
   "id": "89be9429ecbf63f"
  },
  {
   "cell_type": "code",
   "execution_count": 37,
   "outputs": [
    {
     "data": {
      "text/plain": "43"
     },
     "execution_count": 37,
     "metadata": {},
     "output_type": "execute_result"
    }
   ],
   "source": [
    "def get_term_arithmetic(sequence, term):\n",
    "    start = sequence[0]\n",
    "    diff = sequence[1] - start\n",
    "    return start + (term-1) * diff\n",
    "\n",
    "sequence = [7,11,15,19,24]\n",
    "get_term_arithmetic(sequence, 10)"
   ],
   "metadata": {
    "collapsed": false,
    "ExecuteTime": {
     "end_time": "2023-12-17T10:54:49.310036300Z",
     "start_time": "2023-12-17T10:54:49.108500500Z"
    }
   },
   "id": "dc3126ba297343cc"
  },
  {
   "cell_type": "markdown",
   "source": [
    "# Soal 42"
   ],
   "metadata": {
    "collapsed": false
   },
   "id": "37d6d74521d60423"
  },
  {
   "cell_type": "markdown",
   "source": [
    "Suku ke 3 dan suku ke 16 dari barisan aritmetika adalah 13 dan 78, maka beda antar suku adalah ...\n",
    "\n",
    "a. 2\\\n",
    "b. 3\\\n",
    "c. 4\\\n",
    "d. 5\\\n",
    "e. 6\n",
    "\n",
    "**Jawaban: D**"
   ],
   "metadata": {
    "collapsed": false
   },
   "id": "7e9ebe99a9c863e8"
  },
  {
   "cell_type": "code",
   "execution_count": 38,
   "outputs": [
    {
     "data": {
      "text/plain": "5",
      "text/latex": "$\\displaystyle 5$"
     },
     "execution_count": 38,
     "metadata": {},
     "output_type": "execute_result"
    }
   ],
   "source": [
    "from sympy import symbols, Eq, solve\n",
    "\n",
    "a,d = symbols('a d')\n",
    "\n",
    "term_3 = Eq(13, a + 2*d)\n",
    "term_16 = Eq(78, a + 15*d)\n",
    "\n",
    "solve((term_3, term_16), (a,d))[d]"
   ],
   "metadata": {
    "collapsed": false,
    "ExecuteTime": {
     "end_time": "2023-12-17T10:54:49.449441100Z",
     "start_time": "2023-12-17T10:54:49.327680300Z"
    }
   },
   "id": "319ec2ec659bb6ec"
  },
  {
   "cell_type": "markdown",
   "source": [
    "# Soal 43"
   ],
   "metadata": {
    "collapsed": false
   },
   "id": "7dea168af5a97040"
  },
  {
   "cell_type": "markdown",
   "source": [
    "Suku ke 3 dan suku ke 16 dari barisan aritmetika adalah 13 dan 78, maka suku pertama adalah ...\n",
    "\n",
    "a. 2\\\n",
    "b. 3\\\n",
    "c. 4\\\n",
    "d. 5\\\n",
    "e. 6\n",
    "\n",
    "**Jawaban: B**"
   ],
   "metadata": {
    "collapsed": false
   },
   "id": "bd0b3d3ec6a6c1f0"
  },
  {
   "cell_type": "code",
   "execution_count": 39,
   "outputs": [
    {
     "data": {
      "text/plain": "3",
      "text/latex": "$\\displaystyle 3$"
     },
     "execution_count": 39,
     "metadata": {},
     "output_type": "execute_result"
    }
   ],
   "source": [
    "from sympy import symbols, Eq, solve\n",
    "\n",
    "a,d = symbols('a d')\n",
    "\n",
    "term_3 = Eq(13, a + 2*d)\n",
    "term_16 = Eq(78, a + 15*d)\n",
    "\n",
    "solve((term_3, term_16), (a,d))[a]"
   ],
   "metadata": {
    "collapsed": false,
    "ExecuteTime": {
     "end_time": "2023-12-17T10:54:49.540962100Z",
     "start_time": "2023-12-17T10:54:49.423545600Z"
    }
   },
   "id": "7796c2805d5da49f"
  },
  {
   "cell_type": "markdown",
   "source": [
    "# Soal 44"
   ],
   "metadata": {
    "collapsed": false
   },
   "id": "a2dc05363e65ec5a"
  },
  {
   "cell_type": "markdown",
   "source": [
    "Tentukan invers 28 mod 75\n",
    "\n",
    "a. 67\\\n",
    "b. -28\\\n",
    "c. 1\\\n",
    "d. Tidak memiliki invers\\\n",
    "e. 73\n",
    "\n",
    "**Jawaban: A**"
   ],
   "metadata": {
    "collapsed": false
   },
   "id": "28ee9606cdadf64c"
  },
  {
   "cell_type": "code",
   "execution_count": 40,
   "outputs": [
    {
     "data": {
      "text/plain": "67"
     },
     "execution_count": 40,
     "metadata": {},
     "output_type": "execute_result"
    }
   ],
   "source": [
    "from sympy import mod_inverse\n",
    "\n",
    "mod_inverse(28, 75)"
   ],
   "metadata": {
    "collapsed": false,
    "ExecuteTime": {
     "end_time": "2023-12-17T10:54:49.573039400Z",
     "start_time": "2023-12-17T10:54:49.528400900Z"
    }
   },
   "id": "68d8ec3cefb8b8af"
  },
  {
   "cell_type": "markdown",
   "source": [
    "# Soal 45"
   ],
   "metadata": {
    "collapsed": false
   },
   "id": "c6b0931b4d76f53a"
  },
  {
   "cell_type": "markdown",
   "source": [
    "Tentukan invers 3 mod 460\n",
    "\n",
    "a. -153\\\n",
    "b. 307\\\n",
    "c. 1\\\n",
    "d. -3\\\n",
    "e. 460\n",
    "\n",
    "**Jawaban: B**"
   ],
   "metadata": {
    "collapsed": false
   },
   "id": "5c7db056df3e4217"
  },
  {
   "cell_type": "code",
   "execution_count": 41,
   "outputs": [
    {
     "data": {
      "text/plain": "307"
     },
     "execution_count": 41,
     "metadata": {},
     "output_type": "execute_result"
    }
   ],
   "source": [
    "from sympy import mod_inverse\n",
    "\n",
    "mod_inverse(3, 460)"
   ],
   "metadata": {
    "collapsed": false,
    "ExecuteTime": {
     "end_time": "2023-12-17T10:54:49.732877700Z",
     "start_time": "2023-12-17T10:54:49.574922700Z"
    }
   },
   "id": "6c26b983e92ec403"
  },
  {
   "cell_type": "markdown",
   "source": [
    "# Soal 46"
   ],
   "metadata": {
    "collapsed": false
   },
   "id": "c962bde2b73ecacd"
  },
  {
   "cell_type": "markdown",
   "source": [
    "Tentukan konvers dari \"Jika saya rajin belajar, maka saya pandai\"\n",
    "\n",
    "a. Jika saya pandai, maka saya rajin belajar.\\\n",
    "b. Jika saya tidak rajin belajar, maka saya tidak pandai.\\\n",
    "c. Jika saya tidak pandai, maka saya tidak rajin belajar.\\\n",
    "d. Saya tidak pandai\\\n",
    "e. Saya tidak rajin belajar\n",
    "\n",
    "**Jawaban: B**"
   ],
   "metadata": {
    "collapsed": false
   },
   "id": "467f282f1fe7ec30"
  },
  {
   "cell_type": "code",
   "execution_count": 42,
   "outputs": [
    {
     "data": {
      "text/plain": "(False, False, True, False, False)"
     },
     "execution_count": 42,
     "metadata": {},
     "output_type": "execute_result"
    }
   ],
   "source": [
    "from sympy import Implies, Not, symbols\n",
    "\n",
    "# Misal P = Pandai, R = Rajin Belajar\n",
    "\n",
    "P,R = symbols('P R')\n",
    "\n",
    "original = Implies(R, P)\n",
    "\n",
    "a = Implies(P, R)\n",
    "b = Implies(Not(R), Not(P))\n",
    "case = Implies(Not(P), Not(R))\n",
    "d = Not(P)\n",
    "e = Not(R)\n",
    "\n",
    "original.equals(a), original.equals(b), original.equals(case), original.equals(d), original.equals(e)"
   ],
   "metadata": {
    "collapsed": false,
    "ExecuteTime": {
     "end_time": "2023-12-17T10:54:49.836348Z",
     "start_time": "2023-12-17T10:54:49.693829100Z"
    }
   },
   "id": "919e40b9fc3b996e"
  },
  {
   "cell_type": "markdown",
   "source": [
    "# Soal 47"
   ],
   "metadata": {
    "collapsed": false
   },
   "id": "5989d8a8205c2523"
  },
  {
   "cell_type": "markdown",
   "source": [
    "Tentukan $482^{-1} \\mod{1180}$\n",
    "\n",
    "a. 2\\\n",
    "b. 4\\\n",
    "c. 6\\\n",
    "d. Tidak ada\\\n",
    "e. 8\n",
    "\n",
    "**Jawaban: D**"
   ],
   "metadata": {
    "collapsed": false
   },
   "id": "c0d749b9a27228c9"
  },
  {
   "cell_type": "code",
   "execution_count": 1,
   "outputs": [
    {
     "ename": "ValueError",
     "evalue": "inverse of 482 (mod 1180) does not exist",
     "output_type": "error",
     "traceback": [
      "\u001B[1;31m---------------------------------------------------------------------------\u001B[0m",
      "\u001B[1;31mValueError\u001B[0m                                Traceback (most recent call last)",
      "Cell \u001B[1;32mIn[1], line 3\u001B[0m\n\u001B[0;32m      1\u001B[0m \u001B[38;5;28;01mfrom\u001B[39;00m \u001B[38;5;21;01msympy\u001B[39;00m \u001B[38;5;28;01mimport\u001B[39;00m mod_inverse\n\u001B[1;32m----> 3\u001B[0m mod_inverse(\u001B[38;5;241m482\u001B[39m, \u001B[38;5;241m1180\u001B[39m)\n",
      "File \u001B[1;32m~\\anaconda3\\Lib\\site-packages\\sympy\\core\\numbers.py:552\u001B[0m, in \u001B[0;36mmod_inverse\u001B[1;34m(a, m)\u001B[0m\n\u001B[0;32m    550\u001B[0m         c \u001B[38;5;241m=\u001B[39m \u001B[38;5;241m1\u001B[39m\u001B[38;5;241m/\u001B[39ma\n\u001B[0;32m    551\u001B[0m \u001B[38;5;28;01mif\u001B[39;00m c \u001B[38;5;129;01mis\u001B[39;00m \u001B[38;5;28;01mNone\u001B[39;00m:\n\u001B[1;32m--> 552\u001B[0m     \u001B[38;5;28;01mraise\u001B[39;00m \u001B[38;5;167;01mValueError\u001B[39;00m(\u001B[38;5;124m'\u001B[39m\u001B[38;5;124minverse of \u001B[39m\u001B[38;5;132;01m%s\u001B[39;00m\u001B[38;5;124m (mod \u001B[39m\u001B[38;5;132;01m%s\u001B[39;00m\u001B[38;5;124m) does not exist\u001B[39m\u001B[38;5;124m'\u001B[39m \u001B[38;5;241m%\u001B[39m (a, m))\n\u001B[0;32m    553\u001B[0m \u001B[38;5;28;01mreturn\u001B[39;00m c\n",
      "\u001B[1;31mValueError\u001B[0m: inverse of 482 (mod 1180) does not exist"
     ]
    }
   ],
   "source": [
    "from sympy import mod_inverse\n",
    "\n",
    "mod_inverse(482, 1180)"
   ],
   "metadata": {
    "collapsed": false,
    "ExecuteTime": {
     "end_time": "2023-12-17T12:46:47.210117700Z",
     "start_time": "2023-12-17T12:46:45.840504800Z"
    }
   },
   "id": "5b57f25ac34e8626"
  },
  {
   "cell_type": "markdown",
   "source": [
    "# Soal 48"
   ],
   "metadata": {
    "collapsed": false
   },
   "id": "8bf7e308e2d93d6e"
  },
  {
   "cell_type": "markdown",
   "source": [
    "Tentukan nilai ekivalen dari $\\neg \\left[\\neg p \\land \\left(p \\lor q\\right)\\right] \\lor q$\n",
    "\n",
    "a. $\\left( p \\lor q \\right)$\\\n",
    "b. $q$\\\n",
    "c. $\\neg p$\\\n",
    "d. $p \\land q$\\\n",
    "e. $\\neg p \\land q$\n",
    "\n",
    "**Jawaban: TIDAK ADA (True)**"
   ],
   "metadata": {
    "collapsed": false
   },
   "id": "a0bdebbcf31741f1"
  },
  {
   "cell_type": "code",
   "execution_count": 2,
   "outputs": [
    {
     "data": {
      "text/plain": "True",
      "text/latex": "$\\displaystyle \\text{True}$"
     },
     "metadata": {},
     "output_type": "display_data"
    },
    {
     "data": {
      "text/plain": "(False, False, False, False, False)"
     },
     "execution_count": 2,
     "metadata": {},
     "output_type": "execute_result"
    }
   ],
   "source": [
    "from sympy import Not, Or, And, symbols, simplify\n",
    "\n",
    "p,q = symbols('p q')\n",
    "\n",
    "original = Or(Not(And(Not(p), Or(p,q))), q)\n",
    "\n",
    "a = Or(p,q)\n",
    "b = q\n",
    "case = Not(p)\n",
    "d = And(p,q)\n",
    "e = And(Not(p), q)\n",
    "\n",
    "display(simplify(original))\n",
    "original.equals(a), original.equals(b), original.equals(case), original.equals(d), original.equals(e)"
   ],
   "metadata": {
    "collapsed": false,
    "ExecuteTime": {
     "end_time": "2023-12-17T12:46:50.410781800Z",
     "start_time": "2023-12-17T12:46:50.217475100Z"
    }
   },
   "id": "c11df91a89ee8436"
  },
  {
   "cell_type": "markdown",
   "source": [
    "# Soal 49"
   ],
   "metadata": {
    "collapsed": false
   },
   "id": "ecf2d095a90beb49"
  },
  {
   "cell_type": "markdown",
   "source": [
    "Terdapat himpunan huruf AAABBCC akan disusun kode sepanjang 3 (dengan memperhatikan urutan). Contoh kode yang terbentuk AAA, AAB, ... . Tidak terdapat kode BBB karena banyaknya kode B hanya 2. Berapa banyak susunan yang mengandung huruf A?\n",
    "\n",
    "a. 18\\\n",
    "b. 19\\\n",
    "c. 20\\\n",
    "d. 21\\\n",
    "e. 22\n",
    "\n",
    "**Jawaban: B**"
   ],
   "metadata": {
    "collapsed": false
   },
   "id": "c41ff7a05dca6e08"
  },
  {
   "cell_type": "code",
   "execution_count": 3,
   "outputs": [
    {
     "name": "stdout",
     "output_type": "stream",
     "text": [
      "('B', 'A', 'A')\n",
      "('A', 'C', 'A')\n",
      "('C', 'A', 'C')\n",
      "('B', 'C', 'A')\n",
      "('A', 'B', 'B')\n",
      "('B', 'A', 'C')\n",
      "('C', 'C', 'A')\n",
      "('A', 'C', 'C')\n",
      "('A', 'A', 'B')\n",
      "('C', 'A', 'B')\n",
      "('A', 'B', 'A')\n",
      "('B', 'A', 'B')\n",
      "('A', 'A', 'A')\n",
      "('A', 'C', 'B')\n",
      "('B', 'B', 'A')\n",
      "('C', 'B', 'A')\n",
      "('A', 'B', 'C')\n",
      "('C', 'A', 'A')\n",
      "('A', 'A', 'C')\n"
     ]
    },
    {
     "data": {
      "text/plain": "19"
     },
     "execution_count": 3,
     "metadata": {},
     "output_type": "execute_result"
    }
   ],
   "source": [
    "from itertools import permutations\n",
    "\n",
    "himpunan_huruf = \"AAABBCC\"\n",
    "\n",
    "permutations_list = set(permutations(himpunan_huruf, 3))\n",
    "\n",
    "count = 0\n",
    "for p in permutations_list:\n",
    "    if 'A' in p:\n",
    "        print(p)\n",
    "        count += 1\n",
    "\n",
    "count"
   ],
   "metadata": {
    "collapsed": false,
    "ExecuteTime": {
     "end_time": "2023-12-17T12:46:53.305009100Z",
     "start_time": "2023-12-17T12:46:53.234316300Z"
    }
   },
   "id": "8be129c968bc5929"
  },
  {
   "cell_type": "markdown",
   "source": [
    "# Soal 50"
   ],
   "metadata": {
    "collapsed": false
   },
   "id": "9635a32ac1f463ce"
  },
  {
   "cell_type": "markdown",
   "source": [
    "Yang bernilai ekivalent dengan implikasi adalah\n",
    "\n",
    "a. Konvers\\\n",
    "b. Invers\\\n",
    "c. Kontraposisi\\\n",
    "d. Biiimplikasi\\\n",
    "e. Tidak ada yang benar\n",
    "\n",
    "**Jawaban: C**"
   ],
   "metadata": {
    "collapsed": false
   },
   "id": "e7fd91b622dbbd41"
  },
  {
   "cell_type": "code",
   "execution_count": 4,
   "outputs": [
    {
     "data": {
      "text/plain": "(False, False, True, False, False)"
     },
     "execution_count": 4,
     "metadata": {},
     "output_type": "execute_result"
    }
   ],
   "source": [
    "from sympy import symbols, Implies, Equivalent, Not, Or\n",
    "\n",
    "P,Q = symbols('P Q')\n",
    "\n",
    "question = Implies(P, Q)\n",
    "\n",
    "a = Implies(Q, P).equals(question)\n",
    "b = Implies(Not(P), Not(Q)).equals(question)\n",
    "c = Implies(Not(Q), Not(P)).equals(question)\n",
    "d = Equivalent(P, Q).equals(question)\n",
    "e = Not(Or(a, Or(b, Or(c, d))))\n",
    "\n",
    "a, b, c, d, e"
   ],
   "metadata": {
    "collapsed": false,
    "ExecuteTime": {
     "end_time": "2023-12-17T12:46:56.064965900Z",
     "start_time": "2023-12-17T12:46:56.046242100Z"
    }
   },
   "id": "4a26b58531e45cb1"
  }
 ],
 "metadata": {
  "kernelspec": {
   "display_name": "Python 3",
   "language": "python",
   "name": "python3"
  },
  "language_info": {
   "codemirror_mode": {
    "name": "ipython",
    "version": 2
   },
   "file_extension": ".py",
   "mimetype": "text/x-python",
   "name": "python",
   "nbconvert_exporter": "python",
   "pygments_lexer": "ipython2",
   "version": "2.7.6"
  }
 },
 "nbformat": 4,
 "nbformat_minor": 5
}
