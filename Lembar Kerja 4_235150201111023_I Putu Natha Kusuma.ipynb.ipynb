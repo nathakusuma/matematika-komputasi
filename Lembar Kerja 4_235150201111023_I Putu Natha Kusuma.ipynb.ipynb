{
  "nbformat": 4,
  "nbformat_minor": 0,
  "metadata": {
    "colab": {
      "provenance": []
    },
    "kernelspec": {
      "name": "python3",
      "display_name": "Python 3"
    },
    "language_info": {
      "name": "python"
    }
  },
  "cells": [
    {
      "cell_type": "markdown",
      "source": [
        "# **Permutasi (sebanyak $r$ dari $n$ objek)**\n",
        "Susunan yang dibentuk dari anggota suatu himpunan dengan mengambil seluruh atau sebagian anggota himpunan dan **memberi arti** pada urutan anggota dari susunan\n",
        "$$_nP_r = \\frac{n!}{(n-r)!}$$\n"
      ],
      "metadata": {
        "id": "amUGolEgtDyj"
      }
    },
    {
      "cell_type": "code",
      "source": [
        "from sympy.functions.combinatorial.numbers import nP\n",
        "from itertools import permutations\n",
        "\n",
        "\n",
        "# Function untuk mendapatkan setiap nilai dari permutasi\n",
        "def iterate_permutation(items, r):\n",
        "  return set(permutations(items, r))"
      ],
      "metadata": {
        "id": "H4FJ2C7Fy8jQ"
      },
      "execution_count": null,
      "outputs": []
    },
    {
      "cell_type": "markdown",
      "source": [
        "**Contoh 1**\n",
        "\n",
        "Himpunan $\\{a, b, c\\}$\n",
        "\n",
        "diambil 3 anggota, diperoleh susunan:\n",
        "\n",
        "$abc$ ; $acb$ ; $bac$ ; $bca$ ; $cab$ ; $cba$\n",
        "\n",
        "$$_3P_3 = \\frac{3!}{(3-3)!} = 6$$"
      ],
      "metadata": {
        "id": "A_mQIPpXt1tr"
      }
    },
    {
      "cell_type": "code",
      "source": [
        "n = ['a', 'b', 'c']\n",
        "r = 3\n",
        "\n",
        "print(nP(n, r))\n",
        "print(iterate_permutation(n, r))"
      ],
      "metadata": {
        "colab": {
          "base_uri": "https://localhost:8080/"
        },
        "id": "vQ72w46FuLQw",
        "outputId": "7e102a8b-6f95-4434-d3a9-a82dc304fd7a"
      },
      "execution_count": null,
      "outputs": [
        {
          "output_type": "stream",
          "name": "stdout",
          "text": [
            "6\n",
            "{('c', 'b', 'a'), ('a', 'b', 'c'), ('c', 'a', 'b'), ('b', 'a', 'c'), ('b', 'c', 'a'), ('a', 'c', 'b')}\n"
          ]
        }
      ]
    },
    {
      "cell_type": "markdown",
      "source": [
        "**Contoh 2**\n",
        "\n",
        "Himpunan $\\{a, b, c\\}$\n",
        "\n",
        "diambil 2 anggota, diperoleh susunan:\n",
        "\n",
        "$ab$ ; $ba$ ; $bc$ ; $cb$ ; $ac$ ; $ca$\n",
        "\n",
        "$$_3P_2 = \\frac{3!}{(3-2)!} = 6$$"
      ],
      "metadata": {
        "id": "sAKvwC_L0i1E"
      }
    },
    {
      "cell_type": "code",
      "source": [
        "n = ['a', 'b', 'c']\n",
        "r = 2\n",
        "\n",
        "print(nP(n, r))\n",
        "print(iterate_permutation(n, r))"
      ],
      "metadata": {
        "colab": {
          "base_uri": "https://localhost:8080/"
        },
        "outputId": "ea865426-ac5c-40ef-aeef-c95f364332cf",
        "id": "nNKiMKlJ1cJJ"
      },
      "execution_count": null,
      "outputs": [
        {
          "output_type": "stream",
          "name": "stdout",
          "text": [
            "6\n",
            "{('b', 'c'), ('c', 'b'), ('b', 'a'), ('a', 'b'), ('a', 'c'), ('c', 'a')}\n"
          ]
        }
      ]
    },
    {
      "cell_type": "markdown",
      "source": [
        "**Contoh 3**\n",
        "\n",
        "Berapa banyak carakah cabang dari PII menjadwalkan 3 pembicara untuk 3 pertemuan yang berbeda bila mereka hadir pada masing-masing dari 5 janji yang mungkin?\n",
        "\n",
        "Jumlah total jadwal yang mungkin adalah\n",
        "\n",
        "$$_5P_3 = \\frac{5!}{2!} = (5)(4)(3) = 60$$"
      ],
      "metadata": {
        "id": "oYgUg5ba2HFC"
      }
    },
    {
      "cell_type": "code",
      "source": [
        "n = [1,2,3,4,5] # 5\n",
        "r = 3\n",
        "\n",
        "print(nP(n, r))\n",
        "print(iterate_permutation(n, r))"
      ],
      "metadata": {
        "colab": {
          "base_uri": "https://localhost:8080/"
        },
        "outputId": "c309b7d1-a015-4709-f771-e835c62a48fe",
        "id": "CASKiA-82HFI"
      },
      "execution_count": null,
      "outputs": [
        {
          "output_type": "stream",
          "name": "stdout",
          "text": [
            "60\n",
            "{(5, 4, 2), (1, 5, 4), (2, 1, 3), (4, 2, 1), (2, 5, 1), (3, 2, 1), (4, 5, 3), (2, 5, 4), (5, 2, 1), (3, 2, 4), (1, 2, 5), (1, 4, 2), (3, 1, 2), (3, 4, 1), (3, 1, 5), (1, 4, 5), (5, 2, 4), (4, 1, 2), (4, 1, 5), (2, 4, 5), (4, 3, 2), (4, 3, 5), (5, 3, 2), (5, 1, 2), (5, 4, 1), (3, 5, 2), (1, 5, 3), (2, 1, 5), (4, 2, 3), (4, 5, 2), (2, 5, 3), (1, 2, 4), (5, 2, 3), (3, 1, 4), (1, 3, 2), (1, 3, 5), (4, 3, 1), (2, 4, 1), (2, 3, 5), (5, 1, 4), (5, 3, 1), (5, 4, 3), (3, 5, 1), (1, 5, 2), (5, 3, 4), (3, 5, 4), (2, 1, 4), (4, 2, 5), (4, 5, 1), (1, 2, 3), (1, 3, 4), (3, 2, 5), (1, 4, 3), (3, 4, 2), (3, 4, 5), (2, 3, 4), (4, 1, 3), (2, 4, 3), (2, 3, 1), (5, 1, 3)}\n"
          ]
        }
      ]
    },
    {
      "cell_type": "markdown",
      "source": [
        "# **Permutasi (dari $n$ objek yang sama)**\n",
        "\n",
        "Permutasi dari sebagian anggota yang sama. Banyaknya permutasi yang berlainan dari $n$ sampel bila $n_1$ berjenis $I$, $n_2$ berjenis $II$, $\\ldots$, $n_k$ berjenis $k$ diberikan oleh\n",
        "\n",
        "$$\\begin{pmatrix}\n",
        "  & n &\\\\\n",
        "n_1 & n_2 & \\ldots & n_k\n",
        "\\end{pmatrix} = \\frac{n!}{n_1!n_2!\\ldots n_k!}$$"
      ],
      "metadata": {
        "id": "yQ-JEtWW4WYy"
      }
    },
    {
      "cell_type": "code",
      "source": [
        "from sympy import factorial"
      ],
      "metadata": {
        "id": "-CzAQV9OT4wz"
      },
      "execution_count": null,
      "outputs": []
    },
    {
      "cell_type": "markdown",
      "source": [
        "**Contoh 4**\n",
        "\n",
        "Dalam berapa carakah 7 ilmuwan dapat disatukan ke dalam kamar hotel dengan satu kamar tiga tempat tidur dan dengan dua kamar dua tempat tidur?\n",
        "\n",
        "Jumlah total partisi yang mungkin adalah\n",
        "\n",
        "$$\\begin{pmatrix}\n",
        "7\\\\\n",
        "3,2,2\n",
        "\\end{pmatrix} = \\frac{7!}{3!2!2!} = 210$$"
      ],
      "metadata": {
        "id": "zKnEhUgJ-nah"
      }
    },
    {
      "cell_type": "code",
      "source": [
        "n = 7\n",
        "same_objects = [3,2,2]\n",
        "\n",
        "result = factorial(n)\n",
        "for i in same_objects:\n",
        "  result /= factorial(i)\n",
        "print(result)"
      ],
      "metadata": {
        "colab": {
          "base_uri": "https://localhost:8080/"
        },
        "id": "-zv3UvkpTVNp",
        "outputId": "7a74c31f-0cd2-4b8f-f879-ba9c5b28e953"
      },
      "execution_count": null,
      "outputs": [
        {
          "output_type": "stream",
          "name": "stdout",
          "text": [
            "210\n"
          ]
        }
      ]
    },
    {
      "cell_type": "markdown",
      "source": [
        "# **Kombinasi ($r$ dari $n$ objek yang berbeda)**\n",
        "\n",
        "Susunan yang dibentuk dari anggota suatu himpunan dengan mengambil seluruh atau sebagian anggota himpunan dan **tanpa memberi arti** pada urutan anggota dari susunan\n",
        "\n",
        "$$_nC_r = \\begin{pmatrix}\n",
        "n\\\\\n",
        "r\n",
        "\\end{pmatrix} = \\frac{n!}{r!(n-r)!}$$"
      ],
      "metadata": {
        "id": "umW7A2trU14H"
      }
    },
    {
      "cell_type": "code",
      "source": [
        "from sympy.functions.combinatorial.numbers import nC\n",
        "from itertools import combinations\n",
        "\n",
        "# Function untuk mendapatkan setiap nilai dari kombinasi\n",
        "def iterate_combinations(items, r):\n",
        "  return set(combinations(items, r))"
      ],
      "metadata": {
        "id": "iF7RCISFYn3a"
      },
      "execution_count": null,
      "outputs": []
    },
    {
      "cell_type": "markdown",
      "source": [
        "**Contoh 5**\n",
        "\n",
        "himpunan $\\{a,b,c\\}$ diambil 2 anggota,\n",
        "\n",
        "diperoleh susunan: $ab$; $bc$; $ca$\n",
        "\n",
        "{Permutasi $ab$ = $ba$; $bc$ = $cb$; $ca$ = $ac$}\n",
        "\n",
        "$$_3C_2= \\begin{pmatrix}\n",
        "3\\\\\n",
        "2\n",
        "\\end{pmatrix} = \\frac{3!}{2!(3-2)!} = \\frac{3!}{2!1!} =3$$"
      ],
      "metadata": {
        "id": "h_4KZ8l5V2cX"
      }
    },
    {
      "cell_type": "code",
      "source": [
        "n = ['a', 'b', 'c']\n",
        "r = 2\n",
        "\n",
        "print(nC(n, r))\n",
        "print(iterate_combinations(n, r))"
      ],
      "metadata": {
        "colab": {
          "base_uri": "https://localhost:8080/"
        },
        "id": "nhMtiFNmXbBa",
        "outputId": "638a8daf-ad71-4e1c-9cb6-378770171d0c"
      },
      "execution_count": null,
      "outputs": [
        {
          "output_type": "stream",
          "name": "stdout",
          "text": [
            "3\n",
            "{('a', 'c'), ('b', 'c'), ('a', 'b')}\n"
          ]
        }
      ]
    },
    {
      "cell_type": "markdown",
      "source": [
        "**Contoh 6**\n",
        "\n",
        "Ada berapa banyak cara untuk 3 pria, 5 wanita, 4 pemuda dan 4 gadis dapat dipilih dari 7 pria, 9 wanita, 5 pemuda, dan 5 gadis jika:\n",
        "\n",
        "a. Semua orang bebas pada masing-masing kelompok\n",
        "\n",
        "b. Seorang pria dan wanita tertentu harus terpilih\n",
        "\n",
        "c. Seorang pria, 1 wanita, 1 pemuda, dan 1 orang gadis tidak boleh dipilih.\n",
        "Penyelesaian"
      ],
      "metadata": {
        "id": "KMfM7o4SasP4"
      }
    },
    {
      "cell_type": "markdown",
      "source": [
        "**Penyelesaian**\n",
        "\n",
        "a. Semua orang bebas pada masing-masing kelompok\n",
        "\n",
        "Banyak cara = $_7C_3 \\times _9C_5 \\times _5C_4 \\times _5C_4 = 35\\times126\\times5\\times5 = 110250$ cara."
      ],
      "metadata": {
        "id": "7ptK4o2-Ycgd"
      }
    },
    {
      "cell_type": "code",
      "source": [
        "nC(7,3) * nC(9,5) * nC(5,4) * nC(5,4)"
      ],
      "metadata": {
        "colab": {
          "base_uri": "https://localhost:8080/",
          "height": 37
        },
        "id": "89ZwudGgc90h",
        "outputId": "2b819792-78bd-4a42-bf4e-bf1d50e987cf"
      },
      "execution_count": null,
      "outputs": [
        {
          "output_type": "execute_result",
          "data": {
            "text/plain": [
              "110250"
            ],
            "text/latex": "$\\displaystyle 110250$"
          },
          "metadata": {},
          "execution_count": 9
        }
      ]
    },
    {
      "cell_type": "markdown",
      "source": [
        "b. Seorang pria dan wanita tertentu harus terpilih\n",
        "\n",
        "Banyak cara = $_6C_2 \\times _8C_4 \\times _5C_4 \\times _5C_4 = 26250$ cara."
      ],
      "metadata": {
        "id": "Tz7-g-UyYUEa"
      }
    },
    {
      "cell_type": "code",
      "source": [
        "nC(6,2) * nC(8,4) * nC(5,4) * nC(5,4)"
      ],
      "metadata": {
        "id": "URp2CVrpYlBZ",
        "colab": {
          "base_uri": "https://localhost:8080/",
          "height": 37
        },
        "outputId": "b7faa8a2-a93b-4347-c1d0-f150d2ff04c8"
      },
      "execution_count": null,
      "outputs": [
        {
          "output_type": "execute_result",
          "data": {
            "text/plain": [
              "26250"
            ],
            "text/latex": "$\\displaystyle 26250$"
          },
          "metadata": {},
          "execution_count": 13
        }
      ]
    },
    {
      "cell_type": "markdown",
      "source": [
        "c. Seorang pria, 1 wanita, 1 pemuda, dan 1 orang gadis tidak boleh dipilih\n",
        "\n",
        "Banyak cara = $_6C_3 \\times _8C_5 \\times _4C_4 \\times _4C_4 = 20 \\times 56 \\times 1 \\times 1 = 1120$ cara."
      ],
      "metadata": {
        "id": "kvW0QU1SYlbr"
      }
    },
    {
      "cell_type": "code",
      "source": [
        "nC(6,3) * nC(8,5) * nC(4,4) * nC(4,4)"
      ],
      "metadata": {
        "id": "cfTD_XPRYnzr",
        "colab": {
          "base_uri": "https://localhost:8080/",
          "height": 37
        },
        "outputId": "a301911e-4144-4bdb-9006-201f092a4e86"
      },
      "execution_count": null,
      "outputs": [
        {
          "output_type": "execute_result",
          "data": {
            "text/plain": [
              "1120"
            ],
            "text/latex": "$\\displaystyle 1120$"
          },
          "metadata": {},
          "execution_count": 10
        }
      ]
    },
    {
      "cell_type": "markdown",
      "source": [
        "# **Hubungan Permutasi dan Kombinasi**\n",
        "\n",
        "$$_nP_r = r!_nC_r$$ atau $$_nC_r = \\frac{_nP_r}{r!}$$"
      ],
      "metadata": {
        "id": "09O7W8fHNcbc"
      }
    },
    {
      "cell_type": "markdown",
      "source": [
        "**Contoh 7**\n",
        "\n",
        "Tentukan nilai dari permutasi dan kombinasi berikut\n",
        "\n",
        "a. $_5P_3$\n",
        "\n",
        "b. $_5C_3$\n",
        "\n",
        "**Penyelesaian**\n",
        "\n",
        "a. $_5P_3 = 3! _5C_3 = 60$"
      ],
      "metadata": {
        "id": "GojkkawjbFZi"
      }
    },
    {
      "cell_type": "code",
      "source": [
        "n = 5\n",
        "r = 3\n",
        "\n",
        "print(nP(n,r))\n",
        "print(factorial(r)*nC(n,r))"
      ],
      "metadata": {
        "colab": {
          "base_uri": "https://localhost:8080/"
        },
        "id": "wHQTlzhHcBJN",
        "outputId": "29933a8a-4efd-4f15-aa04-5d8eef81099e"
      },
      "execution_count": null,
      "outputs": [
        {
          "output_type": "stream",
          "name": "stdout",
          "text": [
            "60\n",
            "60\n"
          ]
        }
      ]
    },
    {
      "cell_type": "markdown",
      "source": [
        "b. $$_5C_3 = \\frac{_nP_r}{r!} = 10$$"
      ],
      "metadata": {
        "id": "4RSP-vPwcQSY"
      }
    },
    {
      "cell_type": "code",
      "source": [
        "n = 5\n",
        "r = 3\n",
        "\n",
        "print(nC(5,3))\n",
        "print(nP(n,r)/factorial(r))"
      ],
      "metadata": {
        "colab": {
          "base_uri": "https://localhost:8080/"
        },
        "id": "E-VoeA8acdP4",
        "outputId": "945ea180-076f-4b48-c2ba-f3054af0082b"
      },
      "execution_count": null,
      "outputs": [
        {
          "output_type": "stream",
          "name": "stdout",
          "text": [
            "10\n",
            "10\n"
          ]
        }
      ]
    }
  ]
}