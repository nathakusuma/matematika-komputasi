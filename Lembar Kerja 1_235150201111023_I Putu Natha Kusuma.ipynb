{
  "cells": [
    {
      "cell_type": "code",
      "execution_count": null,
      "metadata": {
        "id": "hELBw9liVPKS"
      },
      "outputs": [],
      "source": [
        "1+2"
      ]
    },
    {
      "cell_type": "code",
      "execution_count": null,
      "metadata": {
        "colab": {
          "base_uri": "https://localhost:8080/"
        },
        "id": "76dG5D0WhoEh",
        "outputId": "0aa95e62-2e25-45c2-a799-c7a6c24dda19"
      },
      "outputs": [
        {
          "name": "stdout",
          "output_type": "stream",
          "text": [
            "Ketik angka, lalu ketik mau dipangkatkan berapa!\n",
            "Angka: 2\n",
            "Pangkat: 3\n",
            "2 dipangkatkan dengan 3 hasilnya adalah 8\n"
          ]
        }
      ],
      "source": [
        "# pangkat berdasarkan user input\n",
        "print(\"Ketik angka, lalu ketik mau dipangkatkan berapa!\")\n",
        "num = int(input(\"Angka: \"))\n",
        "power_of = int(input(\"Pangkat: \"))\n",
        "print(num,\"dipangkatkan dengan\",power_of,\"hasilnya adalah\",pow(num,power_of))\n"
      ]
    },
    {
      "cell_type": "code",
      "execution_count": null,
      "metadata": {
        "colab": {
          "base_uri": "https://localhost:8080/"
        },
        "id": "OtnJh26EY-98",
        "outputId": "f8a6a9cf-0064-4493-c4f4-2ae2a52eca32"
      },
      "outputs": [
        {
          "data": {
            "text/plain": [
              "-248499234550706"
            ]
          },
          "execution_count": 2,
          "metadata": {},
          "output_type": "execute_result"
        }
      ],
      "source": [
        "252785289592-248752019840298"
      ]
    },
    {
      "cell_type": "code",
      "execution_count": null,
      "metadata": {
        "colab": {
          "base_uri": "https://localhost:8080/"
        },
        "id": "DjzYiuWtZweI",
        "outputId": "ed18e37d-b2a6-418f-cbb0-4a355ec749a2"
      },
      "outputs": [
        {
          "data": {
            "text/plain": [
              "1024"
            ]
          },
          "execution_count": 6,
          "metadata": {},
          "output_type": "execute_result"
        }
      ],
      "source": [
        "2**10"
      ]
    },
    {
      "cell_type": "code",
      "execution_count": null,
      "metadata": {
        "colab": {
          "base_uri": "https://localhost:8080/"
        },
        "id": "k2ztSzj8a8Pz",
        "outputId": "8c31e704-39d8-404a-a54a-5079d36cfb47"
      },
      "outputs": [
        {
          "data": {
            "text/plain": [
              "3.0"
            ]
          },
          "execution_count": 9,
          "metadata": {},
          "output_type": "execute_result"
        }
      ],
      "source": [
        "pow(9,1/2)"
      ]
    },
    {
      "cell_type": "code",
      "execution_count": null,
      "metadata": {
        "colab": {
          "base_uri": "https://localhost:8080/"
        },
        "id": "d_j3BEC4bUTT",
        "outputId": "15fe4043-e4e0-4904-c622-644e5fdd8380"
      },
      "outputs": [
        {
          "data": {
            "text/plain": [
              "32.0"
            ]
          },
          "execution_count": 12,
          "metadata": {},
          "output_type": "execute_result"
        }
      ],
      "source": [
        "import math\n",
        "\n",
        "math.sqrt(1024)"
      ]
    },
    {
      "cell_type": "markdown",
      "metadata": {
        "id": "g7WymaiQf3Mg"
      },
      "source": [
        "selesaikan soal ini\n",
        "$ \\int_{7}^{3}(x^4+x^2+8)dx $"
      ]
    },
    {
      "cell_type": "code",
      "execution_count": null,
      "metadata": {
        "colab": {
          "background_save": true,
          "base_uri": "https://localhost:8080/"
        },
        "id": "sa4OIz_9jBPA",
        "outputId": "2e2220a6-3ec0-44cb-b45b-0b1312530639"
      },
      "outputs": [
        {
          "name": "stdout",
          "output_type": "stream",
          "text": [
            "PERHATIAN!\n",
            "Hanya bisa dua angka, dan hanya bisa operasi aritmetik sederhana (+,-,/,%,*,root,pow)\n",
            "Untuk akar tidak harus akar pangkat 2\n",
            "\n"
          ]
        }
      ],
      "source": [
        "# pertemuan 1\n",
        "# kalkulator otomatis menentukan operasi yang diminta user\n",
        "\n",
        "import math\n",
        "\n",
        "def input_int(text):\n",
        "  do_while = True\n",
        "  err = False\n",
        "  while do_while or err:\n",
        "    do_while = False\n",
        "    try:\n",
        "      return int(input(text))\n",
        "    except ValueError:\n",
        "      err = True\n",
        "      print(\"Yang bener angkanya!\")\n",
        "\n",
        "operator_list = [\"+\",\"-\",\"/\",\"%\",\"*\",\"root\",\"pow\"]\n",
        "def input_operator():\n",
        "  inp = input(\"Operasi: \")\n",
        "  if(inp not in operator_list):\n",
        "    print(\"Yang bener operasinya!\")\n",
        "    return input_operator()\n",
        "  else:\n",
        "    return inp\n",
        "\n",
        "print(\"PERHATIAN!\\nHanya bisa dua angka, dan hanya bisa operasi aritmetik sederhana (+,-,/,%,*,root,pow)\\nUntuk akar tidak harus akar pangkat 2\\n\")\n",
        "num1 = input_int(\"Angka 1: \")\n",
        "operator = input_operator()\n",
        "num2 = input_int(\"Angka 2: \")\n",
        "\n",
        "def calc(num1, operator, num2):\n",
        "    match operator:\n",
        "\n",
        "      case \"+\":\n",
        "        return num1+num2\n",
        "      case \"-\":\n",
        "        return num1-num2\n",
        "      case \"/\":\n",
        "        return num1/num2\n",
        "      case \"%\":\n",
        "        return num1%num2\n",
        "      case \"*\":\n",
        "        return num1*num2\n",
        "      case \"%\":\n",
        "        return num1%num2\n",
        "      case \"root\":\n",
        "        return math.pow(num1,1.0/num2)\n",
        "      case \"pow\":\n",
        "        return math.pow(num1,num2)\n",
        "\n",
        "print(\"Hasilnya adalah\",calc(num1,operator,num2))"
      ]
    }
  ],
  "metadata": {
    "colab": {
      "provenance": []
    },
    "kernelspec": {
      "display_name": "Python 3",
      "name": "python3"
    },
    "language_info": {
      "name": "python"
    }
  },
  "nbformat": 4,
  "nbformat_minor": 0
}