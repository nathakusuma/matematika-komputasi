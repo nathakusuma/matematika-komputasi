{
 "cells": [
  {
   "cell_type": "markdown",
   "source": [
    "# Soal 1"
   ],
   "metadata": {
    "collapsed": false
   },
   "id": "ba00aee5ac21c90f"
  },
  {
   "cell_type": "markdown",
   "source": [
    "Tentukan hasil akhir dari operasi di bawah ini\n",
    "\n",
    "**(P ⊕ Q) ^ (R ⊕ ~S) => (T ⊕ Q) ⊕ ~T**\n",
    "\n",
    "Jika\n",
    "**P = true, Q = false, R = true, S = true, and T = false**"
   ],
   "metadata": {
    "collapsed": false
   },
   "id": "572c066c094cfe0"
  },
  {
   "cell_type": "code",
   "execution_count": null,
   "outputs": [],
   "source": [],
   "metadata": {
    "collapsed": false
   },
   "id": "11bdf018643f658c"
  },
  {
   "cell_type": "code",
   "execution_count": null,
   "outputs": [],
   "source": [],
   "metadata": {
    "collapsed": false
   },
   "id": "69921c7ebb94d4bf"
  },
  {
   "cell_type": "code",
   "execution_count": null,
   "outputs": [],
   "source": [],
   "metadata": {
    "collapsed": false
   },
   "id": "abfab6b467670962"
  },
  {
   "cell_type": "markdown",
   "source": [
    "# Soal 2"
   ],
   "metadata": {
    "collapsed": false
   },
   "id": "88afc52aeccd5f4c"
  },
  {
   "cell_type": "markdown",
   "source": [
    "Tentukan hasil akhir dari operasi di bawah ini\n",
    "\n",
    "**((~Q \\^ ~R) v (R ⊕ ~Q)) ⊕ (P \\^ (R \\^ ~T))**\n",
    "\n",
    "Jika\n",
    "**P = false, Q = true, R = true, S = false, and T = true**"
   ],
   "metadata": {
    "collapsed": false
   },
   "id": "db643d8e8c923f69"
  },
  {
   "cell_type": "code",
   "execution_count": null,
   "outputs": [],
   "source": [],
   "metadata": {
    "collapsed": false
   },
   "id": "6ba30f814f033d5c"
  },
  {
   "cell_type": "code",
   "execution_count": null,
   "outputs": [],
   "source": [],
   "metadata": {
    "collapsed": false
   },
   "id": "99c147a2de7d3fa2"
  },
  {
   "cell_type": "code",
   "execution_count": null,
   "outputs": [],
   "source": [],
   "metadata": {
    "collapsed": false
   },
   "id": "1e177305a80066c5"
  },
  {
   "cell_type": "markdown",
   "source": [
    "# Soal 3"
   ],
   "metadata": {
    "collapsed": false
   },
   "id": "ed6b5b8e7a7ca509"
  },
  {
   "cell_type": "markdown",
   "source": [
    "Tentukan hasil akhir dari operasi di bawah ini\n",
    "\n",
    "**(~(P v Q) ⊕ (R \\^ ~S)) v ((~T \\^ ~Q) => ~(~R v Q))**\n",
    "\n",
    "Jika\n",
    "**P = true, Q = false, R = false, S = true, and T = true**"
   ],
   "metadata": {
    "collapsed": false
   },
   "id": "25b12eef616e8e7"
  },
  {
   "cell_type": "code",
   "execution_count": null,
   "outputs": [],
   "source": [],
   "metadata": {
    "collapsed": false
   },
   "id": "df7e094a3fcf1cf8"
  },
  {
   "cell_type": "code",
   "execution_count": null,
   "outputs": [],
   "source": [],
   "metadata": {
    "collapsed": false
   },
   "id": "849a888396239677"
  },
  {
   "cell_type": "code",
   "execution_count": null,
   "outputs": [],
   "source": [],
   "metadata": {
    "collapsed": false
   },
   "id": "5b8b499b697f867c"
  },
  {
   "cell_type": "markdown",
   "source": [
    "# Soal 4"
   ],
   "metadata": {
    "collapsed": false
   },
   "id": "61e47a4ade36de7"
  },
  {
   "cell_type": "markdown",
   "source": [
    "Tentukan hasil akhir dari operasi di bawah ini\n",
    "\n",
    "**((P ⊕ Q) \\^ (R ⊕ ~S)) \\^ ~(T \\^ ~Q) \\^ ~R**\n",
    "\n",
    "Jika\n",
    "**P = false, Q = true, R = true, S = false, and T = false**"
   ],
   "metadata": {
    "collapsed": false
   },
   "id": "b1188d3148258c3a"
  },
  {
   "cell_type": "code",
   "execution_count": null,
   "outputs": [],
   "source": [],
   "metadata": {
    "collapsed": false
   },
   "id": "145c7022c50945b5"
  },
  {
   "cell_type": "code",
   "execution_count": null,
   "outputs": [],
   "source": [],
   "metadata": {
    "collapsed": false
   },
   "id": "d829e3af068daa85"
  },
  {
   "cell_type": "code",
   "execution_count": null,
   "outputs": [],
   "source": [],
   "metadata": {
    "collapsed": false
   },
   "id": "2b57d372607c52f2"
  },
  {
   "cell_type": "markdown",
   "source": [
    "# Soal 5"
   ],
   "metadata": {
    "collapsed": false
   },
   "id": "54421f88bca05ee0"
  },
  {
   "cell_type": "markdown",
   "source": [
    "Tentukan hasil akhir dari operasi di bawah ini\n",
    "\n",
    "**(((R => Q) v (Q => R)) \\^ ((~R \\^ ~Q) v (~Q \\^ ~R))) \\^ P**\n",
    "\n",
    "Jika\n",
    "**P = true, Q = true, R = true, S = false, and T = true**"
   ],
   "metadata": {
    "collapsed": false
   },
   "id": "ab03413dd31d3e4f"
  },
  {
   "cell_type": "code",
   "execution_count": null,
   "outputs": [],
   "source": [],
   "metadata": {
    "collapsed": false
   },
   "id": "fec213d15f265a26"
  },
  {
   "cell_type": "code",
   "execution_count": null,
   "outputs": [],
   "source": [],
   "metadata": {
    "collapsed": false
   },
   "id": "2933978f7a8b5861"
  },
  {
   "cell_type": "code",
   "execution_count": null,
   "outputs": [],
   "source": [],
   "metadata": {
    "collapsed": false
   },
   "id": "637479ae701c449c"
  }
 ],
 "metadata": {
  "kernelspec": {
   "display_name": "Python 3",
   "language": "python",
   "name": "python3"
  },
  "language_info": {
   "codemirror_mode": {
    "name": "ipython",
    "version": 2
   },
   "file_extension": ".py",
   "mimetype": "text/x-python",
   "name": "python",
   "nbconvert_exporter": "python",
   "pygments_lexer": "ipython2",
   "version": "2.7.6"
  }
 },
 "nbformat": 4,
 "nbformat_minor": 5
}
