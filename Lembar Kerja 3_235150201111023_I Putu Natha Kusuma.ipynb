{
  "nbformat": 4,
  "nbformat_minor": 0,
  "metadata": {
    "colab": {
      "provenance": []
    },
    "kernelspec": {
      "name": "python3",
      "display_name": "Python 3"
    },
    "language_info": {
      "name": "python"
    }
  },
  "cells": [
    {
      "cell_type": "code",
      "execution_count": null,
      "metadata": {
        "colab": {
          "base_uri": "https://localhost:8080/"
        },
        "id": "0TV-XSXAlets",
        "outputId": "be146560-08d2-4795-b653-96288ee697b9"
      },
      "outputs": [
        {
          "output_type": "execute_result",
          "data": {
            "text/plain": [
              "True"
            ]
          },
          "metadata": {},
          "execution_count": 1
        }
      ],
      "source": [
        "True"
      ]
    },
    {
      "cell_type": "code",
      "source": [
        "True & True"
      ],
      "metadata": {
        "colab": {
          "base_uri": "https://localhost:8080/"
        },
        "id": "A-ImGQRPlnsS",
        "outputId": "84497fee-4196-48b3-d90d-1634cff90d36"
      },
      "execution_count": null,
      "outputs": [
        {
          "output_type": "execute_result",
          "data": {
            "text/plain": [
              "True"
            ]
          },
          "metadata": {},
          "execution_count": 3
        }
      ]
    },
    {
      "cell_type": "code",
      "source": [
        "True | False"
      ],
      "metadata": {
        "colab": {
          "base_uri": "https://localhost:8080/"
        },
        "id": "qp7og7XLmPii",
        "outputId": "b855d2a0-2eb4-4a19-a71a-fc9ef924e8a9"
      },
      "execution_count": null,
      "outputs": [
        {
          "output_type": "execute_result",
          "data": {
            "text/plain": [
              "True"
            ]
          },
          "metadata": {},
          "execution_count": 4
        }
      ]
    },
    {
      "cell_type": "code",
      "source": [
        "True ^ True"
      ],
      "metadata": {
        "colab": {
          "base_uri": "https://localhost:8080/"
        },
        "id": "a-ZAWCBNmXE9",
        "outputId": "b11318a9-9ca3-4304-e069-7c3d76a8f86d"
      },
      "execution_count": null,
      "outputs": [
        {
          "output_type": "execute_result",
          "data": {
            "text/plain": [
              "False"
            ]
          },
          "metadata": {},
          "execution_count": 6
        }
      ]
    },
    {
      "cell_type": "code",
      "source": [
        "not False"
      ],
      "metadata": {
        "colab": {
          "base_uri": "https://localhost:8080/"
        },
        "id": "7Q3ah6Y4meQh",
        "outputId": "5609cbb0-03b9-48bd-ea42-ffade956c67f"
      },
      "execution_count": null,
      "outputs": [
        {
          "output_type": "execute_result",
          "data": {
            "text/plain": [
              "True"
            ]
          },
          "metadata": {},
          "execution_count": 7
        }
      ]
    },
    {
      "cell_type": "code",
      "source": [
        "from sympy import *"
      ],
      "metadata": {
        "id": "TrJU4gEcoeHq"
      },
      "execution_count": null,
      "outputs": []
    },
    {
      "cell_type": "code",
      "source": [
        "Not(False)"
      ],
      "metadata": {
        "colab": {
          "base_uri": "https://localhost:8080/",
          "height": 37
        },
        "id": "5G0GxrLVm6N6",
        "outputId": "4c3e13bc-4d62-4e0f-f26e-14b4e6fb3f69"
      },
      "execution_count": null,
      "outputs": [
        {
          "output_type": "execute_result",
          "data": {
            "text/plain": [
              "True"
            ],
            "text/latex": "$\\displaystyle \\text{True}$"
          },
          "metadata": {},
          "execution_count": 8
        }
      ]
    },
    {
      "cell_type": "code",
      "source": [
        "Xor(True, True)"
      ],
      "metadata": {
        "colab": {
          "base_uri": "https://localhost:8080/",
          "height": 37
        },
        "id": "ic6esnsuoa89",
        "outputId": "a563fe34-0d69-4c7b-f2f6-432b7df8c762"
      },
      "execution_count": null,
      "outputs": [
        {
          "output_type": "execute_result",
          "data": {
            "text/plain": [
              "False"
            ],
            "text/latex": "$\\displaystyle \\text{False}$"
          },
          "metadata": {},
          "execution_count": 10
        }
      ]
    },
    {
      "cell_type": "code",
      "source": [
        "p = Symbol('p')\n",
        "q = Symbol('q')\n",
        "And(p,q)"
      ],
      "metadata": {
        "colab": {
          "base_uri": "https://localhost:8080/",
          "height": 39
        },
        "id": "sVLhlpP1qEst",
        "outputId": "2836e725-efe7-430f-967a-54aa2bbef8da"
      },
      "execution_count": null,
      "outputs": [
        {
          "output_type": "execute_result",
          "data": {
            "text/plain": [
              "p & q"
            ],
            "text/latex": "$\\displaystyle p \\wedge q$"
          },
          "metadata": {},
          "execution_count": 11
        }
      ]
    },
    {
      "cell_type": "code",
      "source": [
        "And(p,q).subs({p:True, q:False})"
      ],
      "metadata": {
        "colab": {
          "base_uri": "https://localhost:8080/",
          "height": 37
        },
        "id": "ku_zKgHWrUBB",
        "outputId": "b40c35af-20b6-49d1-9373-9537bb36df13"
      },
      "execution_count": null,
      "outputs": [
        {
          "output_type": "execute_result",
          "data": {
            "text/plain": [
              "False"
            ],
            "text/latex": "$\\displaystyle \\text{False}$"
          },
          "metadata": {},
          "execution_count": 12
        }
      ]
    },
    {
      "cell_type": "code",
      "source": [
        "expr = Implies(And(Implies(p,q), p), q)\n",
        "expr"
      ],
      "metadata": {
        "colab": {
          "base_uri": "https://localhost:8080/",
          "height": 39
        },
        "id": "xqpWL-DZsMA3",
        "outputId": "4ade611a-2846-4706-d92e-b3f1209877b5"
      },
      "execution_count": null,
      "outputs": [
        {
          "output_type": "execute_result",
          "data": {
            "text/plain": [
              "Implies(p & (Implies(p, q)), q)"
            ],
            "text/latex": "$\\displaystyle \\left(p \\wedge \\left(p \\Rightarrow q\\right)\\right) \\Rightarrow q$"
          },
          "metadata": {},
          "execution_count": 23
        }
      ]
    },
    {
      "cell_type": "code",
      "source": [
        "expr.subs({p:False, q:False})"
      ],
      "metadata": {
        "colab": {
          "base_uri": "https://localhost:8080/",
          "height": 37
        },
        "id": "itlX0Imyt5aV",
        "outputId": "b9403643-3efd-4c1b-879b-dba232381b51"
      },
      "execution_count": null,
      "outputs": [
        {
          "output_type": "execute_result",
          "data": {
            "text/plain": [
              "True"
            ],
            "text/latex": "$\\displaystyle \\text{True}$"
          },
          "metadata": {},
          "execution_count": 24
        }
      ]
    },
    {
      "cell_type": "code",
      "source": [
        "expr.subs({p:False, q:True})"
      ],
      "metadata": {
        "colab": {
          "base_uri": "https://localhost:8080/",
          "height": 37
        },
        "id": "lIEZ9vQCuJeR",
        "outputId": "3d209c47-acd7-440e-d0d3-231ddc2d60f1"
      },
      "execution_count": null,
      "outputs": [
        {
          "output_type": "execute_result",
          "data": {
            "text/plain": [
              "True"
            ],
            "text/latex": "$\\displaystyle \\text{True}$"
          },
          "metadata": {},
          "execution_count": 20
        }
      ]
    },
    {
      "cell_type": "code",
      "source": [
        "expr.subs({p:True, q:False})"
      ],
      "metadata": {
        "colab": {
          "base_uri": "https://localhost:8080/",
          "height": 37
        },
        "id": "RDi_PB1duh7Q",
        "outputId": "27b2809b-d6f9-4d0b-97d0-f356c0f53efc"
      },
      "execution_count": null,
      "outputs": [
        {
          "output_type": "execute_result",
          "data": {
            "text/plain": [
              "True"
            ],
            "text/latex": "$\\displaystyle \\text{True}$"
          },
          "metadata": {},
          "execution_count": 21
        }
      ]
    },
    {
      "cell_type": "code",
      "source": [
        "expr.subs({p:False, q:False})"
      ],
      "metadata": {
        "colab": {
          "base_uri": "https://localhost:8080/",
          "height": 37
        },
        "id": "J4Y-Ku1hunqu",
        "outputId": "13ce765d-191c-4328-8e53-4b0751173cf6"
      },
      "execution_count": null,
      "outputs": [
        {
          "output_type": "execute_result",
          "data": {
            "text/plain": [
              "True"
            ],
            "text/latex": "$\\displaystyle \\text{True}$"
          },
          "metadata": {},
          "execution_count": 22
        }
      ]
    }
  ]
}